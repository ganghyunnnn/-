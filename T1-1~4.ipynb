{
 "cells": [
  {
   "cell_type": "markdown",
   "metadata": {
    "collapsed": true,
    "pycharm": {
     "name": "#%% md\n"
    }
   },
   "source": [
    "## **작업형1 예시문제 (dataq 공식 예제)**\n",
    "\n",
    "- 자동차 데이터 셋에서 qsec 컬럼을 Min-Max Scale로 변환 후 0.5보다 큰 값을 가지는 레코드(row) 수를 묻는 문제입니다.\n",
    "- data 출처: https://www.kaggle.com/ruiromanini/mtcars\n",
    "- data 추가방법 : 우측 메뉴 -> +Add data -> mtcar(ruiromanini) ADD\n",
    "- 영상 링크 : https://youtu.be/E86QFVXPm5Q"
   ]
  },
  {
   "cell_type": "code",
   "execution_count": 34,
   "outputs": [
    {
     "data": {
      "text/plain": "                  model   mpg  cyl   disp   hp  drat     wt   qsec  vs  am  \\\n0             Mazda RX4  21.0    6  160.0  110  3.90  2.620  16.46   0   1   \n1         Mazda RX4 Wag  21.0    6  160.0  110  3.90  2.875  17.02   0   1   \n2            Datsun 710  22.8    4  108.0   93  3.85  2.320  18.61   1   1   \n3        Hornet 4 Drive  21.4    6  258.0  110  3.08  3.215  19.44   1   0   \n4     Hornet Sportabout  18.7    8  360.0  175  3.15  3.440  17.02   0   0   \n5               Valiant  18.1    6  225.0  105  2.76  3.460  20.22   1   0   \n6            Duster 360  14.3    8  360.0  245  3.21  3.570  15.84   0   0   \n7             Merc 240D  24.4    4  146.7   62  3.69  3.190  20.00   1   0   \n8              Merc 230  22.8    4  140.8   95  3.92  3.150  22.90   1   0   \n9              Merc 280  19.2    6  167.6  123  3.92  3.440  18.30   1   0   \n10            Merc 280C  17.8    6  167.6  123  3.92  3.440  18.90   1   0   \n11           Merc 450SE  16.4    8  275.8  180  3.07  4.070  17.40   0   0   \n12           Merc 450SL  17.3    8  275.8  180  3.07  3.730  17.60   0   0   \n13          Merc 450SLC  15.2    8  275.8  180  3.07  3.780  18.00   0   0   \n14   Cadillac Fleetwood  10.4    8  472.0  205  2.93  5.250  17.98   0   0   \n15  Lincoln Continental  10.4    8  460.0  215  3.00  5.424  17.82   0   0   \n16    Chrysler Imperial  14.7    8  440.0  230  3.23  5.345  17.42   0   0   \n17             Fiat 128  32.4    4   78.7   66  4.08  2.200  19.47   1   1   \n18          Honda Civic  30.4    4   75.7   52  4.93  1.615  18.52   1   1   \n19       Toyota Corolla  33.9    4   71.1   65  4.22  1.835  19.90   1   1   \n20        Toyota Corona  21.5    4  120.1   97  3.70  2.465  20.01   1   0   \n21     Dodge Challenger  15.5    8  318.0  150  2.76  3.520  16.87   0   0   \n22          AMC Javelin  15.2    8  304.0  150  3.15  3.435  17.30   0   0   \n23           Camaro Z28  13.3    8  350.0  245  3.73  3.840  15.41   0   0   \n24     Pontiac Firebird  19.2    8  400.0  175  3.08  3.845  17.05   0   0   \n25            Fiat X1-9  27.3    4   79.0   66  4.08  1.935  18.90   1   1   \n26        Porsche 914-2  26.0    4  120.3   91  4.43  2.140  16.70   0   1   \n27         Lotus Europa  30.4    4   95.1  113  3.77  1.513  16.90   1   1   \n28       Ford Pantera L  15.8    8  351.0  264  4.22  3.170  14.50   0   1   \n29         Ferrari Dino  19.7    6  145.0  175  3.62  2.770  15.50   0   1   \n30        Maserati Bora  15.0    8  301.0  335  3.54  3.570  14.60   0   1   \n31           Volvo 142E  21.4    4  121.0  109  4.11  2.780  18.60   1   1   \n\n    gear  carb  \n0      4     4  \n1      4     4  \n2      4     1  \n3      3     1  \n4      3     2  \n5      3     1  \n6      3     4  \n7      4     2  \n8      4     2  \n9      4     4  \n10     4     4  \n11     3     3  \n12     3     3  \n13     3     3  \n14     3     4  \n15     3     4  \n16     3     4  \n17     4     1  \n18     4     2  \n19     4     1  \n20     3     1  \n21     3     2  \n22     3     2  \n23     3     4  \n24     3     2  \n25     4     1  \n26     5     2  \n27     5     2  \n28     5     4  \n29     5     6  \n30     5     8  \n31     4     2  ",
      "text/html": "<div>\n<style scoped>\n    .dataframe tbody tr th:only-of-type {\n        vertical-align: middle;\n    }\n\n    .dataframe tbody tr th {\n        vertical-align: top;\n    }\n\n    .dataframe thead th {\n        text-align: right;\n    }\n</style>\n<table border=\"1\" class=\"dataframe\">\n  <thead>\n    <tr style=\"text-align: right;\">\n      <th></th>\n      <th>model</th>\n      <th>mpg</th>\n      <th>cyl</th>\n      <th>disp</th>\n      <th>hp</th>\n      <th>drat</th>\n      <th>wt</th>\n      <th>qsec</th>\n      <th>vs</th>\n      <th>am</th>\n      <th>gear</th>\n      <th>carb</th>\n    </tr>\n  </thead>\n  <tbody>\n    <tr>\n      <th>0</th>\n      <td>Mazda RX4</td>\n      <td>21.0</td>\n      <td>6</td>\n      <td>160.0</td>\n      <td>110</td>\n      <td>3.90</td>\n      <td>2.620</td>\n      <td>16.46</td>\n      <td>0</td>\n      <td>1</td>\n      <td>4</td>\n      <td>4</td>\n    </tr>\n    <tr>\n      <th>1</th>\n      <td>Mazda RX4 Wag</td>\n      <td>21.0</td>\n      <td>6</td>\n      <td>160.0</td>\n      <td>110</td>\n      <td>3.90</td>\n      <td>2.875</td>\n      <td>17.02</td>\n      <td>0</td>\n      <td>1</td>\n      <td>4</td>\n      <td>4</td>\n    </tr>\n    <tr>\n      <th>2</th>\n      <td>Datsun 710</td>\n      <td>22.8</td>\n      <td>4</td>\n      <td>108.0</td>\n      <td>93</td>\n      <td>3.85</td>\n      <td>2.320</td>\n      <td>18.61</td>\n      <td>1</td>\n      <td>1</td>\n      <td>4</td>\n      <td>1</td>\n    </tr>\n    <tr>\n      <th>3</th>\n      <td>Hornet 4 Drive</td>\n      <td>21.4</td>\n      <td>6</td>\n      <td>258.0</td>\n      <td>110</td>\n      <td>3.08</td>\n      <td>3.215</td>\n      <td>19.44</td>\n      <td>1</td>\n      <td>0</td>\n      <td>3</td>\n      <td>1</td>\n    </tr>\n    <tr>\n      <th>4</th>\n      <td>Hornet Sportabout</td>\n      <td>18.7</td>\n      <td>8</td>\n      <td>360.0</td>\n      <td>175</td>\n      <td>3.15</td>\n      <td>3.440</td>\n      <td>17.02</td>\n      <td>0</td>\n      <td>0</td>\n      <td>3</td>\n      <td>2</td>\n    </tr>\n    <tr>\n      <th>5</th>\n      <td>Valiant</td>\n      <td>18.1</td>\n      <td>6</td>\n      <td>225.0</td>\n      <td>105</td>\n      <td>2.76</td>\n      <td>3.460</td>\n      <td>20.22</td>\n      <td>1</td>\n      <td>0</td>\n      <td>3</td>\n      <td>1</td>\n    </tr>\n    <tr>\n      <th>6</th>\n      <td>Duster 360</td>\n      <td>14.3</td>\n      <td>8</td>\n      <td>360.0</td>\n      <td>245</td>\n      <td>3.21</td>\n      <td>3.570</td>\n      <td>15.84</td>\n      <td>0</td>\n      <td>0</td>\n      <td>3</td>\n      <td>4</td>\n    </tr>\n    <tr>\n      <th>7</th>\n      <td>Merc 240D</td>\n      <td>24.4</td>\n      <td>4</td>\n      <td>146.7</td>\n      <td>62</td>\n      <td>3.69</td>\n      <td>3.190</td>\n      <td>20.00</td>\n      <td>1</td>\n      <td>0</td>\n      <td>4</td>\n      <td>2</td>\n    </tr>\n    <tr>\n      <th>8</th>\n      <td>Merc 230</td>\n      <td>22.8</td>\n      <td>4</td>\n      <td>140.8</td>\n      <td>95</td>\n      <td>3.92</td>\n      <td>3.150</td>\n      <td>22.90</td>\n      <td>1</td>\n      <td>0</td>\n      <td>4</td>\n      <td>2</td>\n    </tr>\n    <tr>\n      <th>9</th>\n      <td>Merc 280</td>\n      <td>19.2</td>\n      <td>6</td>\n      <td>167.6</td>\n      <td>123</td>\n      <td>3.92</td>\n      <td>3.440</td>\n      <td>18.30</td>\n      <td>1</td>\n      <td>0</td>\n      <td>4</td>\n      <td>4</td>\n    </tr>\n    <tr>\n      <th>10</th>\n      <td>Merc 280C</td>\n      <td>17.8</td>\n      <td>6</td>\n      <td>167.6</td>\n      <td>123</td>\n      <td>3.92</td>\n      <td>3.440</td>\n      <td>18.90</td>\n      <td>1</td>\n      <td>0</td>\n      <td>4</td>\n      <td>4</td>\n    </tr>\n    <tr>\n      <th>11</th>\n      <td>Merc 450SE</td>\n      <td>16.4</td>\n      <td>8</td>\n      <td>275.8</td>\n      <td>180</td>\n      <td>3.07</td>\n      <td>4.070</td>\n      <td>17.40</td>\n      <td>0</td>\n      <td>0</td>\n      <td>3</td>\n      <td>3</td>\n    </tr>\n    <tr>\n      <th>12</th>\n      <td>Merc 450SL</td>\n      <td>17.3</td>\n      <td>8</td>\n      <td>275.8</td>\n      <td>180</td>\n      <td>3.07</td>\n      <td>3.730</td>\n      <td>17.60</td>\n      <td>0</td>\n      <td>0</td>\n      <td>3</td>\n      <td>3</td>\n    </tr>\n    <tr>\n      <th>13</th>\n      <td>Merc 450SLC</td>\n      <td>15.2</td>\n      <td>8</td>\n      <td>275.8</td>\n      <td>180</td>\n      <td>3.07</td>\n      <td>3.780</td>\n      <td>18.00</td>\n      <td>0</td>\n      <td>0</td>\n      <td>3</td>\n      <td>3</td>\n    </tr>\n    <tr>\n      <th>14</th>\n      <td>Cadillac Fleetwood</td>\n      <td>10.4</td>\n      <td>8</td>\n      <td>472.0</td>\n      <td>205</td>\n      <td>2.93</td>\n      <td>5.250</td>\n      <td>17.98</td>\n      <td>0</td>\n      <td>0</td>\n      <td>3</td>\n      <td>4</td>\n    </tr>\n    <tr>\n      <th>15</th>\n      <td>Lincoln Continental</td>\n      <td>10.4</td>\n      <td>8</td>\n      <td>460.0</td>\n      <td>215</td>\n      <td>3.00</td>\n      <td>5.424</td>\n      <td>17.82</td>\n      <td>0</td>\n      <td>0</td>\n      <td>3</td>\n      <td>4</td>\n    </tr>\n    <tr>\n      <th>16</th>\n      <td>Chrysler Imperial</td>\n      <td>14.7</td>\n      <td>8</td>\n      <td>440.0</td>\n      <td>230</td>\n      <td>3.23</td>\n      <td>5.345</td>\n      <td>17.42</td>\n      <td>0</td>\n      <td>0</td>\n      <td>3</td>\n      <td>4</td>\n    </tr>\n    <tr>\n      <th>17</th>\n      <td>Fiat 128</td>\n      <td>32.4</td>\n      <td>4</td>\n      <td>78.7</td>\n      <td>66</td>\n      <td>4.08</td>\n      <td>2.200</td>\n      <td>19.47</td>\n      <td>1</td>\n      <td>1</td>\n      <td>4</td>\n      <td>1</td>\n    </tr>\n    <tr>\n      <th>18</th>\n      <td>Honda Civic</td>\n      <td>30.4</td>\n      <td>4</td>\n      <td>75.7</td>\n      <td>52</td>\n      <td>4.93</td>\n      <td>1.615</td>\n      <td>18.52</td>\n      <td>1</td>\n      <td>1</td>\n      <td>4</td>\n      <td>2</td>\n    </tr>\n    <tr>\n      <th>19</th>\n      <td>Toyota Corolla</td>\n      <td>33.9</td>\n      <td>4</td>\n      <td>71.1</td>\n      <td>65</td>\n      <td>4.22</td>\n      <td>1.835</td>\n      <td>19.90</td>\n      <td>1</td>\n      <td>1</td>\n      <td>4</td>\n      <td>1</td>\n    </tr>\n    <tr>\n      <th>20</th>\n      <td>Toyota Corona</td>\n      <td>21.5</td>\n      <td>4</td>\n      <td>120.1</td>\n      <td>97</td>\n      <td>3.70</td>\n      <td>2.465</td>\n      <td>20.01</td>\n      <td>1</td>\n      <td>0</td>\n      <td>3</td>\n      <td>1</td>\n    </tr>\n    <tr>\n      <th>21</th>\n      <td>Dodge Challenger</td>\n      <td>15.5</td>\n      <td>8</td>\n      <td>318.0</td>\n      <td>150</td>\n      <td>2.76</td>\n      <td>3.520</td>\n      <td>16.87</td>\n      <td>0</td>\n      <td>0</td>\n      <td>3</td>\n      <td>2</td>\n    </tr>\n    <tr>\n      <th>22</th>\n      <td>AMC Javelin</td>\n      <td>15.2</td>\n      <td>8</td>\n      <td>304.0</td>\n      <td>150</td>\n      <td>3.15</td>\n      <td>3.435</td>\n      <td>17.30</td>\n      <td>0</td>\n      <td>0</td>\n      <td>3</td>\n      <td>2</td>\n    </tr>\n    <tr>\n      <th>23</th>\n      <td>Camaro Z28</td>\n      <td>13.3</td>\n      <td>8</td>\n      <td>350.0</td>\n      <td>245</td>\n      <td>3.73</td>\n      <td>3.840</td>\n      <td>15.41</td>\n      <td>0</td>\n      <td>0</td>\n      <td>3</td>\n      <td>4</td>\n    </tr>\n    <tr>\n      <th>24</th>\n      <td>Pontiac Firebird</td>\n      <td>19.2</td>\n      <td>8</td>\n      <td>400.0</td>\n      <td>175</td>\n      <td>3.08</td>\n      <td>3.845</td>\n      <td>17.05</td>\n      <td>0</td>\n      <td>0</td>\n      <td>3</td>\n      <td>2</td>\n    </tr>\n    <tr>\n      <th>25</th>\n      <td>Fiat X1-9</td>\n      <td>27.3</td>\n      <td>4</td>\n      <td>79.0</td>\n      <td>66</td>\n      <td>4.08</td>\n      <td>1.935</td>\n      <td>18.90</td>\n      <td>1</td>\n      <td>1</td>\n      <td>4</td>\n      <td>1</td>\n    </tr>\n    <tr>\n      <th>26</th>\n      <td>Porsche 914-2</td>\n      <td>26.0</td>\n      <td>4</td>\n      <td>120.3</td>\n      <td>91</td>\n      <td>4.43</td>\n      <td>2.140</td>\n      <td>16.70</td>\n      <td>0</td>\n      <td>1</td>\n      <td>5</td>\n      <td>2</td>\n    </tr>\n    <tr>\n      <th>27</th>\n      <td>Lotus Europa</td>\n      <td>30.4</td>\n      <td>4</td>\n      <td>95.1</td>\n      <td>113</td>\n      <td>3.77</td>\n      <td>1.513</td>\n      <td>16.90</td>\n      <td>1</td>\n      <td>1</td>\n      <td>5</td>\n      <td>2</td>\n    </tr>\n    <tr>\n      <th>28</th>\n      <td>Ford Pantera L</td>\n      <td>15.8</td>\n      <td>8</td>\n      <td>351.0</td>\n      <td>264</td>\n      <td>4.22</td>\n      <td>3.170</td>\n      <td>14.50</td>\n      <td>0</td>\n      <td>1</td>\n      <td>5</td>\n      <td>4</td>\n    </tr>\n    <tr>\n      <th>29</th>\n      <td>Ferrari Dino</td>\n      <td>19.7</td>\n      <td>6</td>\n      <td>145.0</td>\n      <td>175</td>\n      <td>3.62</td>\n      <td>2.770</td>\n      <td>15.50</td>\n      <td>0</td>\n      <td>1</td>\n      <td>5</td>\n      <td>6</td>\n    </tr>\n    <tr>\n      <th>30</th>\n      <td>Maserati Bora</td>\n      <td>15.0</td>\n      <td>8</td>\n      <td>301.0</td>\n      <td>335</td>\n      <td>3.54</td>\n      <td>3.570</td>\n      <td>14.60</td>\n      <td>0</td>\n      <td>1</td>\n      <td>5</td>\n      <td>8</td>\n    </tr>\n    <tr>\n      <th>31</th>\n      <td>Volvo 142E</td>\n      <td>21.4</td>\n      <td>4</td>\n      <td>121.0</td>\n      <td>109</td>\n      <td>4.11</td>\n      <td>2.780</td>\n      <td>18.60</td>\n      <td>1</td>\n      <td>1</td>\n      <td>4</td>\n      <td>2</td>\n    </tr>\n  </tbody>\n</table>\n</div>"
     },
     "execution_count": 34,
     "metadata": {},
     "output_type": "execute_result"
    }
   ],
   "source": [
    "#EDA\n",
    "import pandas as pd\n",
    "data = pd.read_csv('C:/ganghyun/study/빅분기/data/mtcars.csv')\n",
    "data"
   ],
   "metadata": {
    "collapsed": false,
    "pycharm": {
     "name": "#%%\n"
    }
   }
  },
  {
   "cell_type": "code",
   "execution_count": 35,
   "outputs": [
    {
     "name": "stdout",
     "output_type": "stream",
     "text": [
      "9\n"
     ]
    }
   ],
   "source": [
    "#EDA\n",
    "import pandas as pd\n",
    "from sklearn.preprocessing import minmax_scale\n",
    "\n",
    "data = pd.read_csv('C:/ganghyun/study/빅분기/data/mtcars.csv')\n",
    "data['qsec'] = minmax_scale(data['qsec'])\n",
    "\n",
    "'''\n",
    "# min-max scale\n",
    "def minmax(data):\n",
    "    data = (data - min(data)) / (max(data) - min(data))\n",
    "    return data\n",
    "'''\n",
    "\n",
    "print(len(data[data['qsec']>0.5]))"
   ],
   "metadata": {
    "collapsed": false,
    "pycharm": {
     "name": "#%%\n"
    }
   }
  },
  {
   "cell_type": "markdown",
   "source": [
    "## **T1-1. 이상치를 찾아라(IQR활용) Expected Questions**\n",
    "\n",
    "- 데이터에서 IQR을 활용해 Fare컬럼의 이상치를 찾고, 이상치 데이터의 여성 수를 구하시오\n",
    "- 강의 영상 : https://youtu.be/ipBW5D_UJEo\n",
    "- 데이터셋 : titanic\n",
    "- 오른쪽 상단 copy&edit 클릭 -> 예상문제 풀이 시작\n",
    "- 데이터 위치 \"../input/titanic/train.csv\" (copy&edit가 아닐 경우 별도로 데이터셋 불러와야 함)\n",
    "\n",
    "\n",
    "![nn](pic/T1-1.png)"
   ],
   "metadata": {
    "collapsed": false,
    "pycharm": {
     "name": "#%% md\n"
    }
   }
  },
  {
   "cell_type": "markdown",
   "source": [
    "# **Hint**\n",
    "\n",
    "IQR 구하기\n",
    "pandas 활용\n",
    "Q1 = df[col].quantile(.25)\n",
    "Q3 = df[col].quantile(.75)\n",
    "\n",
    "numpy 활용\n",
    "Q1 = np.percentile(df[col], 25)\n",
    "Q3 = np.percentile(df[col], 75)\n",
    "\n",
    "IQR = Q3 - Q1\n",
    "Q1 - 1.5 * IQR, Q3 + 1.5 * IQR"
   ],
   "metadata": {
    "collapsed": false,
    "pycharm": {
     "name": "#%% md\n"
    }
   }
  },
  {
   "cell_type": "code",
   "execution_count": 36,
   "outputs": [],
   "source": [
    "# 라이브러리 및 데이터 불러오기\n",
    "import pandas as pd\n",
    "import numpy as np\n",
    "\n",
    "df = pd.read_csv('data/train.csv')"
   ],
   "metadata": {
    "collapsed": false,
    "pycharm": {
     "name": "#%%\n"
    }
   }
  },
  {
   "cell_type": "code",
   "execution_count": 37,
   "outputs": [
    {
     "name": "stdout",
     "output_type": "stream",
     "text": [
      "(891, 12)\n",
      "PassengerId      0\n",
      "Survived         0\n",
      "Pclass           0\n",
      "Name             0\n",
      "Sex              0\n",
      "Age            177\n",
      "SibSp            0\n",
      "Parch            0\n",
      "Ticket           0\n",
      "Fare             0\n",
      "Cabin          687\n",
      "Embarked         2\n",
      "dtype: int64\n"
     ]
    },
    {
     "data": {
      "text/plain": "   PassengerId  Survived  Pclass  \\\n0            1         0       3   \n1            2         1       1   \n2            3         1       3   \n3            4         1       1   \n4            5         0       3   \n\n                                                Name     Sex   Age  SibSp  \\\n0                            Braund, Mr. Owen Harris    male  22.0      1   \n1  Cumings, Mrs. John Bradley (Florence Briggs Th...  female  38.0      1   \n2                             Heikkinen, Miss. Laina  female  26.0      0   \n3       Futrelle, Mrs. Jacques Heath (Lily May Peel)  female  35.0      1   \n4                           Allen, Mr. William Henry    male  35.0      0   \n\n   Parch            Ticket     Fare Cabin Embarked  \n0      0         A/5 21171   7.2500   NaN        S  \n1      0          PC 17599  71.2833   C85        C  \n2      0  STON/O2. 3101282   7.9250   NaN        S  \n3      0            113803  53.1000  C123        S  \n4      0            373450   8.0500   NaN        S  ",
      "text/html": "<div>\n<style scoped>\n    .dataframe tbody tr th:only-of-type {\n        vertical-align: middle;\n    }\n\n    .dataframe tbody tr th {\n        vertical-align: top;\n    }\n\n    .dataframe thead th {\n        text-align: right;\n    }\n</style>\n<table border=\"1\" class=\"dataframe\">\n  <thead>\n    <tr style=\"text-align: right;\">\n      <th></th>\n      <th>PassengerId</th>\n      <th>Survived</th>\n      <th>Pclass</th>\n      <th>Name</th>\n      <th>Sex</th>\n      <th>Age</th>\n      <th>SibSp</th>\n      <th>Parch</th>\n      <th>Ticket</th>\n      <th>Fare</th>\n      <th>Cabin</th>\n      <th>Embarked</th>\n    </tr>\n  </thead>\n  <tbody>\n    <tr>\n      <th>0</th>\n      <td>1</td>\n      <td>0</td>\n      <td>3</td>\n      <td>Braund, Mr. Owen Harris</td>\n      <td>male</td>\n      <td>22.0</td>\n      <td>1</td>\n      <td>0</td>\n      <td>A/5 21171</td>\n      <td>7.2500</td>\n      <td>NaN</td>\n      <td>S</td>\n    </tr>\n    <tr>\n      <th>1</th>\n      <td>2</td>\n      <td>1</td>\n      <td>1</td>\n      <td>Cumings, Mrs. John Bradley (Florence Briggs Th...</td>\n      <td>female</td>\n      <td>38.0</td>\n      <td>1</td>\n      <td>0</td>\n      <td>PC 17599</td>\n      <td>71.2833</td>\n      <td>C85</td>\n      <td>C</td>\n    </tr>\n    <tr>\n      <th>2</th>\n      <td>3</td>\n      <td>1</td>\n      <td>3</td>\n      <td>Heikkinen, Miss. Laina</td>\n      <td>female</td>\n      <td>26.0</td>\n      <td>0</td>\n      <td>0</td>\n      <td>STON/O2. 3101282</td>\n      <td>7.9250</td>\n      <td>NaN</td>\n      <td>S</td>\n    </tr>\n    <tr>\n      <th>3</th>\n      <td>4</td>\n      <td>1</td>\n      <td>1</td>\n      <td>Futrelle, Mrs. Jacques Heath (Lily May Peel)</td>\n      <td>female</td>\n      <td>35.0</td>\n      <td>1</td>\n      <td>0</td>\n      <td>113803</td>\n      <td>53.1000</td>\n      <td>C123</td>\n      <td>S</td>\n    </tr>\n    <tr>\n      <th>4</th>\n      <td>5</td>\n      <td>0</td>\n      <td>3</td>\n      <td>Allen, Mr. William Henry</td>\n      <td>male</td>\n      <td>35.0</td>\n      <td>0</td>\n      <td>0</td>\n      <td>373450</td>\n      <td>8.0500</td>\n      <td>NaN</td>\n      <td>S</td>\n    </tr>\n  </tbody>\n</table>\n</div>"
     },
     "execution_count": 37,
     "metadata": {},
     "output_type": "execute_result"
    }
   ],
   "source": [
    "# 간단한 탐색적 데이터 분석 (EDA)\n",
    "print(df.shape)\n",
    "print(df.isnull().sum())\n",
    "df.head()"
   ],
   "metadata": {
    "collapsed": false,
    "pycharm": {
     "name": "#%%\n"
    }
   }
  },
  {
   "cell_type": "code",
   "execution_count": 38,
   "outputs": [],
   "source": [
    "# IQR 구하기\n",
    "Q1 = np.percentile(df['Fare'], 25)\n",
    "Q3 = np.percentile(df['Fare'], 75)\n",
    "\n",
    "IQR = Q3 - Q1\n",
    "outlier1, outlier2 = Q1 - 1.5 * IQR, Q3 + 1.5 * IQR"
   ],
   "metadata": {
    "collapsed": false,
    "pycharm": {
     "name": "#%%\n"
    }
   }
  },
  {
   "cell_type": "code",
   "execution_count": 39,
   "outputs": [
    {
     "name": "stdout",
     "output_type": "stream",
     "text": [
      "116\n",
      "    PassengerId  Survived  Pclass  \\\n",
      "1             2         1       1   \n",
      "27           28         0       1   \n",
      "31           32         1       1   \n",
      "34           35         0       1   \n",
      "52           53         1       1   \n",
      "\n",
      "                                                 Name     Sex   Age  SibSp  \\\n",
      "1   Cumings, Mrs. John Bradley (Florence Briggs Th...  female  38.0      1   \n",
      "27                     Fortune, Mr. Charles Alexander    male  19.0      3   \n",
      "31     Spencer, Mrs. William Augustus (Marie Eugenie)  female   NaN      1   \n",
      "34                            Meyer, Mr. Edgar Joseph    male  28.0      1   \n",
      "52           Harper, Mrs. Henry Sleeper (Myna Haxtun)  female  49.0      1   \n",
      "\n",
      "    Parch    Ticket      Fare        Cabin Embarked  \n",
      "1       0  PC 17599   71.2833          C85        C  \n",
      "27      2     19950  263.0000  C23 C25 C27        S  \n",
      "31      0  PC 17569  146.5208          B78        C  \n",
      "34      0  PC 17604   82.1708          NaN        C  \n",
      "52      0  PC 17572   76.7292          D33        C  \n"
     ]
    }
   ],
   "source": [
    "# 이상치 데이터 구하기\n",
    "outdata = df[(df['Fare']>outlier2) | (df['Fare']<outlier1)]\n",
    "print(len(outdata))\n",
    "print(outdata.head())"
   ],
   "metadata": {
    "collapsed": false,
    "pycharm": {
     "name": "#%%\n"
    }
   }
  },
  {
   "cell_type": "code",
   "execution_count": 40,
   "outputs": [
    {
     "name": "stdout",
     "output_type": "stream",
     "text": [
      "70\n"
     ]
    }
   ],
   "source": [
    "# 이상치 데이터에서 여성 수 구하기, 출력하기 print()\n",
    "print(len(outdata[outdata['Sex']=='female']))"
   ],
   "metadata": {
    "collapsed": false,
    "pycharm": {
     "name": "#%%\n"
    }
   }
  },
  {
   "cell_type": "markdown",
   "source": [
    "## **T1-2. 이상치를 찾아라(소수점 나이) Expected Questions**\n",
    "\n",
    "주어진 데이터에서 이상치(소수점 나이)를 찾고 올림, 내림, 버림(절사)했을때 3가지 모두 이상치 'age' 평균을 구한 다음 모두 더하여 출력하시오\n",
    "- 데이터셋 : basic1.csv\n",
    "- 오른쪽 상단 copy&edit 클릭 -> 예상문제 풀이 시작\n",
    "- 강의 영상 : https://youtu.be/c3Fr9G-ZYdw"
   ],
   "metadata": {
    "collapsed": false,
    "pycharm": {
     "name": "#%% md\n"
    }
   }
  },
  {
   "cell_type": "markdown",
   "source": [
    "## **Hint**\n",
    "\n",
    "- import numpy as np\n",
    "- 올림: np.ceil()\n",
    "- 내림: np.floor()\n",
    "- 버림: np.trunc()\n",
    "\n",
    "쉬어가기 : 내림과 버림의 차이는??\n",
    "- 양수에서는 같지만 음수에서는 -5.5에서 내림을 하면 -6, 버림을하면 -5가 된다."
   ],
   "metadata": {
    "collapsed": false,
    "pycharm": {
     "name": "#%% md\n"
    }
   }
  },
  {
   "cell_type": "code",
   "execution_count": 41,
   "outputs": [
    {
     "data": {
      "text/plain": "     id   age city    f1  f2   f3    f4         f5\n0  id01   2.0   서울   NaN   0  NaN  ENFJ  91.297791\n1  id02   9.0   서울  70.0   1  NaN  ENFJ  60.339826\n2  id03  27.0   서울  61.0   1  NaN  ISTJ  17.252986\n3  id04  75.0   서울   NaN   2  NaN  INFP  52.667078\n4  id05  24.0   서울  85.0   2  NaN  ISFJ  29.269869",
      "text/html": "<div>\n<style scoped>\n    .dataframe tbody tr th:only-of-type {\n        vertical-align: middle;\n    }\n\n    .dataframe tbody tr th {\n        vertical-align: top;\n    }\n\n    .dataframe thead th {\n        text-align: right;\n    }\n</style>\n<table border=\"1\" class=\"dataframe\">\n  <thead>\n    <tr style=\"text-align: right;\">\n      <th></th>\n      <th>id</th>\n      <th>age</th>\n      <th>city</th>\n      <th>f1</th>\n      <th>f2</th>\n      <th>f3</th>\n      <th>f4</th>\n      <th>f5</th>\n    </tr>\n  </thead>\n  <tbody>\n    <tr>\n      <th>0</th>\n      <td>id01</td>\n      <td>2.0</td>\n      <td>서울</td>\n      <td>NaN</td>\n      <td>0</td>\n      <td>NaN</td>\n      <td>ENFJ</td>\n      <td>91.297791</td>\n    </tr>\n    <tr>\n      <th>1</th>\n      <td>id02</td>\n      <td>9.0</td>\n      <td>서울</td>\n      <td>70.0</td>\n      <td>1</td>\n      <td>NaN</td>\n      <td>ENFJ</td>\n      <td>60.339826</td>\n    </tr>\n    <tr>\n      <th>2</th>\n      <td>id03</td>\n      <td>27.0</td>\n      <td>서울</td>\n      <td>61.0</td>\n      <td>1</td>\n      <td>NaN</td>\n      <td>ISTJ</td>\n      <td>17.252986</td>\n    </tr>\n    <tr>\n      <th>3</th>\n      <td>id04</td>\n      <td>75.0</td>\n      <td>서울</td>\n      <td>NaN</td>\n      <td>2</td>\n      <td>NaN</td>\n      <td>INFP</td>\n      <td>52.667078</td>\n    </tr>\n    <tr>\n      <th>4</th>\n      <td>id05</td>\n      <td>24.0</td>\n      <td>서울</td>\n      <td>85.0</td>\n      <td>2</td>\n      <td>NaN</td>\n      <td>ISFJ</td>\n      <td>29.269869</td>\n    </tr>\n  </tbody>\n</table>\n</div>"
     },
     "execution_count": 41,
     "metadata": {},
     "output_type": "execute_result"
    }
   ],
   "source": [
    "# 라이브러리 및 데이터 불러오기\n",
    "import pandas as pd\n",
    "import numpy as np\n",
    "\n",
    "df = pd.read_csv('data/basic1.csv')\n",
    "df.head()"
   ],
   "metadata": {
    "collapsed": false,
    "pycharm": {
     "name": "#%%\n"
    }
   }
  },
  {
   "cell_type": "code",
   "execution_count": 42,
   "outputs": [
    {
     "data": {
      "text/plain": "      id   age city    f1  f2   f3    f4         f5\n6   id07  36.3   서울  60.0   1  NaN  ISFJ   9.796378\n8   id09   3.3   서울  35.0   2  NaN  ESFJ  17.252986\n21  id22  -6.3   부산  72.0   1  NaN  ENFP  52.667078\n28  id29 -13.5   부산  47.0   2  NaN  ENTP  67.886373\n46  id47  34.6   대구  75.0   1  NaN  ESTJ  90.496999\n64  id65  26.5   경기   NaN   0  NaN  ISFP  91.297791\n84  id85  83.6   경기  55.0   0  NaN  INFJ  80.138280\n92  id93  21.8   경기  57.0   0  NaN  ISFP  73.586397",
      "text/html": "<div>\n<style scoped>\n    .dataframe tbody tr th:only-of-type {\n        vertical-align: middle;\n    }\n\n    .dataframe tbody tr th {\n        vertical-align: top;\n    }\n\n    .dataframe thead th {\n        text-align: right;\n    }\n</style>\n<table border=\"1\" class=\"dataframe\">\n  <thead>\n    <tr style=\"text-align: right;\">\n      <th></th>\n      <th>id</th>\n      <th>age</th>\n      <th>city</th>\n      <th>f1</th>\n      <th>f2</th>\n      <th>f3</th>\n      <th>f4</th>\n      <th>f5</th>\n    </tr>\n  </thead>\n  <tbody>\n    <tr>\n      <th>6</th>\n      <td>id07</td>\n      <td>36.3</td>\n      <td>서울</td>\n      <td>60.0</td>\n      <td>1</td>\n      <td>NaN</td>\n      <td>ISFJ</td>\n      <td>9.796378</td>\n    </tr>\n    <tr>\n      <th>8</th>\n      <td>id09</td>\n      <td>3.3</td>\n      <td>서울</td>\n      <td>35.0</td>\n      <td>2</td>\n      <td>NaN</td>\n      <td>ESFJ</td>\n      <td>17.252986</td>\n    </tr>\n    <tr>\n      <th>21</th>\n      <td>id22</td>\n      <td>-6.3</td>\n      <td>부산</td>\n      <td>72.0</td>\n      <td>1</td>\n      <td>NaN</td>\n      <td>ENFP</td>\n      <td>52.667078</td>\n    </tr>\n    <tr>\n      <th>28</th>\n      <td>id29</td>\n      <td>-13.5</td>\n      <td>부산</td>\n      <td>47.0</td>\n      <td>2</td>\n      <td>NaN</td>\n      <td>ENTP</td>\n      <td>67.886373</td>\n    </tr>\n    <tr>\n      <th>46</th>\n      <td>id47</td>\n      <td>34.6</td>\n      <td>대구</td>\n      <td>75.0</td>\n      <td>1</td>\n      <td>NaN</td>\n      <td>ESTJ</td>\n      <td>90.496999</td>\n    </tr>\n    <tr>\n      <th>64</th>\n      <td>id65</td>\n      <td>26.5</td>\n      <td>경기</td>\n      <td>NaN</td>\n      <td>0</td>\n      <td>NaN</td>\n      <td>ISFP</td>\n      <td>91.297791</td>\n    </tr>\n    <tr>\n      <th>84</th>\n      <td>id85</td>\n      <td>83.6</td>\n      <td>경기</td>\n      <td>55.0</td>\n      <td>0</td>\n      <td>NaN</td>\n      <td>INFJ</td>\n      <td>80.138280</td>\n    </tr>\n    <tr>\n      <th>92</th>\n      <td>id93</td>\n      <td>21.8</td>\n      <td>경기</td>\n      <td>57.0</td>\n      <td>0</td>\n      <td>NaN</td>\n      <td>ISFP</td>\n      <td>73.586397</td>\n    </tr>\n  </tbody>\n</table>\n</div>"
     },
     "execution_count": 42,
     "metadata": {},
     "output_type": "execute_result"
    }
   ],
   "source": [
    "# 소수점 데이터 찾기\n",
    "df = df[(df['age'] - np.floor(df['age']) != 0)]\n",
    "df"
   ],
   "metadata": {
    "collapsed": false,
    "pycharm": {
     "name": "#%%\n"
    }
   }
  },
  {
   "cell_type": "code",
   "execution_count": 43,
   "outputs": [
    {
     "name": "stdout",
     "output_type": "stream",
     "text": [
      "23.75 22.75 23.0\n"
     ]
    }
   ],
   "source": [
    "# 이상치를 포함한 데이터 올림, 내림, 버림의 평균값\n",
    "ceil = np.ceil(df['age']).mean() # 올림\n",
    "floor = np.floor(df['age']).mean() # 내림\n",
    "trunc = np.trunc(df['age']).mean() # 버림\n",
    "\n",
    "print(ceil, floor, trunc)"
   ],
   "metadata": {
    "collapsed": false,
    "pycharm": {
     "name": "#%%\n"
    }
   }
  },
  {
   "cell_type": "code",
   "execution_count": 44,
   "outputs": [
    {
     "name": "stdout",
     "output_type": "stream",
     "text": [
      "69.5\n"
     ]
    }
   ],
   "source": [
    "# 평균값 더한 다음 출력\n",
    "print(ceil+floor+trunc)"
   ],
   "metadata": {
    "collapsed": false,
    "pycharm": {
     "name": "#%%\n"
    }
   }
  },
  {
   "cell_type": "markdown",
   "source": [
    "## **T1-3. 결측치 처리(map 활용) Expected Questions**\n",
    "\n",
    "결측치 처리\n",
    "- 주어진 데이터에서 결측치가 80%이상 되는 컬럼은(변수는) 삭제하고, 80% 미만인 결측치가 있는 컬럼은 'city'별 중앙값으로 값을 대체하고 'f1'컬럼의 평균값을 출력하세요!\n",
    "- 데이터셋 : basic1.csv 오른쪽 상단 copy&edit 클릭 -> 예상문제 풀이 시작\n",
    "- 강의 영상 : https://youtu.be/WqlpqBRn7x4"
   ],
   "metadata": {
    "collapsed": false,
    "pycharm": {
     "name": "#%% md\n"
    }
   }
  },
  {
   "cell_type": "code",
   "execution_count": 45,
   "outputs": [
    {
     "data": {
      "text/plain": "     id   age city    f1  f2   f3    f4         f5\n0  id01   2.0   서울   NaN   0  NaN  ENFJ  91.297791\n1  id02   9.0   서울  70.0   1  NaN  ENFJ  60.339826\n2  id03  27.0   서울  61.0   1  NaN  ISTJ  17.252986\n3  id04  75.0   서울   NaN   2  NaN  INFP  52.667078\n4  id05  24.0   서울  85.0   2  NaN  ISFJ  29.269869",
      "text/html": "<div>\n<style scoped>\n    .dataframe tbody tr th:only-of-type {\n        vertical-align: middle;\n    }\n\n    .dataframe tbody tr th {\n        vertical-align: top;\n    }\n\n    .dataframe thead th {\n        text-align: right;\n    }\n</style>\n<table border=\"1\" class=\"dataframe\">\n  <thead>\n    <tr style=\"text-align: right;\">\n      <th></th>\n      <th>id</th>\n      <th>age</th>\n      <th>city</th>\n      <th>f1</th>\n      <th>f2</th>\n      <th>f3</th>\n      <th>f4</th>\n      <th>f5</th>\n    </tr>\n  </thead>\n  <tbody>\n    <tr>\n      <th>0</th>\n      <td>id01</td>\n      <td>2.0</td>\n      <td>서울</td>\n      <td>NaN</td>\n      <td>0</td>\n      <td>NaN</td>\n      <td>ENFJ</td>\n      <td>91.297791</td>\n    </tr>\n    <tr>\n      <th>1</th>\n      <td>id02</td>\n      <td>9.0</td>\n      <td>서울</td>\n      <td>70.0</td>\n      <td>1</td>\n      <td>NaN</td>\n      <td>ENFJ</td>\n      <td>60.339826</td>\n    </tr>\n    <tr>\n      <th>2</th>\n      <td>id03</td>\n      <td>27.0</td>\n      <td>서울</td>\n      <td>61.0</td>\n      <td>1</td>\n      <td>NaN</td>\n      <td>ISTJ</td>\n      <td>17.252986</td>\n    </tr>\n    <tr>\n      <th>3</th>\n      <td>id04</td>\n      <td>75.0</td>\n      <td>서울</td>\n      <td>NaN</td>\n      <td>2</td>\n      <td>NaN</td>\n      <td>INFP</td>\n      <td>52.667078</td>\n    </tr>\n    <tr>\n      <th>4</th>\n      <td>id05</td>\n      <td>24.0</td>\n      <td>서울</td>\n      <td>85.0</td>\n      <td>2</td>\n      <td>NaN</td>\n      <td>ISFJ</td>\n      <td>29.269869</td>\n    </tr>\n  </tbody>\n</table>\n</div>"
     },
     "execution_count": 45,
     "metadata": {},
     "output_type": "execute_result"
    }
   ],
   "source": [
    "# 라이브러리 및 데이터 불러오기\n",
    "import pandas as pd\n",
    "\n",
    "df = pd.read_csv('data/basic1.csv')\n",
    "df.head()"
   ],
   "metadata": {
    "collapsed": false,
    "pycharm": {
     "name": "#%%\n"
    }
   }
  },
  {
   "cell_type": "code",
   "execution_count": 46,
   "outputs": [
    {
     "name": "stdout",
     "output_type": "stream",
     "text": [
      "결측치\n",
      "id       0\n",
      "age      0\n",
      "city     0\n",
      "f1      31\n",
      "f2       0\n",
      "f3      95\n",
      "f4       0\n",
      "f5       0\n",
      "dtype: int64\n",
      "결측치 비율\n",
      "id      0.00\n",
      "age     0.00\n",
      "city    0.00\n",
      "f1      0.31\n",
      "f2      0.00\n",
      "f3      0.95\n",
      "f4      0.00\n",
      "f5      0.00\n",
      "dtype: float64\n"
     ]
    }
   ],
   "source": [
    "# EDA - 결측값 확인(비율 확인)\n",
    "print('결측치')\n",
    "print(df.isnull().sum())\n",
    "print('결측치 비율')\n",
    "print(df.isnull().sum()/df.shape[0])\n",
    "# print(len(df.isnull().sum())/len(df))"
   ],
   "metadata": {
    "collapsed": false,
    "pycharm": {
     "name": "#%%\n"
    }
   }
  },
  {
   "cell_type": "code",
   "execution_count": 47,
   "outputs": [
    {
     "data": {
      "text/plain": "     id   age city    f1  f2    f4         f5\n0  id01   2.0   서울   NaN   0  ENFJ  91.297791\n1  id02   9.0   서울  70.0   1  ENFJ  60.339826\n2  id03  27.0   서울  61.0   1  ISTJ  17.252986\n3  id04  75.0   서울   NaN   2  INFP  52.667078\n4  id05  24.0   서울  85.0   2  ISFJ  29.269869",
      "text/html": "<div>\n<style scoped>\n    .dataframe tbody tr th:only-of-type {\n        vertical-align: middle;\n    }\n\n    .dataframe tbody tr th {\n        vertical-align: top;\n    }\n\n    .dataframe thead th {\n        text-align: right;\n    }\n</style>\n<table border=\"1\" class=\"dataframe\">\n  <thead>\n    <tr style=\"text-align: right;\">\n      <th></th>\n      <th>id</th>\n      <th>age</th>\n      <th>city</th>\n      <th>f1</th>\n      <th>f2</th>\n      <th>f4</th>\n      <th>f5</th>\n    </tr>\n  </thead>\n  <tbody>\n    <tr>\n      <th>0</th>\n      <td>id01</td>\n      <td>2.0</td>\n      <td>서울</td>\n      <td>NaN</td>\n      <td>0</td>\n      <td>ENFJ</td>\n      <td>91.297791</td>\n    </tr>\n    <tr>\n      <th>1</th>\n      <td>id02</td>\n      <td>9.0</td>\n      <td>서울</td>\n      <td>70.0</td>\n      <td>1</td>\n      <td>ENFJ</td>\n      <td>60.339826</td>\n    </tr>\n    <tr>\n      <th>2</th>\n      <td>id03</td>\n      <td>27.0</td>\n      <td>서울</td>\n      <td>61.0</td>\n      <td>1</td>\n      <td>ISTJ</td>\n      <td>17.252986</td>\n    </tr>\n    <tr>\n      <th>3</th>\n      <td>id04</td>\n      <td>75.0</td>\n      <td>서울</td>\n      <td>NaN</td>\n      <td>2</td>\n      <td>INFP</td>\n      <td>52.667078</td>\n    </tr>\n    <tr>\n      <th>4</th>\n      <td>id05</td>\n      <td>24.0</td>\n      <td>서울</td>\n      <td>85.0</td>\n      <td>2</td>\n      <td>ISFJ</td>\n      <td>29.269869</td>\n    </tr>\n  </tbody>\n</table>\n</div>"
     },
     "execution_count": 47,
     "metadata": {},
     "output_type": "execute_result"
    }
   ],
   "source": [
    "# f3 칼럼 삭제\n",
    "df = df.drop(['f3'], axis=1)\n",
    "df.head()"
   ],
   "metadata": {
    "collapsed": false,
    "pycharm": {
     "name": "#%%\n"
    }
   }
  },
  {
   "cell_type": "code",
   "execution_count": 48,
   "outputs": [
    {
     "data": {
      "text/plain": "(68.0, 58.0, 62.0, 75.0)"
     },
     "execution_count": 48,
     "metadata": {},
     "output_type": "execute_result"
    }
   ],
   "source": [
    "# 도시별 중앙값 계산\n",
    "s = df[df['city']=='서울']['f1'].median()\n",
    "k = df[df['city']=='경기']['f1'].median()\n",
    "b = df[df['city']=='부산']['f1'].median()\n",
    "d = df[df['city']=='대구']['f1'].median()\n",
    "s, k, b, d"
   ],
   "metadata": {
    "collapsed": false,
    "pycharm": {
     "name": "#%%\n"
    }
   }
  },
  {
   "cell_type": "code",
   "execution_count": 49,
   "outputs": [],
   "source": [
    "# 결측치 중앙값으로 대체\n",
    "df['f1'] = df['f1'].fillna(df['city'].map({'서울':s, '경기':k, '부산':b, '대구':d}))"
   ],
   "metadata": {
    "collapsed": false,
    "pycharm": {
     "name": "#%%\n"
    }
   }
  },
  {
   "cell_type": "code",
   "execution_count": 50,
   "outputs": [
    {
     "name": "stdout",
     "output_type": "stream",
     "text": [
      "65.52\n"
     ]
    }
   ],
   "source": [
    "# f1 평균값 결과 출력\n",
    "print(df['f1'].mean())"
   ],
   "metadata": {
    "collapsed": false,
    "pycharm": {
     "name": "#%%\n"
    }
   }
  },
  {
   "cell_type": "markdown",
   "source": [
    "## **T1-4. 왜도와 첨도 구하기 (로그스케일) Expected Questions**\n",
    "\n",
    "왜도와 첨도 구하기\n",
    "- 주어진 데이터 중 train.csv에서 'SalePrice'컬럼의 왜도와 첨도를 구한 값과, 'SalePrice'컬럼을 스케일링(log1p)로 변환한 이후 왜도와 첨도를 구해 모두 더한 다음 소수점 2째자리까지 출력하시오\n",
    "- 데이터셋 : House Prices - Advanced Regression Technique (https://www.kaggle.com/c/house-prices-advanced-regression-techniques)\n",
    "- 오른쪽 상단 copy&edit 클릭 -> 예상문제 풀이 시작\n",
    "- 강의 영상 : https://youtu.be/_ft7ZlDlk7c\n",
    "\n",
    "왜도\n",
    "비대칭도(非對稱度, skewness) 또는 왜도(歪度)는 실수 값 확률 변수의 확률 분포 비대칭성을 나타내는 지표이다. 왜도의 값은 양수나 음수가 될 수 있으며 정의되지 않을 수도 있다. 왜도가 음수일 경우에는 확률밀도함수의 왼쪽 부분에 긴 꼬리를 가지며 중앙값을 포함한 자료가 오른쪽에 더 많이 분포해 있다. 왜도가 양수일 때는 확률밀도함수의 오른쪽 부분에 긴 꼬리를 가지며 자료가 왼쪽에 더 많이 분포해 있다는 것을 나타낸다. 평균과 중앙값이 같으면 왜도는 0이 된다.\n",
    "\n",
    "![nn](pic/T1-4.png)\n",
    "\n",
    "**위키백과 https://ko.wikipedia.org/wiki/%EB%B9%84%EB%8C%80%EC%B9%AD%EB%8F%84\n",
    "\n",
    "첨도\n",
    "확률분포의 꼬리가 두꺼운 정도를 나타내는 척도이다. 극단적인 편차 또는 이상치가 많을 수록 큰 값을 나타낸다. 첨도값(K)이 3에 가까우면 산포도가 정규분포에 가깝다. 3보다 작을 경우에는(K<3) 산포는 정규분포보다 꼬리가 얇은 분포로 생각할 수 있다, 첨도값이 3보다 큰 양수이면(K>3) 정규분포보다 꼬리가 두꺼운 분포로 판단할 수 있다.\n",
    "\n",
    "# Hint\n",
    "- DataFrame.skew() 왜도\n",
    "- DataFrame.kurt() 첨도"
   ],
   "metadata": {
    "collapsed": false,
    "pycharm": {
     "name": "#%% md\n"
    }
   }
  },
  {
   "cell_type": "code",
   "source": [
    "# 라이브러리 및 데이터 불러오기\n",
    "import pandas as pd\n",
    "import numpy as np\n",
    "\n",
    "df = pd.read_csv('data/T1-4.csv')\n",
    "df.head()"
   ],
   "metadata": {
    "collapsed": false,
    "pycharm": {
     "name": "#%%\n"
    }
   },
   "execution_count": 51,
   "outputs": [
    {
     "data": {
      "text/plain": "   Id  MSSubClass MSZoning  LotFrontage  LotArea Street Alley LotShape  \\\n0   1          60       RL         65.0     8450   Pave   NaN      Reg   \n1   2          20       RL         80.0     9600   Pave   NaN      Reg   \n2   3          60       RL         68.0    11250   Pave   NaN      IR1   \n3   4          70       RL         60.0     9550   Pave   NaN      IR1   \n4   5          60       RL         84.0    14260   Pave   NaN      IR1   \n\n  LandContour Utilities  ... PoolArea PoolQC Fence MiscFeature MiscVal MoSold  \\\n0         Lvl    AllPub  ...        0    NaN   NaN         NaN       0      2   \n1         Lvl    AllPub  ...        0    NaN   NaN         NaN       0      5   \n2         Lvl    AllPub  ...        0    NaN   NaN         NaN       0      9   \n3         Lvl    AllPub  ...        0    NaN   NaN         NaN       0      2   \n4         Lvl    AllPub  ...        0    NaN   NaN         NaN       0     12   \n\n  YrSold  SaleType  SaleCondition  SalePrice  \n0   2008        WD         Normal     208500  \n1   2007        WD         Normal     181500  \n2   2008        WD         Normal     223500  \n3   2006        WD        Abnorml     140000  \n4   2008        WD         Normal     250000  \n\n[5 rows x 81 columns]",
      "text/html": "<div>\n<style scoped>\n    .dataframe tbody tr th:only-of-type {\n        vertical-align: middle;\n    }\n\n    .dataframe tbody tr th {\n        vertical-align: top;\n    }\n\n    .dataframe thead th {\n        text-align: right;\n    }\n</style>\n<table border=\"1\" class=\"dataframe\">\n  <thead>\n    <tr style=\"text-align: right;\">\n      <th></th>\n      <th>Id</th>\n      <th>MSSubClass</th>\n      <th>MSZoning</th>\n      <th>LotFrontage</th>\n      <th>LotArea</th>\n      <th>Street</th>\n      <th>Alley</th>\n      <th>LotShape</th>\n      <th>LandContour</th>\n      <th>Utilities</th>\n      <th>...</th>\n      <th>PoolArea</th>\n      <th>PoolQC</th>\n      <th>Fence</th>\n      <th>MiscFeature</th>\n      <th>MiscVal</th>\n      <th>MoSold</th>\n      <th>YrSold</th>\n      <th>SaleType</th>\n      <th>SaleCondition</th>\n      <th>SalePrice</th>\n    </tr>\n  </thead>\n  <tbody>\n    <tr>\n      <th>0</th>\n      <td>1</td>\n      <td>60</td>\n      <td>RL</td>\n      <td>65.0</td>\n      <td>8450</td>\n      <td>Pave</td>\n      <td>NaN</td>\n      <td>Reg</td>\n      <td>Lvl</td>\n      <td>AllPub</td>\n      <td>...</td>\n      <td>0</td>\n      <td>NaN</td>\n      <td>NaN</td>\n      <td>NaN</td>\n      <td>0</td>\n      <td>2</td>\n      <td>2008</td>\n      <td>WD</td>\n      <td>Normal</td>\n      <td>208500</td>\n    </tr>\n    <tr>\n      <th>1</th>\n      <td>2</td>\n      <td>20</td>\n      <td>RL</td>\n      <td>80.0</td>\n      <td>9600</td>\n      <td>Pave</td>\n      <td>NaN</td>\n      <td>Reg</td>\n      <td>Lvl</td>\n      <td>AllPub</td>\n      <td>...</td>\n      <td>0</td>\n      <td>NaN</td>\n      <td>NaN</td>\n      <td>NaN</td>\n      <td>0</td>\n      <td>5</td>\n      <td>2007</td>\n      <td>WD</td>\n      <td>Normal</td>\n      <td>181500</td>\n    </tr>\n    <tr>\n      <th>2</th>\n      <td>3</td>\n      <td>60</td>\n      <td>RL</td>\n      <td>68.0</td>\n      <td>11250</td>\n      <td>Pave</td>\n      <td>NaN</td>\n      <td>IR1</td>\n      <td>Lvl</td>\n      <td>AllPub</td>\n      <td>...</td>\n      <td>0</td>\n      <td>NaN</td>\n      <td>NaN</td>\n      <td>NaN</td>\n      <td>0</td>\n      <td>9</td>\n      <td>2008</td>\n      <td>WD</td>\n      <td>Normal</td>\n      <td>223500</td>\n    </tr>\n    <tr>\n      <th>3</th>\n      <td>4</td>\n      <td>70</td>\n      <td>RL</td>\n      <td>60.0</td>\n      <td>9550</td>\n      <td>Pave</td>\n      <td>NaN</td>\n      <td>IR1</td>\n      <td>Lvl</td>\n      <td>AllPub</td>\n      <td>...</td>\n      <td>0</td>\n      <td>NaN</td>\n      <td>NaN</td>\n      <td>NaN</td>\n      <td>0</td>\n      <td>2</td>\n      <td>2006</td>\n      <td>WD</td>\n      <td>Abnorml</td>\n      <td>140000</td>\n    </tr>\n    <tr>\n      <th>4</th>\n      <td>5</td>\n      <td>60</td>\n      <td>RL</td>\n      <td>84.0</td>\n      <td>14260</td>\n      <td>Pave</td>\n      <td>NaN</td>\n      <td>IR1</td>\n      <td>Lvl</td>\n      <td>AllPub</td>\n      <td>...</td>\n      <td>0</td>\n      <td>NaN</td>\n      <td>NaN</td>\n      <td>NaN</td>\n      <td>0</td>\n      <td>12</td>\n      <td>2008</td>\n      <td>WD</td>\n      <td>Normal</td>\n      <td>250000</td>\n    </tr>\n  </tbody>\n</table>\n<p>5 rows × 81 columns</p>\n</div>"
     },
     "execution_count": 51,
     "metadata": {},
     "output_type": "execute_result"
    }
   ]
  },
  {
   "cell_type": "code",
   "execution_count": 52,
   "outputs": [
    {
     "data": {
      "text/plain": "(1.8828757597682129, 6.536281860064529)"
     },
     "execution_count": 52,
     "metadata": {},
     "output_type": "execute_result"
    }
   ],
   "source": [
    "# 'SalePrice'컬럼 왜도와 첨도계산\n",
    "# print(dir(DataFrame)) # 함수 확인\n",
    "s1 = df['SalePrice'].skew() # 왜도\n",
    "k1 = df['SalePrice'].kurt() # 첨도\n",
    "s1, k1"
   ],
   "metadata": {
    "collapsed": false,
    "pycharm": {
     "name": "#%%\n"
    }
   }
  },
  {
   "cell_type": "code",
   "execution_count": 53,
   "outputs": [],
   "source": [
    "# 'SalePrice'컬럼 로그변환\n",
    "df['SalePrice'] = np.log1p(df['SalePrice']) # 로그 변환"
   ],
   "metadata": {
    "collapsed": false,
    "pycharm": {
     "name": "#%%\n"
    }
   }
  },
  {
   "cell_type": "code",
   "execution_count": 54,
   "outputs": [
    {
     "data": {
      "text/plain": "(0.12134661989685333, 0.809519155707878)"
     },
     "execution_count": 54,
     "metadata": {},
     "output_type": "execute_result"
    }
   ],
   "source": [
    "# 'SalePrice'컬럼 왜도와 첨도계산\n",
    "s2 = df['SalePrice'].skew() # 왜도\n",
    "k2 = df['SalePrice'].kurt() # 첨도\n",
    "s2, k2"
   ],
   "metadata": {
    "collapsed": false,
    "pycharm": {
     "name": "#%%\n"
    }
   }
  },
  {
   "cell_type": "code",
   "execution_count": 55,
   "outputs": [
    {
     "name": "stdout",
     "output_type": "stream",
     "text": [
      "9.35\n"
     ]
    }
   ],
   "source": [
    "# 모두 더한 다음 출력\n",
    "print(round(s1+s2+k1+k2,2))"
   ],
   "metadata": {
    "collapsed": false,
    "pycharm": {
     "name": "#%%\n"
    }
   }
  }
 ],
 "metadata": {
  "kernelspec": {
   "display_name": "Python 3",
   "language": "python",
   "name": "python3"
  },
  "language_info": {
   "codemirror_mode": {
    "name": "ipython",
    "version": 2
   },
   "file_extension": ".py",
   "mimetype": "text/x-python",
   "name": "python",
   "nbconvert_exporter": "python",
   "pygments_lexer": "ipython2",
   "version": "2.7.6"
  }
 },
 "nbformat": 4,
 "nbformat_minor": 0
}