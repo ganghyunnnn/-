{
 "cells": [
  {
   "cell_type": "markdown",
   "metadata": {
    "collapsed": true,
    "pycharm": {
     "name": "#%% md\n"
    }
   },
   "source": [
    "## **T1-6. 결측치 제거 및 그룹 합계 Expected Questions**\n",
    "\n",
    "결측치 제거 및 그룹 합계에서 조건에 맞는 값 찾아 출력\n",
    "- 주어진 데이터 중 basic1.csv에서 'f1'컬럼 결측 데이터를 제거하고, 'city'와 'f2'을 기준으로 묶어 합계를 구하고, 'city'가 경기이면서 f2가 0인 조건에 만족하는 f1 값을 구하시오\n",
    "- 데이터셋 : basic1.csv\n",
    "- 오른쪽 상단 copy&edit 클릭 -> 예상문제 풀이 시작"
   ]
  },
  {
   "cell_type": "code",
   "execution_count": 11,
   "outputs": [
    {
     "data": {
      "text/plain": "       id    age city    f1  f2   f3    f4         f5\n0    id01    2.0   서울   NaN   0  NaN  ENFJ  91.297791\n1    id02    9.0   서울  70.0   1  NaN  ENFJ  60.339826\n2    id03   27.0   서울  61.0   1  NaN  ISTJ  17.252986\n3    id04   75.0   서울   NaN   2  NaN  INFP  52.667078\n4    id05   24.0   서울  85.0   2  NaN  ISFJ  29.269869\n..    ...    ...  ...   ...  ..  ...   ...        ...\n95   id96   92.0   경기  53.0   1  NaN  ENTJ  52.667078\n96   id97  100.0   경기   NaN   0  NaN  INFP  67.886373\n97   id98   39.0   경기  58.0   2  NaN  INFP  98.429899\n98   id99    1.0   경기  47.0   0  NaN  ESFJ  97.381034\n99  id100   47.0   경기  53.0   0  vip  ESFP  33.308999\n\n[100 rows x 8 columns]",
      "text/html": "<div>\n<style scoped>\n    .dataframe tbody tr th:only-of-type {\n        vertical-align: middle;\n    }\n\n    .dataframe tbody tr th {\n        vertical-align: top;\n    }\n\n    .dataframe thead th {\n        text-align: right;\n    }\n</style>\n<table border=\"1\" class=\"dataframe\">\n  <thead>\n    <tr style=\"text-align: right;\">\n      <th></th>\n      <th>id</th>\n      <th>age</th>\n      <th>city</th>\n      <th>f1</th>\n      <th>f2</th>\n      <th>f3</th>\n      <th>f4</th>\n      <th>f5</th>\n    </tr>\n  </thead>\n  <tbody>\n    <tr>\n      <th>0</th>\n      <td>id01</td>\n      <td>2.0</td>\n      <td>서울</td>\n      <td>NaN</td>\n      <td>0</td>\n      <td>NaN</td>\n      <td>ENFJ</td>\n      <td>91.297791</td>\n    </tr>\n    <tr>\n      <th>1</th>\n      <td>id02</td>\n      <td>9.0</td>\n      <td>서울</td>\n      <td>70.0</td>\n      <td>1</td>\n      <td>NaN</td>\n      <td>ENFJ</td>\n      <td>60.339826</td>\n    </tr>\n    <tr>\n      <th>2</th>\n      <td>id03</td>\n      <td>27.0</td>\n      <td>서울</td>\n      <td>61.0</td>\n      <td>1</td>\n      <td>NaN</td>\n      <td>ISTJ</td>\n      <td>17.252986</td>\n    </tr>\n    <tr>\n      <th>3</th>\n      <td>id04</td>\n      <td>75.0</td>\n      <td>서울</td>\n      <td>NaN</td>\n      <td>2</td>\n      <td>NaN</td>\n      <td>INFP</td>\n      <td>52.667078</td>\n    </tr>\n    <tr>\n      <th>4</th>\n      <td>id05</td>\n      <td>24.0</td>\n      <td>서울</td>\n      <td>85.0</td>\n      <td>2</td>\n      <td>NaN</td>\n      <td>ISFJ</td>\n      <td>29.269869</td>\n    </tr>\n    <tr>\n      <th>...</th>\n      <td>...</td>\n      <td>...</td>\n      <td>...</td>\n      <td>...</td>\n      <td>...</td>\n      <td>...</td>\n      <td>...</td>\n      <td>...</td>\n    </tr>\n    <tr>\n      <th>95</th>\n      <td>id96</td>\n      <td>92.0</td>\n      <td>경기</td>\n      <td>53.0</td>\n      <td>1</td>\n      <td>NaN</td>\n      <td>ENTJ</td>\n      <td>52.667078</td>\n    </tr>\n    <tr>\n      <th>96</th>\n      <td>id97</td>\n      <td>100.0</td>\n      <td>경기</td>\n      <td>NaN</td>\n      <td>0</td>\n      <td>NaN</td>\n      <td>INFP</td>\n      <td>67.886373</td>\n    </tr>\n    <tr>\n      <th>97</th>\n      <td>id98</td>\n      <td>39.0</td>\n      <td>경기</td>\n      <td>58.0</td>\n      <td>2</td>\n      <td>NaN</td>\n      <td>INFP</td>\n      <td>98.429899</td>\n    </tr>\n    <tr>\n      <th>98</th>\n      <td>id99</td>\n      <td>1.0</td>\n      <td>경기</td>\n      <td>47.0</td>\n      <td>0</td>\n      <td>NaN</td>\n      <td>ESFJ</td>\n      <td>97.381034</td>\n    </tr>\n    <tr>\n      <th>99</th>\n      <td>id100</td>\n      <td>47.0</td>\n      <td>경기</td>\n      <td>53.0</td>\n      <td>0</td>\n      <td>vip</td>\n      <td>ESFP</td>\n      <td>33.308999</td>\n    </tr>\n  </tbody>\n</table>\n<p>100 rows × 8 columns</p>\n</div>"
     },
     "execution_count": 11,
     "metadata": {},
     "output_type": "execute_result"
    }
   ],
   "source": [
    "# 라이브러리 및 데이터 불러오기\n",
    "import pandas as pd\n",
    "\n",
    "df = pd.read_csv('data/basic1.csv')\n",
    "df"
   ],
   "metadata": {
    "collapsed": false,
    "pycharm": {
     "name": "#%%\n"
    }
   }
  },
  {
   "cell_type": "code",
   "execution_count": 14,
   "outputs": [
    {
     "data": {
      "text/plain": "       id   age city    f1  f2   f3    f4         f5\n1    id02   9.0   서울  70.0   1  NaN  ENFJ  60.339826\n2    id03  27.0   서울  61.0   1  NaN  ISTJ  17.252986\n4    id05  24.0   서울  85.0   2  NaN  ISFJ  29.269869\n5    id06  22.0   서울  57.0   0  vip  INTP  20.129444\n6    id07  36.3   서울  60.0   1  NaN  ISFJ   9.796378\n..    ...   ...  ...   ...  ..  ...   ...        ...\n94   id95  77.0   경기  43.0   1  NaN  INTJ  91.297791\n95   id96  92.0   경기  53.0   1  NaN  ENTJ  52.667078\n97   id98  39.0   경기  58.0   2  NaN  INFP  98.429899\n98   id99   1.0   경기  47.0   0  NaN  ESFJ  97.381034\n99  id100  47.0   경기  53.0   0  vip  ESFP  33.308999\n\n[69 rows x 8 columns]",
      "text/html": "<div>\n<style scoped>\n    .dataframe tbody tr th:only-of-type {\n        vertical-align: middle;\n    }\n\n    .dataframe tbody tr th {\n        vertical-align: top;\n    }\n\n    .dataframe thead th {\n        text-align: right;\n    }\n</style>\n<table border=\"1\" class=\"dataframe\">\n  <thead>\n    <tr style=\"text-align: right;\">\n      <th></th>\n      <th>id</th>\n      <th>age</th>\n      <th>city</th>\n      <th>f1</th>\n      <th>f2</th>\n      <th>f3</th>\n      <th>f4</th>\n      <th>f5</th>\n    </tr>\n  </thead>\n  <tbody>\n    <tr>\n      <th>1</th>\n      <td>id02</td>\n      <td>9.0</td>\n      <td>서울</td>\n      <td>70.0</td>\n      <td>1</td>\n      <td>NaN</td>\n      <td>ENFJ</td>\n      <td>60.339826</td>\n    </tr>\n    <tr>\n      <th>2</th>\n      <td>id03</td>\n      <td>27.0</td>\n      <td>서울</td>\n      <td>61.0</td>\n      <td>1</td>\n      <td>NaN</td>\n      <td>ISTJ</td>\n      <td>17.252986</td>\n    </tr>\n    <tr>\n      <th>4</th>\n      <td>id05</td>\n      <td>24.0</td>\n      <td>서울</td>\n      <td>85.0</td>\n      <td>2</td>\n      <td>NaN</td>\n      <td>ISFJ</td>\n      <td>29.269869</td>\n    </tr>\n    <tr>\n      <th>5</th>\n      <td>id06</td>\n      <td>22.0</td>\n      <td>서울</td>\n      <td>57.0</td>\n      <td>0</td>\n      <td>vip</td>\n      <td>INTP</td>\n      <td>20.129444</td>\n    </tr>\n    <tr>\n      <th>6</th>\n      <td>id07</td>\n      <td>36.3</td>\n      <td>서울</td>\n      <td>60.0</td>\n      <td>1</td>\n      <td>NaN</td>\n      <td>ISFJ</td>\n      <td>9.796378</td>\n    </tr>\n    <tr>\n      <th>...</th>\n      <td>...</td>\n      <td>...</td>\n      <td>...</td>\n      <td>...</td>\n      <td>...</td>\n      <td>...</td>\n      <td>...</td>\n      <td>...</td>\n    </tr>\n    <tr>\n      <th>94</th>\n      <td>id95</td>\n      <td>77.0</td>\n      <td>경기</td>\n      <td>43.0</td>\n      <td>1</td>\n      <td>NaN</td>\n      <td>INTJ</td>\n      <td>91.297791</td>\n    </tr>\n    <tr>\n      <th>95</th>\n      <td>id96</td>\n      <td>92.0</td>\n      <td>경기</td>\n      <td>53.0</td>\n      <td>1</td>\n      <td>NaN</td>\n      <td>ENTJ</td>\n      <td>52.667078</td>\n    </tr>\n    <tr>\n      <th>97</th>\n      <td>id98</td>\n      <td>39.0</td>\n      <td>경기</td>\n      <td>58.0</td>\n      <td>2</td>\n      <td>NaN</td>\n      <td>INFP</td>\n      <td>98.429899</td>\n    </tr>\n    <tr>\n      <th>98</th>\n      <td>id99</td>\n      <td>1.0</td>\n      <td>경기</td>\n      <td>47.0</td>\n      <td>0</td>\n      <td>NaN</td>\n      <td>ESFJ</td>\n      <td>97.381034</td>\n    </tr>\n    <tr>\n      <th>99</th>\n      <td>id100</td>\n      <td>47.0</td>\n      <td>경기</td>\n      <td>53.0</td>\n      <td>0</td>\n      <td>vip</td>\n      <td>ESFP</td>\n      <td>33.308999</td>\n    </tr>\n  </tbody>\n</table>\n<p>69 rows × 8 columns</p>\n</div>"
     },
     "execution_count": 14,
     "metadata": {},
     "output_type": "execute_result"
    }
   ],
   "source": [
    "# f1컬럼 결측치 제거\n",
    "df = df[~df['f1'].isnull()]\n",
    "df"
   ],
   "metadata": {
    "collapsed": false,
    "pycharm": {
     "name": "#%%\n"
    }
   }
  },
  {
   "cell_type": "code",
   "execution_count": 20,
   "outputs": [
    {
     "data": {
      "text/plain": "           age     f1          f5\ncity f2                          \n경기   0   720.4  833.0  943.944823\n     1   696.0  670.0  657.241212\n     2   239.0  311.0  362.300060\n대구   0   387.0  527.0  183.199568\n     1   217.6  235.0  241.333824\n     2   140.0  211.0   79.667919\n부산   0   331.0  389.0  284.371097\n     1   188.7  315.0  299.270973\n     2   -13.5   47.0   67.886373\n서울   0   145.0  278.0  218.528577\n     1   315.3  534.0  438.485010\n     2    68.3  207.0  126.661135",
      "text/html": "<div>\n<style scoped>\n    .dataframe tbody tr th:only-of-type {\n        vertical-align: middle;\n    }\n\n    .dataframe tbody tr th {\n        vertical-align: top;\n    }\n\n    .dataframe thead th {\n        text-align: right;\n    }\n</style>\n<table border=\"1\" class=\"dataframe\">\n  <thead>\n    <tr style=\"text-align: right;\">\n      <th></th>\n      <th></th>\n      <th>age</th>\n      <th>f1</th>\n      <th>f5</th>\n    </tr>\n    <tr>\n      <th>city</th>\n      <th>f2</th>\n      <th></th>\n      <th></th>\n      <th></th>\n    </tr>\n  </thead>\n  <tbody>\n    <tr>\n      <th rowspan=\"3\" valign=\"top\">경기</th>\n      <th>0</th>\n      <td>720.4</td>\n      <td>833.0</td>\n      <td>943.944823</td>\n    </tr>\n    <tr>\n      <th>1</th>\n      <td>696.0</td>\n      <td>670.0</td>\n      <td>657.241212</td>\n    </tr>\n    <tr>\n      <th>2</th>\n      <td>239.0</td>\n      <td>311.0</td>\n      <td>362.300060</td>\n    </tr>\n    <tr>\n      <th rowspan=\"3\" valign=\"top\">대구</th>\n      <th>0</th>\n      <td>387.0</td>\n      <td>527.0</td>\n      <td>183.199568</td>\n    </tr>\n    <tr>\n      <th>1</th>\n      <td>217.6</td>\n      <td>235.0</td>\n      <td>241.333824</td>\n    </tr>\n    <tr>\n      <th>2</th>\n      <td>140.0</td>\n      <td>211.0</td>\n      <td>79.667919</td>\n    </tr>\n    <tr>\n      <th rowspan=\"3\" valign=\"top\">부산</th>\n      <th>0</th>\n      <td>331.0</td>\n      <td>389.0</td>\n      <td>284.371097</td>\n    </tr>\n    <tr>\n      <th>1</th>\n      <td>188.7</td>\n      <td>315.0</td>\n      <td>299.270973</td>\n    </tr>\n    <tr>\n      <th>2</th>\n      <td>-13.5</td>\n      <td>47.0</td>\n      <td>67.886373</td>\n    </tr>\n    <tr>\n      <th rowspan=\"3\" valign=\"top\">서울</th>\n      <th>0</th>\n      <td>145.0</td>\n      <td>278.0</td>\n      <td>218.528577</td>\n    </tr>\n    <tr>\n      <th>1</th>\n      <td>315.3</td>\n      <td>534.0</td>\n      <td>438.485010</td>\n    </tr>\n    <tr>\n      <th>2</th>\n      <td>68.3</td>\n      <td>207.0</td>\n      <td>126.661135</td>\n    </tr>\n  </tbody>\n</table>\n</div>"
     },
     "execution_count": 20,
     "metadata": {},
     "output_type": "execute_result"
    }
   ],
   "source": [
    "# 그룹 합계 계산\n",
    "df2 = df.groupby(['city', 'f2']).sum()\n",
    "df2"
   ],
   "metadata": {
    "collapsed": false,
    "pycharm": {
     "name": "#%%\n"
    }
   }
  },
  {
   "cell_type": "code",
   "execution_count": 21,
   "outputs": [
    {
     "name": "stdout",
     "output_type": "stream",
     "text": [
      "833.0\n"
     ]
    }
   ],
   "source": [
    "# 조건에 맞는 값 출력\n",
    "print(df2.iloc[0]['f1'])"
   ],
   "metadata": {
    "collapsed": false,
    "pycharm": {
     "name": "#%%\n"
    }
   }
  },
  {
   "cell_type": "markdown",
   "source": [
    "## **T1-7. 값 변경 및 2개 이상의 조건 Expected Questions**\n",
    "\n",
    "'f4'컬럼의 값이 'ESFJ'인 데이터를 'ISFJ'로 대체하고, 'city'가 '경기'이면서 'f4'가 'ISFJ'인 데이터 중 'age'컬럼의 최대값을 출력하시오!\n",
    "- 데이터셋 : basic1.csv\n",
    "- 오른쪽 상단 copy&edit 클릭 -> 예상문제 풀이 시작"
   ],
   "metadata": {
    "collapsed": false,
    "pycharm": {
     "name": "#%% md\n"
    }
   }
  },
  {
   "cell_type": "code",
   "execution_count": 22,
   "outputs": [
    {
     "data": {
      "text/plain": "       id    age city    f1  f2   f3    f4         f5\n0    id01    2.0   서울   NaN   0  NaN  ENFJ  91.297791\n1    id02    9.0   서울  70.0   1  NaN  ENFJ  60.339826\n2    id03   27.0   서울  61.0   1  NaN  ISTJ  17.252986\n3    id04   75.0   서울   NaN   2  NaN  INFP  52.667078\n4    id05   24.0   서울  85.0   2  NaN  ISFJ  29.269869\n..    ...    ...  ...   ...  ..  ...   ...        ...\n95   id96   92.0   경기  53.0   1  NaN  ENTJ  52.667078\n96   id97  100.0   경기   NaN   0  NaN  INFP  67.886373\n97   id98   39.0   경기  58.0   2  NaN  INFP  98.429899\n98   id99    1.0   경기  47.0   0  NaN  ESFJ  97.381034\n99  id100   47.0   경기  53.0   0  vip  ESFP  33.308999\n\n[100 rows x 8 columns]",
      "text/html": "<div>\n<style scoped>\n    .dataframe tbody tr th:only-of-type {\n        vertical-align: middle;\n    }\n\n    .dataframe tbody tr th {\n        vertical-align: top;\n    }\n\n    .dataframe thead th {\n        text-align: right;\n    }\n</style>\n<table border=\"1\" class=\"dataframe\">\n  <thead>\n    <tr style=\"text-align: right;\">\n      <th></th>\n      <th>id</th>\n      <th>age</th>\n      <th>city</th>\n      <th>f1</th>\n      <th>f2</th>\n      <th>f3</th>\n      <th>f4</th>\n      <th>f5</th>\n    </tr>\n  </thead>\n  <tbody>\n    <tr>\n      <th>0</th>\n      <td>id01</td>\n      <td>2.0</td>\n      <td>서울</td>\n      <td>NaN</td>\n      <td>0</td>\n      <td>NaN</td>\n      <td>ENFJ</td>\n      <td>91.297791</td>\n    </tr>\n    <tr>\n      <th>1</th>\n      <td>id02</td>\n      <td>9.0</td>\n      <td>서울</td>\n      <td>70.0</td>\n      <td>1</td>\n      <td>NaN</td>\n      <td>ENFJ</td>\n      <td>60.339826</td>\n    </tr>\n    <tr>\n      <th>2</th>\n      <td>id03</td>\n      <td>27.0</td>\n      <td>서울</td>\n      <td>61.0</td>\n      <td>1</td>\n      <td>NaN</td>\n      <td>ISTJ</td>\n      <td>17.252986</td>\n    </tr>\n    <tr>\n      <th>3</th>\n      <td>id04</td>\n      <td>75.0</td>\n      <td>서울</td>\n      <td>NaN</td>\n      <td>2</td>\n      <td>NaN</td>\n      <td>INFP</td>\n      <td>52.667078</td>\n    </tr>\n    <tr>\n      <th>4</th>\n      <td>id05</td>\n      <td>24.0</td>\n      <td>서울</td>\n      <td>85.0</td>\n      <td>2</td>\n      <td>NaN</td>\n      <td>ISFJ</td>\n      <td>29.269869</td>\n    </tr>\n    <tr>\n      <th>...</th>\n      <td>...</td>\n      <td>...</td>\n      <td>...</td>\n      <td>...</td>\n      <td>...</td>\n      <td>...</td>\n      <td>...</td>\n      <td>...</td>\n    </tr>\n    <tr>\n      <th>95</th>\n      <td>id96</td>\n      <td>92.0</td>\n      <td>경기</td>\n      <td>53.0</td>\n      <td>1</td>\n      <td>NaN</td>\n      <td>ENTJ</td>\n      <td>52.667078</td>\n    </tr>\n    <tr>\n      <th>96</th>\n      <td>id97</td>\n      <td>100.0</td>\n      <td>경기</td>\n      <td>NaN</td>\n      <td>0</td>\n      <td>NaN</td>\n      <td>INFP</td>\n      <td>67.886373</td>\n    </tr>\n    <tr>\n      <th>97</th>\n      <td>id98</td>\n      <td>39.0</td>\n      <td>경기</td>\n      <td>58.0</td>\n      <td>2</td>\n      <td>NaN</td>\n      <td>INFP</td>\n      <td>98.429899</td>\n    </tr>\n    <tr>\n      <th>98</th>\n      <td>id99</td>\n      <td>1.0</td>\n      <td>경기</td>\n      <td>47.0</td>\n      <td>0</td>\n      <td>NaN</td>\n      <td>ESFJ</td>\n      <td>97.381034</td>\n    </tr>\n    <tr>\n      <th>99</th>\n      <td>id100</td>\n      <td>47.0</td>\n      <td>경기</td>\n      <td>53.0</td>\n      <td>0</td>\n      <td>vip</td>\n      <td>ESFP</td>\n      <td>33.308999</td>\n    </tr>\n  </tbody>\n</table>\n<p>100 rows × 8 columns</p>\n</div>"
     },
     "execution_count": 22,
     "metadata": {},
     "output_type": "execute_result"
    }
   ],
   "source": [
    "# 라이브러리 및 데이터 불러오기\n",
    "import pandas as pd\n",
    "\n",
    "df = pd.read_csv('data/basic1.csv')\n",
    "df"
   ],
   "metadata": {
    "collapsed": false,
    "pycharm": {
     "name": "#%%\n"
    }
   }
  },
  {
   "cell_type": "code",
   "execution_count": 26,
   "outputs": [
    {
     "data": {
      "text/plain": "       id    age city    f1  f2   f3    f4         f5\n0    id01    2.0   서울   NaN   0  NaN  ENFJ  91.297791\n1    id02    9.0   서울  70.0   1  NaN  ENFJ  60.339826\n2    id03   27.0   서울  61.0   1  NaN  ISTJ  17.252986\n3    id04   75.0   서울   NaN   2  NaN  INFP  52.667078\n4    id05   24.0   서울  85.0   2  NaN  ISFJ  29.269869\n..    ...    ...  ...   ...  ..  ...   ...        ...\n95   id96   92.0   경기  53.0   1  NaN  ENTJ  52.667078\n96   id97  100.0   경기   NaN   0  NaN  INFP  67.886373\n97   id98   39.0   경기  58.0   2  NaN  INFP  98.429899\n98   id99    1.0   경기  47.0   0  NaN  ESFJ  97.381034\n99  id100   47.0   경기  53.0   0  vip  ESFP  33.308999\n\n[100 rows x 8 columns]",
      "text/html": "<div>\n<style scoped>\n    .dataframe tbody tr th:only-of-type {\n        vertical-align: middle;\n    }\n\n    .dataframe tbody tr th {\n        vertical-align: top;\n    }\n\n    .dataframe thead th {\n        text-align: right;\n    }\n</style>\n<table border=\"1\" class=\"dataframe\">\n  <thead>\n    <tr style=\"text-align: right;\">\n      <th></th>\n      <th>id</th>\n      <th>age</th>\n      <th>city</th>\n      <th>f1</th>\n      <th>f2</th>\n      <th>f3</th>\n      <th>f4</th>\n      <th>f5</th>\n    </tr>\n  </thead>\n  <tbody>\n    <tr>\n      <th>0</th>\n      <td>id01</td>\n      <td>2.0</td>\n      <td>서울</td>\n      <td>NaN</td>\n      <td>0</td>\n      <td>NaN</td>\n      <td>ENFJ</td>\n      <td>91.297791</td>\n    </tr>\n    <tr>\n      <th>1</th>\n      <td>id02</td>\n      <td>9.0</td>\n      <td>서울</td>\n      <td>70.0</td>\n      <td>1</td>\n      <td>NaN</td>\n      <td>ENFJ</td>\n      <td>60.339826</td>\n    </tr>\n    <tr>\n      <th>2</th>\n      <td>id03</td>\n      <td>27.0</td>\n      <td>서울</td>\n      <td>61.0</td>\n      <td>1</td>\n      <td>NaN</td>\n      <td>ISTJ</td>\n      <td>17.252986</td>\n    </tr>\n    <tr>\n      <th>3</th>\n      <td>id04</td>\n      <td>75.0</td>\n      <td>서울</td>\n      <td>NaN</td>\n      <td>2</td>\n      <td>NaN</td>\n      <td>INFP</td>\n      <td>52.667078</td>\n    </tr>\n    <tr>\n      <th>4</th>\n      <td>id05</td>\n      <td>24.0</td>\n      <td>서울</td>\n      <td>85.0</td>\n      <td>2</td>\n      <td>NaN</td>\n      <td>ISFJ</td>\n      <td>29.269869</td>\n    </tr>\n    <tr>\n      <th>...</th>\n      <td>...</td>\n      <td>...</td>\n      <td>...</td>\n      <td>...</td>\n      <td>...</td>\n      <td>...</td>\n      <td>...</td>\n      <td>...</td>\n    </tr>\n    <tr>\n      <th>95</th>\n      <td>id96</td>\n      <td>92.0</td>\n      <td>경기</td>\n      <td>53.0</td>\n      <td>1</td>\n      <td>NaN</td>\n      <td>ENTJ</td>\n      <td>52.667078</td>\n    </tr>\n    <tr>\n      <th>96</th>\n      <td>id97</td>\n      <td>100.0</td>\n      <td>경기</td>\n      <td>NaN</td>\n      <td>0</td>\n      <td>NaN</td>\n      <td>INFP</td>\n      <td>67.886373</td>\n    </tr>\n    <tr>\n      <th>97</th>\n      <td>id98</td>\n      <td>39.0</td>\n      <td>경기</td>\n      <td>58.0</td>\n      <td>2</td>\n      <td>NaN</td>\n      <td>INFP</td>\n      <td>98.429899</td>\n    </tr>\n    <tr>\n      <th>98</th>\n      <td>id99</td>\n      <td>1.0</td>\n      <td>경기</td>\n      <td>47.0</td>\n      <td>0</td>\n      <td>NaN</td>\n      <td>ESFJ</td>\n      <td>97.381034</td>\n    </tr>\n    <tr>\n      <th>99</th>\n      <td>id100</td>\n      <td>47.0</td>\n      <td>경기</td>\n      <td>53.0</td>\n      <td>0</td>\n      <td>vip</td>\n      <td>ESFP</td>\n      <td>33.308999</td>\n    </tr>\n  </tbody>\n</table>\n<p>100 rows × 8 columns</p>\n</div>"
     },
     "execution_count": 26,
     "metadata": {},
     "output_type": "execute_result"
    }
   ],
   "source": [
    "# ESFJ 값을 가진 데이터 확인, 값 변경\n",
    "df['f4'].replace('ESFJ', 'ISFJ')\n",
    "df"
   ],
   "metadata": {
    "collapsed": false,
    "pycharm": {
     "name": "#%%\n"
    }
   }
  },
  {
   "cell_type": "code",
   "execution_count": 29,
   "outputs": [
    {
     "name": "stdout",
     "output_type": "stream",
     "text": [
      "90.0\n"
     ]
    }
   ],
   "source": [
    "# 2개의 조건에 맞는 값중 age컬럼의 최대값\n",
    "print(df[(df['city']=='경기') & (df['f4']=='ISFJ')]['age'].max())"
   ],
   "metadata": {
    "collapsed": false,
    "pycharm": {
     "name": "#%%\n"
    }
   }
  },
  {
   "cell_type": "markdown",
   "source": [
    "## **T1-8. 누적합 그리고 보간(결측치 처리) Expected Questions**\n",
    "\n",
    "주어진 데이터 셋에서 'f2' 컬럼이 1인 조건에 해당하는 데이터의 'f1'컬럼 누적합을 계산한다. 이때 발생하는 누적합 결측치는 바로 뒤의 값을 채우고, 누적합의 평균값을 출력한다. (단, 결측치 바로 뒤의 값이 없으면 다음에 나오는 값을 채워넣는다)\n",
    "- 데이터셋 : basic1.csv\n",
    "- 오른쪽 상단 copy&edit 클릭 -> 예상문제 풀이 시작"
   ],
   "metadata": {
    "collapsed": false,
    "pycharm": {
     "name": "#%% md\n"
    }
   }
  },
  {
   "cell_type": "code",
   "execution_count": 30,
   "outputs": [
    {
     "data": {
      "text/plain": "       id    age city    f1  f2   f3    f4         f5\n0    id01    2.0   서울   NaN   0  NaN  ENFJ  91.297791\n1    id02    9.0   서울  70.0   1  NaN  ENFJ  60.339826\n2    id03   27.0   서울  61.0   1  NaN  ISTJ  17.252986\n3    id04   75.0   서울   NaN   2  NaN  INFP  52.667078\n4    id05   24.0   서울  85.0   2  NaN  ISFJ  29.269869\n..    ...    ...  ...   ...  ..  ...   ...        ...\n95   id96   92.0   경기  53.0   1  NaN  ENTJ  52.667078\n96   id97  100.0   경기   NaN   0  NaN  INFP  67.886373\n97   id98   39.0   경기  58.0   2  NaN  INFP  98.429899\n98   id99    1.0   경기  47.0   0  NaN  ESFJ  97.381034\n99  id100   47.0   경기  53.0   0  vip  ESFP  33.308999\n\n[100 rows x 8 columns]",
      "text/html": "<div>\n<style scoped>\n    .dataframe tbody tr th:only-of-type {\n        vertical-align: middle;\n    }\n\n    .dataframe tbody tr th {\n        vertical-align: top;\n    }\n\n    .dataframe thead th {\n        text-align: right;\n    }\n</style>\n<table border=\"1\" class=\"dataframe\">\n  <thead>\n    <tr style=\"text-align: right;\">\n      <th></th>\n      <th>id</th>\n      <th>age</th>\n      <th>city</th>\n      <th>f1</th>\n      <th>f2</th>\n      <th>f3</th>\n      <th>f4</th>\n      <th>f5</th>\n    </tr>\n  </thead>\n  <tbody>\n    <tr>\n      <th>0</th>\n      <td>id01</td>\n      <td>2.0</td>\n      <td>서울</td>\n      <td>NaN</td>\n      <td>0</td>\n      <td>NaN</td>\n      <td>ENFJ</td>\n      <td>91.297791</td>\n    </tr>\n    <tr>\n      <th>1</th>\n      <td>id02</td>\n      <td>9.0</td>\n      <td>서울</td>\n      <td>70.0</td>\n      <td>1</td>\n      <td>NaN</td>\n      <td>ENFJ</td>\n      <td>60.339826</td>\n    </tr>\n    <tr>\n      <th>2</th>\n      <td>id03</td>\n      <td>27.0</td>\n      <td>서울</td>\n      <td>61.0</td>\n      <td>1</td>\n      <td>NaN</td>\n      <td>ISTJ</td>\n      <td>17.252986</td>\n    </tr>\n    <tr>\n      <th>3</th>\n      <td>id04</td>\n      <td>75.0</td>\n      <td>서울</td>\n      <td>NaN</td>\n      <td>2</td>\n      <td>NaN</td>\n      <td>INFP</td>\n      <td>52.667078</td>\n    </tr>\n    <tr>\n      <th>4</th>\n      <td>id05</td>\n      <td>24.0</td>\n      <td>서울</td>\n      <td>85.0</td>\n      <td>2</td>\n      <td>NaN</td>\n      <td>ISFJ</td>\n      <td>29.269869</td>\n    </tr>\n    <tr>\n      <th>...</th>\n      <td>...</td>\n      <td>...</td>\n      <td>...</td>\n      <td>...</td>\n      <td>...</td>\n      <td>...</td>\n      <td>...</td>\n      <td>...</td>\n    </tr>\n    <tr>\n      <th>95</th>\n      <td>id96</td>\n      <td>92.0</td>\n      <td>경기</td>\n      <td>53.0</td>\n      <td>1</td>\n      <td>NaN</td>\n      <td>ENTJ</td>\n      <td>52.667078</td>\n    </tr>\n    <tr>\n      <th>96</th>\n      <td>id97</td>\n      <td>100.0</td>\n      <td>경기</td>\n      <td>NaN</td>\n      <td>0</td>\n      <td>NaN</td>\n      <td>INFP</td>\n      <td>67.886373</td>\n    </tr>\n    <tr>\n      <th>97</th>\n      <td>id98</td>\n      <td>39.0</td>\n      <td>경기</td>\n      <td>58.0</td>\n      <td>2</td>\n      <td>NaN</td>\n      <td>INFP</td>\n      <td>98.429899</td>\n    </tr>\n    <tr>\n      <th>98</th>\n      <td>id99</td>\n      <td>1.0</td>\n      <td>경기</td>\n      <td>47.0</td>\n      <td>0</td>\n      <td>NaN</td>\n      <td>ESFJ</td>\n      <td>97.381034</td>\n    </tr>\n    <tr>\n      <th>99</th>\n      <td>id100</td>\n      <td>47.0</td>\n      <td>경기</td>\n      <td>53.0</td>\n      <td>0</td>\n      <td>vip</td>\n      <td>ESFP</td>\n      <td>33.308999</td>\n    </tr>\n  </tbody>\n</table>\n<p>100 rows × 8 columns</p>\n</div>"
     },
     "execution_count": 30,
     "metadata": {},
     "output_type": "execute_result"
    }
   ],
   "source": [
    "# 라이브러리 및 데이터 불러오기\n",
    "import pandas as pd\n",
    "\n",
    "df = pd.read_csv('data/basic1.csv')\n",
    "df"
   ],
   "metadata": {
    "collapsed": false,
    "pycharm": {
     "name": "#%%\n"
    }
   }
  },
  {
   "cell_type": "code",
   "execution_count": 38,
   "outputs": [
    {
     "name": "stdout",
     "output_type": "stream",
     "text": [
      "1       70.0\n",
      "2      131.0\n",
      "6      191.0\n",
      "7      292.0\n",
      "9      366.0\n",
      "13     416.0\n",
      "14     483.0\n",
      "16       NaN\n",
      "19     534.0\n",
      "20       NaN\n",
      "21     606.0\n",
      "22     681.0\n",
      "25     738.0\n",
      "27     772.0\n",
      "33       NaN\n",
      "35     849.0\n",
      "37       NaN\n",
      "46     924.0\n",
      "49    1002.0\n",
      "51    1084.0\n",
      "53       NaN\n",
      "55       NaN\n",
      "58       NaN\n",
      "62    1170.0\n",
      "65       NaN\n",
      "66    1222.0\n",
      "69    1318.0\n",
      "72       NaN\n",
      "77    1414.0\n",
      "80    1464.0\n",
      "82    1514.0\n",
      "86       NaN\n",
      "88    1580.0\n",
      "91    1658.0\n",
      "93       NaN\n",
      "94    1701.0\n",
      "95    1754.0\n",
      "Name: f1, dtype: float64\n"
     ]
    }
   ],
   "source": [
    "# 조건에 따른 누적합\n",
    "sum = df[df['f2']==1]['f1'].cumsum()\n",
    "print(sum)"
   ],
   "metadata": {
    "collapsed": false,
    "pycharm": {
     "name": "#%%\n"
    }
   }
  },
  {
   "cell_type": "code",
   "execution_count": 40,
   "outputs": [
    {
     "name": "stdout",
     "output_type": "stream",
     "text": [
      "1       70.0\n",
      "2      131.0\n",
      "6      191.0\n",
      "7      292.0\n",
      "9      366.0\n",
      "13     416.0\n",
      "14     483.0\n",
      "16     534.0\n",
      "19     534.0\n",
      "20     606.0\n",
      "21     606.0\n",
      "22     681.0\n",
      "25     738.0\n",
      "27     772.0\n",
      "33     849.0\n",
      "35     849.0\n",
      "37     924.0\n",
      "46     924.0\n",
      "49    1002.0\n",
      "51    1084.0\n",
      "53    1170.0\n",
      "55    1170.0\n",
      "58    1170.0\n",
      "62    1170.0\n",
      "65    1222.0\n",
      "66    1222.0\n",
      "69    1318.0\n",
      "72    1414.0\n",
      "77    1414.0\n",
      "80    1464.0\n",
      "82    1514.0\n",
      "86    1580.0\n",
      "88    1580.0\n",
      "91    1658.0\n",
      "93    1701.0\n",
      "94    1701.0\n",
      "95    1754.0\n",
      "Name: f1, dtype: float64\n"
     ]
    }
   ],
   "source": [
    "# 결측치 처리 (뒤에 나오는 값으로 채움)\n",
    "sum = sum.fillna(method='bfill') # .fillna(method='bfill') = 결측치를 뒤에 나오는 값으로 채움\n",
    "print(sum)"
   ],
   "metadata": {
    "collapsed": false,
    "pycharm": {
     "name": "#%%\n"
    }
   }
  },
  {
   "cell_type": "code",
   "execution_count": 41,
   "outputs": [
    {
     "name": "stdout",
     "output_type": "stream",
     "text": [
      "980.3783783783783\n"
     ]
    }
   ],
   "source": [
    "# 평균 출력\n",
    "print(sum.mean())"
   ],
   "metadata": {
    "collapsed": false,
    "pycharm": {
     "name": "#%%\n"
    }
   }
  }
 ],
 "metadata": {
  "kernelspec": {
   "display_name": "Python 3",
   "language": "python",
   "name": "python3"
  },
  "language_info": {
   "codemirror_mode": {
    "name": "ipython",
    "version": 2
   },
   "file_extension": ".py",
   "mimetype": "text/x-python",
   "name": "python",
   "nbconvert_exporter": "python",
   "pygments_lexer": "ipython2",
   "version": "2.7.6"
  }
 },
 "nbformat": 4,
 "nbformat_minor": 0
}