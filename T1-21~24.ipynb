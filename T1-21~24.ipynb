{
 "cells": [
  {
   "cell_type": "markdown",
   "metadata": {
    "collapsed": true,
    "pycharm": {
     "name": "#%% md\n"
    }
   },
   "source": [
    "## **T1-21. 구간 분할 Expected Question**\n",
    "\n",
    "### 나이 구간 나누기\n",
    "\n",
    "basic1 데이터 중 'age'컬럼 이상치를 제거하고, 동일한 개수로 나이 순으로 3그룹으로 나눈 뒤 각 그룹의 중앙값을 더하시오\n",
    "(이상치는 음수(0포함), 소수점 값)\n",
    "- data: basic1.csv\n",
    "- 오른쪽 상단 copy&edit 클릭 -> 예상문제 풀이 시작"
   ]
  },
  {
   "cell_type": "code",
   "execution_count": 31,
   "outputs": [
    {
     "data": {
      "text/plain": "       id    age city    f1  f2   f3    f4         f5\n0    id01    2.0   서울   NaN   0  NaN  ENFJ  91.297791\n1    id02    9.0   서울  70.0   1  NaN  ENFJ  60.339826\n2    id03   27.0   서울  61.0   1  NaN  ISTJ  17.252986\n3    id04   75.0   서울   NaN   2  NaN  INFP  52.667078\n4    id05   24.0   서울  85.0   2  NaN  ISFJ  29.269869\n..    ...    ...  ...   ...  ..  ...   ...        ...\n95   id96   92.0   경기  53.0   1  NaN  ENTJ  52.667078\n96   id97  100.0   경기   NaN   0  NaN  INFP  67.886373\n97   id98   39.0   경기  58.0   2  NaN  INFP  98.429899\n98   id99    1.0   경기  47.0   0  NaN  ESFJ  97.381034\n99  id100   47.0   경기  53.0   0  vip  ESFP  33.308999\n\n[100 rows x 8 columns]",
      "text/html": "<div>\n<style scoped>\n    .dataframe tbody tr th:only-of-type {\n        vertical-align: middle;\n    }\n\n    .dataframe tbody tr th {\n        vertical-align: top;\n    }\n\n    .dataframe thead th {\n        text-align: right;\n    }\n</style>\n<table border=\"1\" class=\"dataframe\">\n  <thead>\n    <tr style=\"text-align: right;\">\n      <th></th>\n      <th>id</th>\n      <th>age</th>\n      <th>city</th>\n      <th>f1</th>\n      <th>f2</th>\n      <th>f3</th>\n      <th>f4</th>\n      <th>f5</th>\n    </tr>\n  </thead>\n  <tbody>\n    <tr>\n      <th>0</th>\n      <td>id01</td>\n      <td>2.0</td>\n      <td>서울</td>\n      <td>NaN</td>\n      <td>0</td>\n      <td>NaN</td>\n      <td>ENFJ</td>\n      <td>91.297791</td>\n    </tr>\n    <tr>\n      <th>1</th>\n      <td>id02</td>\n      <td>9.0</td>\n      <td>서울</td>\n      <td>70.0</td>\n      <td>1</td>\n      <td>NaN</td>\n      <td>ENFJ</td>\n      <td>60.339826</td>\n    </tr>\n    <tr>\n      <th>2</th>\n      <td>id03</td>\n      <td>27.0</td>\n      <td>서울</td>\n      <td>61.0</td>\n      <td>1</td>\n      <td>NaN</td>\n      <td>ISTJ</td>\n      <td>17.252986</td>\n    </tr>\n    <tr>\n      <th>3</th>\n      <td>id04</td>\n      <td>75.0</td>\n      <td>서울</td>\n      <td>NaN</td>\n      <td>2</td>\n      <td>NaN</td>\n      <td>INFP</td>\n      <td>52.667078</td>\n    </tr>\n    <tr>\n      <th>4</th>\n      <td>id05</td>\n      <td>24.0</td>\n      <td>서울</td>\n      <td>85.0</td>\n      <td>2</td>\n      <td>NaN</td>\n      <td>ISFJ</td>\n      <td>29.269869</td>\n    </tr>\n    <tr>\n      <th>...</th>\n      <td>...</td>\n      <td>...</td>\n      <td>...</td>\n      <td>...</td>\n      <td>...</td>\n      <td>...</td>\n      <td>...</td>\n      <td>...</td>\n    </tr>\n    <tr>\n      <th>95</th>\n      <td>id96</td>\n      <td>92.0</td>\n      <td>경기</td>\n      <td>53.0</td>\n      <td>1</td>\n      <td>NaN</td>\n      <td>ENTJ</td>\n      <td>52.667078</td>\n    </tr>\n    <tr>\n      <th>96</th>\n      <td>id97</td>\n      <td>100.0</td>\n      <td>경기</td>\n      <td>NaN</td>\n      <td>0</td>\n      <td>NaN</td>\n      <td>INFP</td>\n      <td>67.886373</td>\n    </tr>\n    <tr>\n      <th>97</th>\n      <td>id98</td>\n      <td>39.0</td>\n      <td>경기</td>\n      <td>58.0</td>\n      <td>2</td>\n      <td>NaN</td>\n      <td>INFP</td>\n      <td>98.429899</td>\n    </tr>\n    <tr>\n      <th>98</th>\n      <td>id99</td>\n      <td>1.0</td>\n      <td>경기</td>\n      <td>47.0</td>\n      <td>0</td>\n      <td>NaN</td>\n      <td>ESFJ</td>\n      <td>97.381034</td>\n    </tr>\n    <tr>\n      <th>99</th>\n      <td>id100</td>\n      <td>47.0</td>\n      <td>경기</td>\n      <td>53.0</td>\n      <td>0</td>\n      <td>vip</td>\n      <td>ESFP</td>\n      <td>33.308999</td>\n    </tr>\n  </tbody>\n</table>\n<p>100 rows × 8 columns</p>\n</div>"
     },
     "execution_count": 31,
     "metadata": {},
     "output_type": "execute_result"
    }
   ],
   "source": [
    "import pandas as pd\n",
    "import numpy as np\n",
    "\n",
    "df = pd.read_csv('data/basic1.csv')\n",
    "df"
   ],
   "metadata": {
    "collapsed": false,
    "pycharm": {
     "name": "#%%\n"
    }
   }
  },
  {
   "cell_type": "code",
   "execution_count": 32,
   "outputs": [
    {
     "data": {
      "text/plain": "       id    age city    f1  f2   f3    f4         f5\n0    id01    2.0   서울   NaN   0  NaN  ENFJ  91.297791\n1    id02    9.0   서울  70.0   1  NaN  ENFJ  60.339826\n2    id03   27.0   서울  61.0   1  NaN  ISTJ  17.252986\n3    id04   75.0   서울   NaN   2  NaN  INFP  52.667078\n4    id05   24.0   서울  85.0   2  NaN  ISFJ  29.269869\n..    ...    ...  ...   ...  ..  ...   ...        ...\n95   id96   92.0   경기  53.0   1  NaN  ENTJ  52.667078\n96   id97  100.0   경기   NaN   0  NaN  INFP  67.886373\n97   id98   39.0   경기  58.0   2  NaN  INFP  98.429899\n98   id99    1.0   경기  47.0   0  NaN  ESFJ  97.381034\n99  id100   47.0   경기  53.0   0  vip  ESFP  33.308999\n\n[90 rows x 8 columns]",
      "text/html": "<div>\n<style scoped>\n    .dataframe tbody tr th:only-of-type {\n        vertical-align: middle;\n    }\n\n    .dataframe tbody tr th {\n        vertical-align: top;\n    }\n\n    .dataframe thead th {\n        text-align: right;\n    }\n</style>\n<table border=\"1\" class=\"dataframe\">\n  <thead>\n    <tr style=\"text-align: right;\">\n      <th></th>\n      <th>id</th>\n      <th>age</th>\n      <th>city</th>\n      <th>f1</th>\n      <th>f2</th>\n      <th>f3</th>\n      <th>f4</th>\n      <th>f5</th>\n    </tr>\n  </thead>\n  <tbody>\n    <tr>\n      <th>0</th>\n      <td>id01</td>\n      <td>2.0</td>\n      <td>서울</td>\n      <td>NaN</td>\n      <td>0</td>\n      <td>NaN</td>\n      <td>ENFJ</td>\n      <td>91.297791</td>\n    </tr>\n    <tr>\n      <th>1</th>\n      <td>id02</td>\n      <td>9.0</td>\n      <td>서울</td>\n      <td>70.0</td>\n      <td>1</td>\n      <td>NaN</td>\n      <td>ENFJ</td>\n      <td>60.339826</td>\n    </tr>\n    <tr>\n      <th>2</th>\n      <td>id03</td>\n      <td>27.0</td>\n      <td>서울</td>\n      <td>61.0</td>\n      <td>1</td>\n      <td>NaN</td>\n      <td>ISTJ</td>\n      <td>17.252986</td>\n    </tr>\n    <tr>\n      <th>3</th>\n      <td>id04</td>\n      <td>75.0</td>\n      <td>서울</td>\n      <td>NaN</td>\n      <td>2</td>\n      <td>NaN</td>\n      <td>INFP</td>\n      <td>52.667078</td>\n    </tr>\n    <tr>\n      <th>4</th>\n      <td>id05</td>\n      <td>24.0</td>\n      <td>서울</td>\n      <td>85.0</td>\n      <td>2</td>\n      <td>NaN</td>\n      <td>ISFJ</td>\n      <td>29.269869</td>\n    </tr>\n    <tr>\n      <th>...</th>\n      <td>...</td>\n      <td>...</td>\n      <td>...</td>\n      <td>...</td>\n      <td>...</td>\n      <td>...</td>\n      <td>...</td>\n      <td>...</td>\n    </tr>\n    <tr>\n      <th>95</th>\n      <td>id96</td>\n      <td>92.0</td>\n      <td>경기</td>\n      <td>53.0</td>\n      <td>1</td>\n      <td>NaN</td>\n      <td>ENTJ</td>\n      <td>52.667078</td>\n    </tr>\n    <tr>\n      <th>96</th>\n      <td>id97</td>\n      <td>100.0</td>\n      <td>경기</td>\n      <td>NaN</td>\n      <td>0</td>\n      <td>NaN</td>\n      <td>INFP</td>\n      <td>67.886373</td>\n    </tr>\n    <tr>\n      <th>97</th>\n      <td>id98</td>\n      <td>39.0</td>\n      <td>경기</td>\n      <td>58.0</td>\n      <td>2</td>\n      <td>NaN</td>\n      <td>INFP</td>\n      <td>98.429899</td>\n    </tr>\n    <tr>\n      <th>98</th>\n      <td>id99</td>\n      <td>1.0</td>\n      <td>경기</td>\n      <td>47.0</td>\n      <td>0</td>\n      <td>NaN</td>\n      <td>ESFJ</td>\n      <td>97.381034</td>\n    </tr>\n    <tr>\n      <th>99</th>\n      <td>id100</td>\n      <td>47.0</td>\n      <td>경기</td>\n      <td>53.0</td>\n      <td>0</td>\n      <td>vip</td>\n      <td>ESFP</td>\n      <td>33.308999</td>\n    </tr>\n  </tbody>\n</table>\n<p>90 rows × 8 columns</p>\n</div>"
     },
     "execution_count": 32,
     "metadata": {},
     "output_type": "execute_result"
    }
   ],
   "source": [
    "# age 칼럼 이상치 제거\n",
    "df = df[df['age'] > 0]\n",
    "df = df[df['age'] == np.ceil(df['age'])]\n",
    "df"
   ],
   "metadata": {
    "collapsed": false,
    "pycharm": {
     "name": "#%%\n"
    }
   }
  },
  {
   "cell_type": "code",
   "execution_count": 33,
   "outputs": [
    {
     "data": {
      "text/plain": "group1    30\ngroup2    30\ngroup3    30\nName: range, dtype: int64"
     },
     "execution_count": 33,
     "metadata": {},
     "output_type": "execute_result"
    }
   ],
   "source": [
    "# 구간 분할 및 수량 비교\n",
    "df['range'] = pd.qcut(df['age'], q=3, labels=['group1', 'group2', 'group3'])\n",
    "df['range'].value_counts()"
   ],
   "metadata": {
    "collapsed": false,
    "pycharm": {
     "name": "#%%\n"
    }
   }
  },
  {
   "cell_type": "markdown",
   "source": [],
   "metadata": {
    "collapsed": false
   }
  },
  {
   "cell_type": "code",
   "execution_count": 34,
   "outputs": [
    {
     "name": "stdout",
     "output_type": "stream",
     "text": [
      "165.0\n"
     ]
    }
   ],
   "source": [
    "# 각 그룹의 중앙값의 합\n",
    "med1 = df[df['range']=='group1']['age'].median()\n",
    "med2 = df[df['range']=='group3']['age'].median()\n",
    "med3 = df[df['range']=='group2']['age'].median()\n",
    "print(med1 + med2 + med3)"
   ],
   "metadata": {
    "collapsed": false,
    "pycharm": {
     "name": "#%%\n"
    }
   }
  },
  {
   "cell_type": "markdown",
   "source": [
    "## **T1-22. Time-Series4 (Weekly data)**\n",
    "\n",
    "주어진 데이터(basic2.csv)에서 주 단위 Sales의 합계를 구하고, 가장 큰 값을 가진 주와 작은 값을 가진 주의 차이를 구하시오(절대값)\n",
    "- 데이터셋 : basic2.csv\n",
    "- 오른쪽 상단 copy&edit 클릭 -> 예상문제 풀이 시작"
   ],
   "metadata": {
    "collapsed": false,
    "pycharm": {
     "name": "#%% md\n"
    }
   }
  },
  {
   "cell_type": "code",
   "execution_count": 38,
   "outputs": [
    {
     "name": "stdout",
     "output_type": "stream",
     "text": [
      "         Date     Sales      PV      UV  Events\n",
      "0  2022-01-01  22711525  397349  4421.0       1\n",
      "1  2022-01-02     36779    3969  2289.0       0\n",
      "2  2022-01-03  13943875  373890     NaN       1\n",
      "3  2022-01-04   8088593  142054  2157.0       0\n",
      "4  2022-01-05   2395374  190684     NaN       0\n"
     ]
    }
   ],
   "source": [
    "import pandas as pd\n",
    "\n",
    "df = pd.read_csv('data/basic2.csv')\n",
    "print(df.head())"
   ],
   "metadata": {
    "collapsed": false,
    "pycharm": {
     "name": "#%%\n"
    }
   }
  },
  {
   "cell_type": "code",
   "execution_count": 40,
   "outputs": [
    {
     "data": {
      "text/plain": "               Sales       PV       UV  Events\nDate                                          \n2022-01-02  22748304   401318   6710.0       1\n2022-01-09  33373822  1148464  15189.0       2\n2022-01-16  20754519   283773   9344.0       0\n2022-01-23  21880751   538633   9841.0       1\n2022-01-30  28878452   560814   7808.0       1",
      "text/html": "<div>\n<style scoped>\n    .dataframe tbody tr th:only-of-type {\n        vertical-align: middle;\n    }\n\n    .dataframe tbody tr th {\n        vertical-align: top;\n    }\n\n    .dataframe thead th {\n        text-align: right;\n    }\n</style>\n<table border=\"1\" class=\"dataframe\">\n  <thead>\n    <tr style=\"text-align: right;\">\n      <th></th>\n      <th>Sales</th>\n      <th>PV</th>\n      <th>UV</th>\n      <th>Events</th>\n    </tr>\n    <tr>\n      <th>Date</th>\n      <th></th>\n      <th></th>\n      <th></th>\n      <th></th>\n    </tr>\n  </thead>\n  <tbody>\n    <tr>\n      <th>2022-01-02</th>\n      <td>22748304</td>\n      <td>401318</td>\n      <td>6710.0</td>\n      <td>1</td>\n    </tr>\n    <tr>\n      <th>2022-01-09</th>\n      <td>33373822</td>\n      <td>1148464</td>\n      <td>15189.0</td>\n      <td>2</td>\n    </tr>\n    <tr>\n      <th>2022-01-16</th>\n      <td>20754519</td>\n      <td>283773</td>\n      <td>9344.0</td>\n      <td>0</td>\n    </tr>\n    <tr>\n      <th>2022-01-23</th>\n      <td>21880751</td>\n      <td>538633</td>\n      <td>9841.0</td>\n      <td>1</td>\n    </tr>\n    <tr>\n      <th>2022-01-30</th>\n      <td>28878452</td>\n      <td>560814</td>\n      <td>7808.0</td>\n      <td>1</td>\n    </tr>\n  </tbody>\n</table>\n</div>"
     },
     "execution_count": 40,
     "metadata": {},
     "output_type": "execute_result"
    }
   ],
   "source": [
    "# to_datetime, set_index, 주 단위 Sales의 합계\n",
    "df['Date'] = pd.to_datetime(df['Date'])\n",
    "df = df.set_index('Date')\n",
    "df_w = df.resample('W').sum()\n",
    "print(df_w.head())"
   ],
   "metadata": {
    "collapsed": false,
    "pycharm": {
     "name": "#%%\n"
    }
   }
  },
  {
   "cell_type": "code",
   "execution_count": 42,
   "outputs": [
    {
     "name": "stdout",
     "output_type": "stream",
     "text": [
      "91639050\n"
     ]
    }
   ],
   "source": [
    "# 가장 큰 값을 가진 주 - 가장 작은 값을 가진 주 (절대값)\n",
    "print(abs(df_w['Sales'].max() - df_w['Sales'].min()))"
   ],
   "metadata": {
    "collapsed": false,
    "pycharm": {
     "name": "#%%\n"
    }
   }
  },
  {
   "cell_type": "markdown",
   "source": [
    "## **T1-24. Time-Series5 (Lagged Feature) 시차 데이터 생성**\n",
    "\n",
    "주어진 데이터(basic2.csv)에서 새로운 컬럼(1일 이전 시차 컬럼)을 만들고, Events가 1이면서 Sales가 1000000이하인 조건에 맞는 새로운 컬럼 합을 구하시오\n",
    "- 데이터셋 : basic2.csv\n",
    "- 오른쪽 상단 copy&edit 클릭 -> 예상문제 풀이 시작"
   ],
   "metadata": {
    "collapsed": false,
    "pycharm": {
     "name": "#%% md\n"
    }
   }
  },
  {
   "cell_type": "code",
   "execution_count": 4,
   "outputs": [
    {
     "name": "stdout",
     "output_type": "stream",
     "text": [
      "         Date     Sales      PV      UV  Events\n",
      "0  2022-01-01  22711525  397349  4421.0       1\n",
      "1  2022-01-02     36779    3969  2289.0       0\n",
      "2  2022-01-03  13943875  373890     NaN       1\n",
      "3  2022-01-04   8088593  142054  2157.0       0\n",
      "4  2022-01-05   2395374  190684     NaN       0\n"
     ]
    }
   ],
   "source": [
    "import pandas as pd\n",
    "\n",
    "df = pd.read_csv('data/basic2.csv')\n",
    "print(df.head())"
   ],
   "metadata": {
    "collapsed": false,
    "pycharm": {
     "name": "#%%\n"
    }
   }
  },
  {
   "cell_type": "code",
   "execution_count": 5,
   "outputs": [
    {
     "data": {
      "text/plain": "         Date     Sales      PV      UV  Events  previous_PV\n0  2022-01-01  22711525  397349  4421.0       1          NaN\n1  2022-01-02     36779    3969  2289.0       0     397349.0\n2  2022-01-03  13943875  373890     NaN       1       3969.0\n3  2022-01-04   8088593  142054  2157.0       0     373890.0\n4  2022-01-05   2395374  190684     NaN       0     142054.0",
      "text/html": "<div>\n<style scoped>\n    .dataframe tbody tr th:only-of-type {\n        vertical-align: middle;\n    }\n\n    .dataframe tbody tr th {\n        vertical-align: top;\n    }\n\n    .dataframe thead th {\n        text-align: right;\n    }\n</style>\n<table border=\"1\" class=\"dataframe\">\n  <thead>\n    <tr style=\"text-align: right;\">\n      <th></th>\n      <th>Date</th>\n      <th>Sales</th>\n      <th>PV</th>\n      <th>UV</th>\n      <th>Events</th>\n      <th>previous_PV</th>\n    </tr>\n  </thead>\n  <tbody>\n    <tr>\n      <th>0</th>\n      <td>2022-01-01</td>\n      <td>22711525</td>\n      <td>397349</td>\n      <td>4421.0</td>\n      <td>1</td>\n      <td>NaN</td>\n    </tr>\n    <tr>\n      <th>1</th>\n      <td>2022-01-02</td>\n      <td>36779</td>\n      <td>3969</td>\n      <td>2289.0</td>\n      <td>0</td>\n      <td>397349.0</td>\n    </tr>\n    <tr>\n      <th>2</th>\n      <td>2022-01-03</td>\n      <td>13943875</td>\n      <td>373890</td>\n      <td>NaN</td>\n      <td>1</td>\n      <td>3969.0</td>\n    </tr>\n    <tr>\n      <th>3</th>\n      <td>2022-01-04</td>\n      <td>8088593</td>\n      <td>142054</td>\n      <td>2157.0</td>\n      <td>0</td>\n      <td>373890.0</td>\n    </tr>\n    <tr>\n      <th>4</th>\n      <td>2022-01-05</td>\n      <td>2395374</td>\n      <td>190684</td>\n      <td>NaN</td>\n      <td>0</td>\n      <td>142054.0</td>\n    </tr>\n  </tbody>\n</table>\n</div>"
     },
     "execution_count": 5,
     "metadata": {},
     "output_type": "execute_result"
    }
   ],
   "source": [
    "# 1일 차이가 나는 칼럼 생성\n",
    "df['previous_PV'] = df['PV'].shift(1) # shift(1) = 밑으로 한 칸 내리기, shift(-1) = 위로 한 칸 올리기\n",
    "print(df.head())"
   ],
   "metadata": {
    "collapsed": false,
    "pycharm": {
     "name": "#%%\n"
    }
   }
  },
  {
   "cell_type": "code",
   "execution_count": 9,
   "outputs": [
    {
     "name": "stdout",
     "output_type": "stream",
     "text": [
      "1894876.0\n"
     ]
    }
   ],
   "source": [
    "# Events가 1이면서 Sales가 1,000,000이하인 조건에 맞는 새로운 칼럼 합\n",
    "cond = (df['Events'] == 1) & (df['Sales'] <= 1000000)\n",
    "print(df[cond]['previous_PV'].sum())"
   ],
   "metadata": {
    "collapsed": false,
    "pycharm": {
     "name": "#%%\n"
    }
   }
  }
 ],
 "metadata": {
  "kernelspec": {
   "display_name": "Python 3",
   "language": "python",
   "name": "python3"
  },
  "language_info": {
   "codemirror_mode": {
    "name": "ipython",
    "version": 2
   },
   "file_extension": ".py",
   "mimetype": "text/x-python",
   "name": "python",
   "nbconvert_exporter": "python",
   "pygments_lexer": "ipython2",
   "version": "2.7.6"
  }
 },
 "nbformat": 4,
 "nbformat_minor": 0
}