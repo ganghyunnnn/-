{
 "cells": [
  {
   "cell_type": "markdown",
   "metadata": {
    "collapsed": true,
    "pycharm": {
     "name": "#%% md\n"
    }
   },
   "source": [
    "## **T2-3. Adult Census Income Tutorial**\n",
    "\n",
    "성인 인구조사 소득 예측\n",
    "- age: 나이\n",
    "- workclass: 고용 형태\n",
    "- fnlwgt: 사람의 대표성을 나타내는 가중치(final weight)\n",
    "- education: 교육 수준\n",
    "- education.num: 교육 수준 수치\n",
    "- marital.status: 결혼 상태\n",
    "- occupation: 업종\n",
    "- relationship: 가족 관계\n",
    "- race: 인종\n",
    "- sex: 성별\n",
    "- capital.gain: 양도 소득\n",
    "- capital.loss: 양도 손실\n",
    "- hours.per.week: 주당 근무 시간\n",
    "- native.country: 국적\n",
    "- income: 수익 (예측해야 하는 값)"
   ]
  },
  {
   "cell_type": "code",
   "execution_count": 77,
   "outputs": [
    {
     "data": {
      "text/plain": "((26048, 15), (6513, 15), (26048, 2), (6513, 2))"
     },
     "execution_count": 77,
     "metadata": {},
     "output_type": "execute_result"
    }
   ],
   "source": [
    "# 시험환경 세팅 (코드 변경 X)\n",
    "import pandas as pd\n",
    "import numpy as np\n",
    "from sklearn.model_selection import train_test_split\n",
    "\n",
    "def exam_data_load(df, target, id_name=\"\", null_name=\"\"):\n",
    "    if id_name == \"\":\n",
    "        df = df.reset_index().rename(columns={\"index\": \"id\"})\n",
    "        id_name = 'id'\n",
    "    else:\n",
    "        id_name = id_name\n",
    "\n",
    "    if null_name != \"\":\n",
    "        df[df == null_name] = np.nan\n",
    "\n",
    "    X_train, X_test = train_test_split(df, test_size=0.2, random_state=2021)\n",
    "\n",
    "    y_train = X_train[[id_name, target]]\n",
    "    X_train = X_train.drop(columns=[target])\n",
    "\n",
    "\n",
    "    y_test = X_test[[id_name, target]]\n",
    "    X_test = X_test.drop(columns=[target])\n",
    "    return X_train, X_test, y_train, y_test\n",
    "\n",
    "df = pd.read_csv('data/adult.csv')\n",
    "X_train, X_test, y_train, y_test = exam_data_load(df, target='income', null_name='?')\n",
    "\n",
    "X_train.shape, X_test.shape, y_train.shape, y_test.shape"
   ],
   "metadata": {
    "collapsed": false,
    "pycharm": {
     "name": "#%%\n"
    }
   }
  },
  {
   "cell_type": "code",
   "execution_count": 78,
   "outputs": [
    {
     "name": "stdout",
     "output_type": "stream",
     "text": [
      "          id  age         workclass  fnlwgt     education  education.num  \\\n",
      "21851  21851   36           Private  241998     Bachelors             13   \n",
      "7632    7632   53           Private  103950       Masters             14   \n",
      "27878  27878   19           Private  203061  Some-college             10   \n",
      "14121  14121   20           Private  102607       HS-grad              9   \n",
      "32345  32345   54         State-gov  138852       HS-grad              9   \n",
      "...      ...  ...               ...     ...           ...            ...   \n",
      "2669    2669   45           Private  187370       Masters             14   \n",
      "17536  17536   36           Private  174308          11th              7   \n",
      "6201    6201   47           Private  275361    Assoc-acdm             12   \n",
      "27989  27989   50  Self-emp-not-inc  196504     Doctorate             16   \n",
      "25716  25716   19           Private  410543       HS-grad              9   \n",
      "\n",
      "           marital.status         occupation   relationship   race     sex  \\\n",
      "21851  Married-civ-spouse       Craft-repair        Husband  White    Male   \n",
      "7632             Divorced     Prof-specialty  Not-in-family  White  Female   \n",
      "27878       Never-married       Tech-support  Not-in-family  White  Female   \n",
      "14121       Never-married  Handlers-cleaners      Own-child  White    Male   \n",
      "32345  Married-civ-spouse     Prof-specialty        Husband  White    Male   \n",
      "...                   ...                ...            ...    ...     ...   \n",
      "2669             Divorced    Exec-managerial      Unmarried  White    Male   \n",
      "17536            Divorced   Transport-moving  Not-in-family  White    Male   \n",
      "6201              Widowed      Other-service      Own-child  White  Female   \n",
      "27989  Married-civ-spouse     Prof-specialty        Husband  White    Male   \n",
      "25716       Never-married       Adm-clerical  Not-in-family  White  Female   \n",
      "\n",
      "       capital.gain  capital.loss  hours.per.week native.country  \n",
      "21851             0             0              50  United-States  \n",
      "7632              0             0              40  United-States  \n",
      "27878             0             0              25  United-States  \n",
      "14121             0             0              30  United-States  \n",
      "32345             0             0              40  United-States  \n",
      "...             ...           ...             ...            ...  \n",
      "2669           7430             0              70  United-States  \n",
      "17536             0             0              40  United-States  \n",
      "6201              0             0              35  United-States  \n",
      "27989             0             0              23  United-States  \n",
      "25716             0             0              40  United-States  \n",
      "\n",
      "[26048 rows x 15 columns]\n",
      "----------------------------------------------------------\n",
      "          id income\n",
      "21851  21851   >50K\n",
      "7632    7632  <=50K\n",
      "27878  27878  <=50K\n",
      "14121  14121  <=50K\n",
      "32345  32345  <=50K\n",
      "...      ...    ...\n",
      "2669    2669   >50K\n",
      "17536  17536  <=50K\n",
      "6201    6201  <=50K\n",
      "27989  27989  <=50K\n",
      "25716  25716  <=50K\n",
      "\n",
      "[26048 rows x 2 columns]\n",
      "----------------------------------------------------------\n",
      "id                   0\n",
      "age                  0\n",
      "workclass         1456\n",
      "fnlwgt               0\n",
      "education            0\n",
      "education.num        0\n",
      "marital.status       0\n",
      "occupation        1463\n",
      "relationship         0\n",
      "race                 0\n",
      "sex                  0\n",
      "capital.gain         0\n",
      "capital.loss         0\n",
      "hours.per.week       0\n",
      "native.country     461\n",
      "dtype: int64\n",
      "----------------------------------------------------------\n",
      "id                  0\n",
      "age                 0\n",
      "workclass         380\n",
      "fnlwgt              0\n",
      "education           0\n",
      "education.num       0\n",
      "marital.status      0\n",
      "occupation        380\n",
      "relationship        0\n",
      "race                0\n",
      "sex                 0\n",
      "capital.gain        0\n",
      "capital.loss        0\n",
      "hours.per.week      0\n",
      "native.country    122\n",
      "dtype: int64\n"
     ]
    }
   ],
   "source": [
    "# EDA\n",
    "\n",
    "print(X_train)\n",
    "print('----------------------------------------------------------')\n",
    "# print(X_test)\n",
    "# print('----------------------------------------------------------')\n",
    "print(y_train)\n",
    "\n",
    "print('----------------------------------------------------------')\n",
    "print(X_train.isna().sum())\n",
    "print('----------------------------------------------------------')\n",
    "print(X_test.isna().sum())"
   ],
   "metadata": {
    "collapsed": false,
    "pycharm": {
     "name": "#%%\n"
    }
   }
  },
  {
   "cell_type": "code",
   "execution_count": 79,
   "outputs": [],
   "source": [
    "# feature 구분\n",
    "numeric_features = ['age', 'fnlwgt', 'education.num', 'capital.gain','capital.loss', 'hours.per.week']\n",
    "cat_features = ['workclass', 'education', 'marital.status', 'occupation', 'relationship', 'race', 'sex', 'native.country']"
   ],
   "metadata": {
    "collapsed": false,
    "pycharm": {
     "name": "#%%\n"
    }
   }
  },
  {
   "cell_type": "code",
   "execution_count": 80,
   "outputs": [
    {
     "name": "stdout",
     "output_type": "stream",
     "text": [
      "id                0\n",
      "age               0\n",
      "workclass         0\n",
      "fnlwgt            0\n",
      "education         0\n",
      "education.num     0\n",
      "marital.status    0\n",
      "occupation        0\n",
      "relationship      0\n",
      "race              0\n",
      "sex               0\n",
      "capital.gain      0\n",
      "capital.loss      0\n",
      "hours.per.week    0\n",
      "native.country    0\n",
      "dtype: int64\n",
      "----------------------------------------------------------\n",
      "id                0\n",
      "age               0\n",
      "workclass         0\n",
      "fnlwgt            0\n",
      "education         0\n",
      "education.num     0\n",
      "marital.status    0\n",
      "occupation        0\n",
      "relationship      0\n",
      "race              0\n",
      "sex               0\n",
      "capital.gain      0\n",
      "capital.loss      0\n",
      "hours.per.week    0\n",
      "native.country    0\n",
      "dtype: int64\n"
     ]
    }
   ],
   "source": [
    "# 결측치는 최빈값과 차이가 크면 최빈값으로, 값이 비슷하면 별도의 값으로 대체\n",
    "\n",
    "X_train['workclass'] = X_train['workclass'].fillna(X_train['workclass'].mode()[0])\n",
    "X_train['occupation'] = X_train['occupation'].fillna('null')\n",
    "X_train['native.country'] = X_train['native.country'].fillna(X_train['native.country'].mode()[0])\n",
    "\n",
    "X_test['workclass'] = X_test['workclass'].fillna(X_test['workclass'].mode()[0])\n",
    "X_test['occupation'] = X_test['occupation'].fillna('null')\n",
    "X_test['native.country'] = X_test['native.country'].fillna(X_test['native.country'].mode()[0])\n",
    "\n",
    "print(X_train.isnull().sum())\n",
    "print('----------------------------------------------------------')\n",
    "print(X_test.isnull().sum())"
   ],
   "metadata": {
    "collapsed": false,
    "pycharm": {
     "name": "#%%\n"
    }
   }
  },
  {
   "cell_type": "code",
   "execution_count": 81,
   "outputs": [
    {
     "name": "stdout",
     "output_type": "stream",
     "text": [
      "          id  age  workclass  fnlwgt  education  education.num  \\\n",
      "21851  21851   36          3  241998          9             13   \n",
      "7632    7632   53          3  103950         12             14   \n",
      "27878  27878   19          3  203061         15             10   \n",
      "14121  14121   20          3  102607         11              9   \n",
      "32345  32345   54          6  138852         11              9   \n",
      "...      ...  ...        ...     ...        ...            ...   \n",
      "2669    2669   45          3  187370         12             14   \n",
      "17536  17536   36          3  174308          1              7   \n",
      "6201    6201   47          3  275361          7             12   \n",
      "27989  27989   50          5  196504         10             16   \n",
      "25716  25716   19          3  410543         11              9   \n",
      "\n",
      "       marital.status  occupation  relationship  race  sex  capital.gain  \\\n",
      "21851               2           2             0     4    1             0   \n",
      "7632                0           9             1     4    0             0   \n",
      "27878               4          12             1     4    0             0   \n",
      "14121               4           5             3     4    1             0   \n",
      "32345               2           9             0     4    1             0   \n",
      "...               ...         ...           ...   ...  ...           ...   \n",
      "2669                0           3             4     4    1          7430   \n",
      "17536               0          13             1     4    1             0   \n",
      "6201                6           7             3     4    0             0   \n",
      "27989               2           9             0     4    1             0   \n",
      "25716               4           0             1     4    0             0   \n",
      "\n",
      "       capital.loss  hours.per.week  native.country  \n",
      "21851             0              50              38  \n",
      "7632              0              40              38  \n",
      "27878             0              25              38  \n",
      "14121             0              30              38  \n",
      "32345             0              40              38  \n",
      "...             ...             ...             ...  \n",
      "2669              0              70              38  \n",
      "17536             0              40              38  \n",
      "6201              0              35              38  \n",
      "27989             0              23              38  \n",
      "25716             0              40              38  \n",
      "\n",
      "[26048 rows x 15 columns]\n"
     ]
    }
   ],
   "source": [
    "# 라벨인코딩\n",
    "from sklearn.preprocessing import LabelEncoder\n",
    "\n",
    "all_df = pd.concat([X_train.assign(ind='train'), X_test.assign(ind='test')])\n",
    "le = LabelEncoder()\n",
    "all_df[cat_features] = all_df[cat_features].apply(le.fit_transform)\n",
    "\n",
    "X_train = all_df[all_df['ind'] == 'train']\n",
    "X_train = X_train.drop('ind', axis=1)\n",
    "\n",
    "X_test = all_df[all_df['ind'] == 'test']\n",
    "X_test = X_test.drop('ind', axis=1)\n",
    "\n",
    "print(X_train)"
   ],
   "metadata": {
    "collapsed": false,
    "pycharm": {
     "name": "#%%\n"
    }
   }
  },
  {
   "cell_type": "code",
   "execution_count": 82,
   "outputs": [
    {
     "name": "stdout",
     "output_type": "stream",
     "text": [
      "          id       age  workclass    fnlwgt  education  education.num  \\\n",
      "21851  21851  0.260274          3  0.156011          9       0.800000   \n",
      "7632    7632  0.493151          3  0.062255         12       0.866667   \n",
      "27878  27878  0.027397          3  0.129566         15       0.600000   \n",
      "14121  14121  0.041096          3  0.061343         11       0.533333   \n",
      "32345  32345  0.506849          6  0.085958         11       0.533333   \n",
      "...      ...       ...        ...       ...        ...            ...   \n",
      "2669    2669  0.383562          3  0.118910         12       0.866667   \n",
      "17536  17536  0.260274          3  0.110039          1       0.400000   \n",
      "6201    6201  0.410959          3  0.178669          7       0.733333   \n",
      "27989  27989  0.452055          5  0.125113         10       1.000000   \n",
      "25716  25716  0.027397          3  0.270479         11       0.533333   \n",
      "\n",
      "       marital.status  occupation  relationship  race  sex  capital.gain  \\\n",
      "21851               2           2             0     4    1      0.000000   \n",
      "7632                0           9             1     4    0      0.000000   \n",
      "27878               4          12             1     4    0      0.000000   \n",
      "14121               4           5             3     4    1      0.000000   \n",
      "32345               2           9             0     4    1      0.000000   \n",
      "...               ...         ...           ...   ...  ...           ...   \n",
      "2669                0           3             4     4    1      0.074301   \n",
      "17536               0          13             1     4    1      0.000000   \n",
      "6201                6           7             3     4    0      0.000000   \n",
      "27989               2           9             0     4    1      0.000000   \n",
      "25716               4           0             1     4    0      0.000000   \n",
      "\n",
      "       capital.loss  hours.per.week  native.country  \n",
      "21851           0.0        0.500000              38  \n",
      "7632            0.0        0.397959              38  \n",
      "27878           0.0        0.244898              38  \n",
      "14121           0.0        0.295918              38  \n",
      "32345           0.0        0.397959              38  \n",
      "...             ...             ...             ...  \n",
      "2669            0.0        0.704082              38  \n",
      "17536           0.0        0.397959              38  \n",
      "6201            0.0        0.346939              38  \n",
      "27989           0.0        0.224490              38  \n",
      "25716           0.0        0.397959              38  \n",
      "\n",
      "[26048 rows x 15 columns]\n"
     ]
    }
   ],
   "source": [
    "# 스케일링\n",
    "from sklearn.preprocessing import MinMaxScaler\n",
    "\n",
    "scaler = MinMaxScaler()\n",
    "X_train[numeric_features] = scaler.fit_transform(X_train[numeric_features])\n",
    "X_test[numeric_features] = scaler.fit_transform(X_test[numeric_features])\n",
    "\n",
    "print(X_train)"
   ],
   "metadata": {
    "collapsed": false,
    "pycharm": {
     "name": "#%%\n"
    }
   }
  },
  {
   "cell_type": "code",
   "execution_count": 83,
   "outputs": [
    {
     "name": "stdout",
     "output_type": "stream",
     "text": [
      "21851    1\n",
      "7632     0\n",
      "27878    0\n",
      "14121    0\n",
      "32345    0\n",
      "Name: income, dtype: int32\n"
     ]
    }
   ],
   "source": [
    "# target 값 변경\n",
    "y = (y_train['income'] != '<=50K').astype(int)\n",
    "print(y.head())"
   ],
   "metadata": {
    "collapsed": false,
    "pycharm": {
     "name": "#%%\n"
    }
   }
  },
  {
   "cell_type": "code",
   "execution_count": 84,
   "outputs": [
    {
     "name": "stdout",
     "output_type": "stream",
     "text": [
      "(22140, 15) (3908, 15) (22140,) (3908,)\n"
     ]
    }
   ],
   "source": [
    "# 검증용 데이터 분리\n",
    "from sklearn.model_selection import train_test_split\n",
    "\n",
    "X_tr, X_val, y_tr, y_val = train_test_split(X_train, y, test_size=0.15, random_state=2021)\n",
    "print(X_tr.shape, X_val.shape, y_tr.shape, y_val.shape)"
   ],
   "metadata": {
    "collapsed": false,
    "pycharm": {
     "name": "#%%\n"
    }
   }
  },
  {
   "cell_type": "code",
   "execution_count": 85,
   "outputs": [
    {
     "name": "stdout",
     "output_type": "stream",
     "text": [
      "            age  workclass    fnlwgt  education  education.num  \\\n",
      "1437   0.191781          3  0.216501          9       0.800000   \n",
      "7151   0.287671          5  0.127591         11       0.533333   \n",
      "30296  0.424658          3  0.217452          9       0.800000   \n",
      "15372  0.452055          3  0.142442         11       0.533333   \n",
      "13800  0.178082          3  0.187243         15       0.600000   \n",
      "\n",
      "       marital.status  occupation  relationship  race  sex  capital.gain  \\\n",
      "1437                4           3             1     4    0           0.0   \n",
      "7151                2           2             0     4    1           0.0   \n",
      "30296               2           9             0     4    1           0.0   \n",
      "15372               2           2             0     4    1           0.0   \n",
      "13800               4           5             1     4    1           0.0   \n",
      "\n",
      "       capital.loss  hours.per.week  native.country  \n",
      "1437       0.323232        0.397959              38  \n",
      "7151       0.000000        0.602041              38  \n",
      "30296      0.000000        0.346939              38  \n",
      "15372      0.000000        0.397959              38  \n",
      "13800      0.000000        0.397959              38  \n"
     ]
    }
   ],
   "source": [
    "# id 삭제\n",
    "X_tr = X_tr.drop('id', axis=1)\n",
    "X_val = X_val.drop('id', axis=1)\n",
    "print(X_tr.head())"
   ],
   "metadata": {
    "collapsed": false,
    "pycharm": {
     "name": "#%%\n"
    }
   }
  },
  {
   "cell_type": "code",
   "execution_count": 86,
   "outputs": [
    {
     "name": "stdout",
     "output_type": "stream",
     "text": [
      "0.851842374616172\n"
     ]
    }
   ],
   "source": [
    "# 랜덤포레스트\n",
    "from sklearn.ensemble import RandomForestClassifier\n",
    "from sklearn.metrics import accuracy_score\n",
    "\n",
    "model = RandomForestClassifier(random_state=10)\n",
    "model.fit(X_tr, y_tr)\n",
    "pred = model.predict(X_val)\n",
    "print(accuracy_score(y_val, pred))"
   ],
   "metadata": {
    "collapsed": false,
    "pycharm": {
     "name": "#%%\n"
    }
   }
  },
  {
   "cell_type": "code",
   "execution_count": 87,
   "outputs": [],
   "source": [
    "# test 데이터 예측\n",
    "X_test_id = X_test.pop('id')\n",
    "pred = model.predict(X_test)"
   ],
   "metadata": {
    "collapsed": false,
    "pycharm": {
     "name": "#%%\n"
    }
   }
  },
  {
   "cell_type": "code",
   "execution_count": 88,
   "outputs": [
    {
     "name": "stdout",
     "output_type": "stream",
     "text": [
      "          id  income\n",
      "20901  20901       1\n",
      "14170  14170       0\n",
      "1776    1776       1\n",
      "30428  30428       0\n",
      "8602    8602       0\n"
     ]
    }
   ],
   "source": [
    "# csv 생성\n",
    "output = pd.DataFrame({'id' : X_test_id, 'income' : pred})\n",
    "output.to_csv('csv/T2-3.csv', index=False)\n",
    "print(output.head())"
   ],
   "metadata": {
    "collapsed": false,
    "pycharm": {
     "name": "#%%\n"
    }
   }
  },
  {
   "cell_type": "code",
   "execution_count": 87,
   "outputs": [],
   "source": [],
   "metadata": {
    "collapsed": false,
    "pycharm": {
     "name": "#%%\n"
    }
   }
  },
  {
   "cell_type": "code",
   "execution_count": 87,
   "outputs": [],
   "source": [],
   "metadata": {
    "collapsed": false,
    "pycharm": {
     "name": "#%%\n"
    }
   }
  },
  {
   "cell_type": "code",
   "execution_count": 87,
   "outputs": [],
   "source": [],
   "metadata": {
    "collapsed": false,
    "pycharm": {
     "name": "#%%\n"
    }
   }
  },
  {
   "cell_type": "code",
   "execution_count": 87,
   "outputs": [],
   "source": [],
   "metadata": {
    "collapsed": false,
    "pycharm": {
     "name": "#%%\n"
    }
   }
  },
  {
   "cell_type": "code",
   "execution_count": 87,
   "outputs": [],
   "source": [],
   "metadata": {
    "collapsed": false,
    "pycharm": {
     "name": "#%%\n"
    }
   }
  },
  {
   "cell_type": "code",
   "execution_count": 87,
   "outputs": [],
   "source": [],
   "metadata": {
    "collapsed": false,
    "pycharm": {
     "name": "#%%\n"
    }
   }
  }
 ],
 "metadata": {
  "kernelspec": {
   "display_name": "Python 3",
   "language": "python",
   "name": "python3"
  },
  "language_info": {
   "codemirror_mode": {
    "name": "ipython",
    "version": 2
   },
   "file_extension": ".py",
   "mimetype": "text/x-python",
   "name": "python",
   "nbconvert_exporter": "python",
   "pygments_lexer": "ipython2",
   "version": "2.7.6"
  }
 },
 "nbformat": 4,
 "nbformat_minor": 0
}