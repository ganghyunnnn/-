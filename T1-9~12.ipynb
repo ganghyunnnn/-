{
 "cells": [
  {
   "cell_type": "markdown",
   "metadata": {
    "collapsed": true,
    "pycharm": {
     "name": "#%% md\n"
    }
   },
   "source": [
    "## **T1-9. 수치형 변수 표준화 Expected Questions**\n",
    "\n",
    "### 수치형 변수 변환하기\n",
    "주어진 데이터에서 'f5'컬럼을 표준화(Standardization (Z-score Normalization))하고 그 중앙값을 구하시오\n",
    "- 데이터셋 : basic1.csv\n",
    "- 오른쪽 상단 copy&edit 클릭 -> 예상문제 풀이 시작\n",
    "\n",
    "Standardization (Z-score Normalization)\n",
    "\n",
    "![nn](pic/T1-9.png)\n",
    "\n",
    "\n",
    "dafadsfd\n"
   ]
  },
  {
   "cell_type": "code",
   "execution_count": 21,
   "outputs": [
    {
     "data": {
      "text/plain": "       id    age city    f1  f2   f3    f4         f5\n0    id01    2.0   서울   NaN   0  NaN  ENFJ  91.297791\n1    id02    9.0   서울  70.0   1  NaN  ENFJ  60.339826\n2    id03   27.0   서울  61.0   1  NaN  ISTJ  17.252986\n3    id04   75.0   서울   NaN   2  NaN  INFP  52.667078\n4    id05   24.0   서울  85.0   2  NaN  ISFJ  29.269869\n..    ...    ...  ...   ...  ..  ...   ...        ...\n95   id96   92.0   경기  53.0   1  NaN  ENTJ  52.667078\n96   id97  100.0   경기   NaN   0  NaN  INFP  67.886373\n97   id98   39.0   경기  58.0   2  NaN  INFP  98.429899\n98   id99    1.0   경기  47.0   0  NaN  ESFJ  97.381034\n99  id100   47.0   경기  53.0   0  vip  ESFP  33.308999\n\n[100 rows x 8 columns]",
      "text/html": "<div>\n<style scoped>\n    .dataframe tbody tr th:only-of-type {\n        vertical-align: middle;\n    }\n\n    .dataframe tbody tr th {\n        vertical-align: top;\n    }\n\n    .dataframe thead th {\n        text-align: right;\n    }\n</style>\n<table border=\"1\" class=\"dataframe\">\n  <thead>\n    <tr style=\"text-align: right;\">\n      <th></th>\n      <th>id</th>\n      <th>age</th>\n      <th>city</th>\n      <th>f1</th>\n      <th>f2</th>\n      <th>f3</th>\n      <th>f4</th>\n      <th>f5</th>\n    </tr>\n  </thead>\n  <tbody>\n    <tr>\n      <th>0</th>\n      <td>id01</td>\n      <td>2.0</td>\n      <td>서울</td>\n      <td>NaN</td>\n      <td>0</td>\n      <td>NaN</td>\n      <td>ENFJ</td>\n      <td>91.297791</td>\n    </tr>\n    <tr>\n      <th>1</th>\n      <td>id02</td>\n      <td>9.0</td>\n      <td>서울</td>\n      <td>70.0</td>\n      <td>1</td>\n      <td>NaN</td>\n      <td>ENFJ</td>\n      <td>60.339826</td>\n    </tr>\n    <tr>\n      <th>2</th>\n      <td>id03</td>\n      <td>27.0</td>\n      <td>서울</td>\n      <td>61.0</td>\n      <td>1</td>\n      <td>NaN</td>\n      <td>ISTJ</td>\n      <td>17.252986</td>\n    </tr>\n    <tr>\n      <th>3</th>\n      <td>id04</td>\n      <td>75.0</td>\n      <td>서울</td>\n      <td>NaN</td>\n      <td>2</td>\n      <td>NaN</td>\n      <td>INFP</td>\n      <td>52.667078</td>\n    </tr>\n    <tr>\n      <th>4</th>\n      <td>id05</td>\n      <td>24.0</td>\n      <td>서울</td>\n      <td>85.0</td>\n      <td>2</td>\n      <td>NaN</td>\n      <td>ISFJ</td>\n      <td>29.269869</td>\n    </tr>\n    <tr>\n      <th>...</th>\n      <td>...</td>\n      <td>...</td>\n      <td>...</td>\n      <td>...</td>\n      <td>...</td>\n      <td>...</td>\n      <td>...</td>\n      <td>...</td>\n    </tr>\n    <tr>\n      <th>95</th>\n      <td>id96</td>\n      <td>92.0</td>\n      <td>경기</td>\n      <td>53.0</td>\n      <td>1</td>\n      <td>NaN</td>\n      <td>ENTJ</td>\n      <td>52.667078</td>\n    </tr>\n    <tr>\n      <th>96</th>\n      <td>id97</td>\n      <td>100.0</td>\n      <td>경기</td>\n      <td>NaN</td>\n      <td>0</td>\n      <td>NaN</td>\n      <td>INFP</td>\n      <td>67.886373</td>\n    </tr>\n    <tr>\n      <th>97</th>\n      <td>id98</td>\n      <td>39.0</td>\n      <td>경기</td>\n      <td>58.0</td>\n      <td>2</td>\n      <td>NaN</td>\n      <td>INFP</td>\n      <td>98.429899</td>\n    </tr>\n    <tr>\n      <th>98</th>\n      <td>id99</td>\n      <td>1.0</td>\n      <td>경기</td>\n      <td>47.0</td>\n      <td>0</td>\n      <td>NaN</td>\n      <td>ESFJ</td>\n      <td>97.381034</td>\n    </tr>\n    <tr>\n      <th>99</th>\n      <td>id100</td>\n      <td>47.0</td>\n      <td>경기</td>\n      <td>53.0</td>\n      <td>0</td>\n      <td>vip</td>\n      <td>ESFP</td>\n      <td>33.308999</td>\n    </tr>\n  </tbody>\n</table>\n<p>100 rows × 8 columns</p>\n</div>"
     },
     "execution_count": 21,
     "metadata": {},
     "output_type": "execute_result"
    }
   ],
   "source": [
    "# 라이브러리 및 데이터 불러오기\n",
    "import pandas as pd\n",
    "from sklearn.preprocessing import StandardScaler\n",
    "# help(sklearn.preprocessing.StandardScaler)\n",
    "\n",
    "df = pd.read_csv('data/basic1.csv')\n",
    "df"
   ],
   "metadata": {
    "collapsed": false,
    "pycharm": {
     "name": "#%%\n"
    }
   }
  },
  {
   "cell_type": "code",
   "execution_count": 22,
   "outputs": [
    {
     "data": {
      "text/plain": "       id    age city    f1  f2   f3    f4        f5\n0    id01    2.0   서울   NaN   0  NaN  ENFJ  1.220815\n1    id02    9.0   서울  70.0   1  NaN  ENFJ  0.127343\n2    id03   27.0   서울  61.0   1  NaN  ISTJ -1.394535\n3    id04   75.0   서울   NaN   2  NaN  INFP -0.143667\n4    id05   24.0   서울  85.0   2  NaN  ISFJ -0.970085\n..    ...    ...  ...   ...  ..  ...   ...       ...\n95   id96   92.0   경기  53.0   1  NaN  ENTJ -0.143667\n96   id97  100.0   경기   NaN   0  NaN  INFP  0.393896\n97   id98   39.0   경기  58.0   2  NaN  INFP  1.472730\n98   id99    1.0   경기  47.0   0  NaN  ESFJ  1.435683\n99  id100   47.0   경기  53.0   0  vip  ESFP -0.827418\n\n[100 rows x 8 columns]",
      "text/html": "<div>\n<style scoped>\n    .dataframe tbody tr th:only-of-type {\n        vertical-align: middle;\n    }\n\n    .dataframe tbody tr th {\n        vertical-align: top;\n    }\n\n    .dataframe thead th {\n        text-align: right;\n    }\n</style>\n<table border=\"1\" class=\"dataframe\">\n  <thead>\n    <tr style=\"text-align: right;\">\n      <th></th>\n      <th>id</th>\n      <th>age</th>\n      <th>city</th>\n      <th>f1</th>\n      <th>f2</th>\n      <th>f3</th>\n      <th>f4</th>\n      <th>f5</th>\n    </tr>\n  </thead>\n  <tbody>\n    <tr>\n      <th>0</th>\n      <td>id01</td>\n      <td>2.0</td>\n      <td>서울</td>\n      <td>NaN</td>\n      <td>0</td>\n      <td>NaN</td>\n      <td>ENFJ</td>\n      <td>1.220815</td>\n    </tr>\n    <tr>\n      <th>1</th>\n      <td>id02</td>\n      <td>9.0</td>\n      <td>서울</td>\n      <td>70.0</td>\n      <td>1</td>\n      <td>NaN</td>\n      <td>ENFJ</td>\n      <td>0.127343</td>\n    </tr>\n    <tr>\n      <th>2</th>\n      <td>id03</td>\n      <td>27.0</td>\n      <td>서울</td>\n      <td>61.0</td>\n      <td>1</td>\n      <td>NaN</td>\n      <td>ISTJ</td>\n      <td>-1.394535</td>\n    </tr>\n    <tr>\n      <th>3</th>\n      <td>id04</td>\n      <td>75.0</td>\n      <td>서울</td>\n      <td>NaN</td>\n      <td>2</td>\n      <td>NaN</td>\n      <td>INFP</td>\n      <td>-0.143667</td>\n    </tr>\n    <tr>\n      <th>4</th>\n      <td>id05</td>\n      <td>24.0</td>\n      <td>서울</td>\n      <td>85.0</td>\n      <td>2</td>\n      <td>NaN</td>\n      <td>ISFJ</td>\n      <td>-0.970085</td>\n    </tr>\n    <tr>\n      <th>...</th>\n      <td>...</td>\n      <td>...</td>\n      <td>...</td>\n      <td>...</td>\n      <td>...</td>\n      <td>...</td>\n      <td>...</td>\n      <td>...</td>\n    </tr>\n    <tr>\n      <th>95</th>\n      <td>id96</td>\n      <td>92.0</td>\n      <td>경기</td>\n      <td>53.0</td>\n      <td>1</td>\n      <td>NaN</td>\n      <td>ENTJ</td>\n      <td>-0.143667</td>\n    </tr>\n    <tr>\n      <th>96</th>\n      <td>id97</td>\n      <td>100.0</td>\n      <td>경기</td>\n      <td>NaN</td>\n      <td>0</td>\n      <td>NaN</td>\n      <td>INFP</td>\n      <td>0.393896</td>\n    </tr>\n    <tr>\n      <th>97</th>\n      <td>id98</td>\n      <td>39.0</td>\n      <td>경기</td>\n      <td>58.0</td>\n      <td>2</td>\n      <td>NaN</td>\n      <td>INFP</td>\n      <td>1.472730</td>\n    </tr>\n    <tr>\n      <th>98</th>\n      <td>id99</td>\n      <td>1.0</td>\n      <td>경기</td>\n      <td>47.0</td>\n      <td>0</td>\n      <td>NaN</td>\n      <td>ESFJ</td>\n      <td>1.435683</td>\n    </tr>\n    <tr>\n      <th>99</th>\n      <td>id100</td>\n      <td>47.0</td>\n      <td>경기</td>\n      <td>53.0</td>\n      <td>0</td>\n      <td>vip</td>\n      <td>ESFP</td>\n      <td>-0.827418</td>\n    </tr>\n  </tbody>\n</table>\n<p>100 rows × 8 columns</p>\n</div>"
     },
     "execution_count": 22,
     "metadata": {},
     "output_type": "execute_result"
    }
   ],
   "source": [
    "# 표준화\n",
    "scaler = StandardScaler()\n",
    "df['f5'] = scaler.fit_transform(df[['f5']])\n",
    "df"
   ],
   "metadata": {
    "collapsed": false,
    "pycharm": {
     "name": "#%%\n"
    }
   }
  },
  {
   "cell_type": "code",
   "execution_count": 23,
   "outputs": [
    {
     "name": "stdout",
     "output_type": "stream",
     "text": [
      "0.260619629559015\n"
     ]
    }
   ],
   "source": [
    "# 중앙값 출력\n",
    "print(df['f5'].median())"
   ],
   "metadata": {
    "collapsed": false,
    "pycharm": {
     "name": "#%%\n"
    }
   }
  },
  {
   "cell_type": "markdown",
   "source": [
    "## **T1-10. 여-존슨과 박스-칵스 변환 Expected Questions**\n",
    "\n",
    "### 수치형 변수 변환하기\n",
    "주어진 데이터에서 20세 이상인 데이터를 추출하고 'f1'컬럼을 결측치를 최빈값으로 채운 후,\n",
    "f1 컬럼의 여-존슨과 박스콕스 변환 값을 구하고,\n",
    "두 값의 차이를 절대값으로 구한다음 모두 더해 소수점 둘째 자리까지 출력(반올림)하시오\n",
    "- 데이터셋 : basic1.csv\n",
    "- 오른쪽 상단 copy&edit 클릭 -> 예상문제 풀이 시작\n",
    "\n",
    "![nn](pic/T1-10.png)"
   ],
   "metadata": {
    "collapsed": false,
    "pycharm": {
     "name": "#%% md\n"
    }
   }
  },
  {
   "cell_type": "code",
   "execution_count": null,
   "outputs": [],
   "source": [],
   "metadata": {
    "collapsed": false,
    "pycharm": {
     "name": "#%%\n"
    }
   }
  },
  {
   "cell_type": "code",
   "execution_count": null,
   "outputs": [],
   "source": [],
   "metadata": {
    "collapsed": false,
    "pycharm": {
     "name": "#%%\n"
    }
   }
  },
  {
   "cell_type": "code",
   "execution_count": null,
   "outputs": [],
   "source": [],
   "metadata": {
    "collapsed": false,
    "pycharm": {
     "name": "#%%\n"
    }
   }
  },
  {
   "cell_type": "code",
   "execution_count": null,
   "outputs": [],
   "source": [],
   "metadata": {
    "collapsed": false,
    "pycharm": {
     "name": "#%%\n"
    }
   }
  },
  {
   "cell_type": "code",
   "execution_count": null,
   "outputs": [],
   "source": [],
   "metadata": {
    "collapsed": false,
    "pycharm": {
     "name": "#%%\n"
    }
   }
  },
  {
   "cell_type": "code",
   "execution_count": null,
   "outputs": [],
   "source": [],
   "metadata": {
    "collapsed": false,
    "pycharm": {
     "name": "#%%\n"
    }
   }
  },
  {
   "cell_type": "code",
   "execution_count": null,
   "outputs": [],
   "source": [],
   "metadata": {
    "collapsed": false,
    "pycharm": {
     "name": "#%%\n"
    }
   }
  },
  {
   "cell_type": "code",
   "execution_count": null,
   "outputs": [],
   "source": [],
   "metadata": {
    "collapsed": false,
    "pycharm": {
     "name": "#%%\n"
    }
   }
  },
  {
   "cell_type": "code",
   "execution_count": null,
   "outputs": [],
   "source": [],
   "metadata": {
    "collapsed": false,
    "pycharm": {
     "name": "#%%\n"
    }
   }
  },
  {
   "cell_type": "code",
   "execution_count": null,
   "outputs": [],
   "source": [],
   "metadata": {
    "collapsed": false,
    "pycharm": {
     "name": "#%%\n"
    }
   }
  },
  {
   "cell_type": "code",
   "execution_count": null,
   "outputs": [],
   "source": [],
   "metadata": {
    "collapsed": false,
    "pycharm": {
     "name": "#%%\n"
    }
   }
  },
  {
   "cell_type": "code",
   "execution_count": null,
   "outputs": [],
   "source": [],
   "metadata": {
    "collapsed": false,
    "pycharm": {
     "name": "#%%\n"
    }
   }
  },
  {
   "cell_type": "code",
   "execution_count": null,
   "outputs": [],
   "source": [],
   "metadata": {
    "collapsed": false,
    "pycharm": {
     "name": "#%%\n"
    }
   }
  },
  {
   "cell_type": "code",
   "execution_count": null,
   "outputs": [],
   "source": [],
   "metadata": {
    "collapsed": false,
    "pycharm": {
     "name": "#%%\n"
    }
   }
  },
  {
   "cell_type": "code",
   "execution_count": null,
   "outputs": [],
   "source": [],
   "metadata": {
    "collapsed": false,
    "pycharm": {
     "name": "#%%\n"
    }
   }
  },
  {
   "cell_type": "code",
   "execution_count": null,
   "outputs": [],
   "source": [],
   "metadata": {
    "collapsed": false,
    "pycharm": {
     "name": "#%%\n"
    }
   }
  },
  {
   "cell_type": "code",
   "execution_count": null,
   "outputs": [],
   "source": [],
   "metadata": {
    "collapsed": false,
    "pycharm": {
     "name": "#%%\n"
    }
   }
  },
  {
   "cell_type": "code",
   "execution_count": null,
   "outputs": [],
   "source": [],
   "metadata": {
    "collapsed": false,
    "pycharm": {
     "name": "#%%\n"
    }
   }
  },
  {
   "cell_type": "code",
   "execution_count": null,
   "outputs": [],
   "source": [],
   "metadata": {
    "collapsed": false,
    "pycharm": {
     "name": "#%%\n"
    }
   }
  },
  {
   "cell_type": "code",
   "execution_count": null,
   "outputs": [],
   "source": [],
   "metadata": {
    "collapsed": false,
    "pycharm": {
     "name": "#%%\n"
    }
   }
  },
  {
   "cell_type": "code",
   "execution_count": null,
   "outputs": [],
   "source": [],
   "metadata": {
    "collapsed": false,
    "pycharm": {
     "name": "#%%\n"
    }
   }
  },
  {
   "cell_type": "code",
   "execution_count": null,
   "outputs": [],
   "source": [],
   "metadata": {
    "collapsed": false,
    "pycharm": {
     "name": "#%%\n"
    }
   }
  },
  {
   "cell_type": "code",
   "execution_count": null,
   "outputs": [],
   "source": [],
   "metadata": {
    "collapsed": false,
    "pycharm": {
     "name": "#%%\n"
    }
   }
  },
  {
   "cell_type": "code",
   "execution_count": null,
   "outputs": [],
   "source": [],
   "metadata": {
    "collapsed": false,
    "pycharm": {
     "name": "#%%\n"
    }
   }
  },
  {
   "cell_type": "code",
   "execution_count": null,
   "outputs": [],
   "source": [],
   "metadata": {
    "collapsed": false,
    "pycharm": {
     "name": "#%%\n"
    }
   }
  },
  {
   "cell_type": "code",
   "execution_count": null,
   "outputs": [],
   "source": [],
   "metadata": {
    "collapsed": false,
    "pycharm": {
     "name": "#%%\n"
    }
   }
  },
  {
   "cell_type": "code",
   "execution_count": null,
   "outputs": [],
   "source": [],
   "metadata": {
    "collapsed": false,
    "pycharm": {
     "name": "#%%\n"
    }
   }
  },
  {
   "cell_type": "code",
   "execution_count": null,
   "outputs": [],
   "source": [],
   "metadata": {
    "collapsed": false,
    "pycharm": {
     "name": "#%%\n"
    }
   }
  },
  {
   "cell_type": "code",
   "execution_count": null,
   "outputs": [],
   "source": [],
   "metadata": {
    "collapsed": false,
    "pycharm": {
     "name": "#%%\n"
    }
   }
  },
  {
   "cell_type": "code",
   "execution_count": null,
   "outputs": [],
   "source": [],
   "metadata": {
    "collapsed": false,
    "pycharm": {
     "name": "#%%\n"
    }
   }
  },
  {
   "cell_type": "code",
   "execution_count": null,
   "outputs": [],
   "source": [],
   "metadata": {
    "collapsed": false,
    "pycharm": {
     "name": "#%%\n"
    }
   }
  },
  {
   "cell_type": "code",
   "execution_count": null,
   "outputs": [],
   "source": [],
   "metadata": {
    "collapsed": false,
    "pycharm": {
     "name": "#%%\n"
    }
   }
  },
  {
   "cell_type": "code",
   "execution_count": null,
   "outputs": [],
   "source": [],
   "metadata": {
    "collapsed": false,
    "pycharm": {
     "name": "#%%\n"
    }
   }
  },
  {
   "cell_type": "code",
   "execution_count": null,
   "outputs": [],
   "source": [],
   "metadata": {
    "collapsed": false,
    "pycharm": {
     "name": "#%%\n"
    }
   }
  },
  {
   "cell_type": "code",
   "execution_count": null,
   "outputs": [],
   "source": [],
   "metadata": {
    "collapsed": false,
    "pycharm": {
     "name": "#%%\n"
    }
   }
  },
  {
   "cell_type": "code",
   "execution_count": null,
   "outputs": [],
   "source": [],
   "metadata": {
    "collapsed": false,
    "pycharm": {
     "name": "#%%\n"
    }
   }
  },
  {
   "cell_type": "code",
   "execution_count": null,
   "outputs": [],
   "source": [],
   "metadata": {
    "collapsed": false,
    "pycharm": {
     "name": "#%%\n"
    }
   }
  },
  {
   "cell_type": "code",
   "execution_count": null,
   "outputs": [],
   "source": [],
   "metadata": {
    "collapsed": false,
    "pycharm": {
     "name": "#%%\n"
    }
   }
  },
  {
   "cell_type": "code",
   "execution_count": null,
   "outputs": [],
   "source": [],
   "metadata": {
    "collapsed": false,
    "pycharm": {
     "name": "#%%\n"
    }
   }
  },
  {
   "cell_type": "code",
   "execution_count": null,
   "outputs": [],
   "source": [],
   "metadata": {
    "collapsed": false,
    "pycharm": {
     "name": "#%%\n"
    }
   }
  },
  {
   "cell_type": "code",
   "execution_count": null,
   "outputs": [],
   "source": [],
   "metadata": {
    "collapsed": false,
    "pycharm": {
     "name": "#%%\n"
    }
   }
  }
 ],
 "metadata": {
  "kernelspec": {
   "display_name": "Python 3",
   "language": "python",
   "name": "python3"
  },
  "language_info": {
   "codemirror_mode": {
    "name": "ipython",
    "version": 2
   },
   "file_extension": ".py",
   "mimetype": "text/x-python",
   "name": "python",
   "nbconvert_exporter": "python",
   "pygments_lexer": "ipython2",
   "version": "2.7.6"
  }
 },
 "nbformat": 4,
 "nbformat_minor": 0
}