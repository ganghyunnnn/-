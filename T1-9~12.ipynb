{
 "cells": [
  {
   "cell_type": "markdown",
   "metadata": {
    "collapsed": true,
    "pycharm": {
     "name": "#%% md\n"
    }
   },
   "source": [
    "## **T1-9. 수치형 변수 표준화 Expected Questions**\n",
    "\n",
    "### 수치형 변수 변환하기\n",
    "주어진 데이터에서 'f5'컬럼을 표준화(Standardization (Z-score Normalization))하고 그 중앙값을 구하시오\n",
    "- 데이터셋 : basic1.csv\n",
    "- 오른쪽 상단 copy&edit 클릭 -> 예상문제 풀이 시작\n",
    "\n",
    "Standardization (Z-score Normalization)\n",
    "\n",
    "<center><img src=\"pic/T1-9.png\"></center>"
   ]
  },
  {
   "cell_type": "code",
   "execution_count": 1,
   "outputs": [
    {
     "data": {
      "text/plain": "       id    age city    f1  f2   f3    f4         f5\n0    id01    2.0   서울   NaN   0  NaN  ENFJ  91.297791\n1    id02    9.0   서울  70.0   1  NaN  ENFJ  60.339826\n2    id03   27.0   서울  61.0   1  NaN  ISTJ  17.252986\n3    id04   75.0   서울   NaN   2  NaN  INFP  52.667078\n4    id05   24.0   서울  85.0   2  NaN  ISFJ  29.269869\n..    ...    ...  ...   ...  ..  ...   ...        ...\n95   id96   92.0   경기  53.0   1  NaN  ENTJ  52.667078\n96   id97  100.0   경기   NaN   0  NaN  INFP  67.886373\n97   id98   39.0   경기  58.0   2  NaN  INFP  98.429899\n98   id99    1.0   경기  47.0   0  NaN  ESFJ  97.381034\n99  id100   47.0   경기  53.0   0  vip  ESFP  33.308999\n\n[100 rows x 8 columns]",
      "text/html": "<div>\n<style scoped>\n    .dataframe tbody tr th:only-of-type {\n        vertical-align: middle;\n    }\n\n    .dataframe tbody tr th {\n        vertical-align: top;\n    }\n\n    .dataframe thead th {\n        text-align: right;\n    }\n</style>\n<table border=\"1\" class=\"dataframe\">\n  <thead>\n    <tr style=\"text-align: right;\">\n      <th></th>\n      <th>id</th>\n      <th>age</th>\n      <th>city</th>\n      <th>f1</th>\n      <th>f2</th>\n      <th>f3</th>\n      <th>f4</th>\n      <th>f5</th>\n    </tr>\n  </thead>\n  <tbody>\n    <tr>\n      <th>0</th>\n      <td>id01</td>\n      <td>2.0</td>\n      <td>서울</td>\n      <td>NaN</td>\n      <td>0</td>\n      <td>NaN</td>\n      <td>ENFJ</td>\n      <td>91.297791</td>\n    </tr>\n    <tr>\n      <th>1</th>\n      <td>id02</td>\n      <td>9.0</td>\n      <td>서울</td>\n      <td>70.0</td>\n      <td>1</td>\n      <td>NaN</td>\n      <td>ENFJ</td>\n      <td>60.339826</td>\n    </tr>\n    <tr>\n      <th>2</th>\n      <td>id03</td>\n      <td>27.0</td>\n      <td>서울</td>\n      <td>61.0</td>\n      <td>1</td>\n      <td>NaN</td>\n      <td>ISTJ</td>\n      <td>17.252986</td>\n    </tr>\n    <tr>\n      <th>3</th>\n      <td>id04</td>\n      <td>75.0</td>\n      <td>서울</td>\n      <td>NaN</td>\n      <td>2</td>\n      <td>NaN</td>\n      <td>INFP</td>\n      <td>52.667078</td>\n    </tr>\n    <tr>\n      <th>4</th>\n      <td>id05</td>\n      <td>24.0</td>\n      <td>서울</td>\n      <td>85.0</td>\n      <td>2</td>\n      <td>NaN</td>\n      <td>ISFJ</td>\n      <td>29.269869</td>\n    </tr>\n    <tr>\n      <th>...</th>\n      <td>...</td>\n      <td>...</td>\n      <td>...</td>\n      <td>...</td>\n      <td>...</td>\n      <td>...</td>\n      <td>...</td>\n      <td>...</td>\n    </tr>\n    <tr>\n      <th>95</th>\n      <td>id96</td>\n      <td>92.0</td>\n      <td>경기</td>\n      <td>53.0</td>\n      <td>1</td>\n      <td>NaN</td>\n      <td>ENTJ</td>\n      <td>52.667078</td>\n    </tr>\n    <tr>\n      <th>96</th>\n      <td>id97</td>\n      <td>100.0</td>\n      <td>경기</td>\n      <td>NaN</td>\n      <td>0</td>\n      <td>NaN</td>\n      <td>INFP</td>\n      <td>67.886373</td>\n    </tr>\n    <tr>\n      <th>97</th>\n      <td>id98</td>\n      <td>39.0</td>\n      <td>경기</td>\n      <td>58.0</td>\n      <td>2</td>\n      <td>NaN</td>\n      <td>INFP</td>\n      <td>98.429899</td>\n    </tr>\n    <tr>\n      <th>98</th>\n      <td>id99</td>\n      <td>1.0</td>\n      <td>경기</td>\n      <td>47.0</td>\n      <td>0</td>\n      <td>NaN</td>\n      <td>ESFJ</td>\n      <td>97.381034</td>\n    </tr>\n    <tr>\n      <th>99</th>\n      <td>id100</td>\n      <td>47.0</td>\n      <td>경기</td>\n      <td>53.0</td>\n      <td>0</td>\n      <td>vip</td>\n      <td>ESFP</td>\n      <td>33.308999</td>\n    </tr>\n  </tbody>\n</table>\n<p>100 rows × 8 columns</p>\n</div>"
     },
     "execution_count": 1,
     "metadata": {},
     "output_type": "execute_result"
    }
   ],
   "source": [
    "# 라이브러리 및 데이터 불러오기\n",
    "import pandas as pd\n",
    "from sklearn.preprocessing import StandardScaler\n",
    "# help(sklearn.preprocessing.StandardScaler)\n",
    "\n",
    "df = pd.read_csv('data/basic1.csv')\n",
    "df"
   ],
   "metadata": {
    "collapsed": false,
    "pycharm": {
     "name": "#%%\n"
    }
   }
  },
  {
   "cell_type": "code",
   "execution_count": 2,
   "outputs": [
    {
     "data": {
      "text/plain": "       id    age city    f1  f2   f3    f4        f5\n0    id01    2.0   서울   NaN   0  NaN  ENFJ  1.220815\n1    id02    9.0   서울  70.0   1  NaN  ENFJ  0.127343\n2    id03   27.0   서울  61.0   1  NaN  ISTJ -1.394535\n3    id04   75.0   서울   NaN   2  NaN  INFP -0.143667\n4    id05   24.0   서울  85.0   2  NaN  ISFJ -0.970085\n..    ...    ...  ...   ...  ..  ...   ...       ...\n95   id96   92.0   경기  53.0   1  NaN  ENTJ -0.143667\n96   id97  100.0   경기   NaN   0  NaN  INFP  0.393896\n97   id98   39.0   경기  58.0   2  NaN  INFP  1.472730\n98   id99    1.0   경기  47.0   0  NaN  ESFJ  1.435683\n99  id100   47.0   경기  53.0   0  vip  ESFP -0.827418\n\n[100 rows x 8 columns]",
      "text/html": "<div>\n<style scoped>\n    .dataframe tbody tr th:only-of-type {\n        vertical-align: middle;\n    }\n\n    .dataframe tbody tr th {\n        vertical-align: top;\n    }\n\n    .dataframe thead th {\n        text-align: right;\n    }\n</style>\n<table border=\"1\" class=\"dataframe\">\n  <thead>\n    <tr style=\"text-align: right;\">\n      <th></th>\n      <th>id</th>\n      <th>age</th>\n      <th>city</th>\n      <th>f1</th>\n      <th>f2</th>\n      <th>f3</th>\n      <th>f4</th>\n      <th>f5</th>\n    </tr>\n  </thead>\n  <tbody>\n    <tr>\n      <th>0</th>\n      <td>id01</td>\n      <td>2.0</td>\n      <td>서울</td>\n      <td>NaN</td>\n      <td>0</td>\n      <td>NaN</td>\n      <td>ENFJ</td>\n      <td>1.220815</td>\n    </tr>\n    <tr>\n      <th>1</th>\n      <td>id02</td>\n      <td>9.0</td>\n      <td>서울</td>\n      <td>70.0</td>\n      <td>1</td>\n      <td>NaN</td>\n      <td>ENFJ</td>\n      <td>0.127343</td>\n    </tr>\n    <tr>\n      <th>2</th>\n      <td>id03</td>\n      <td>27.0</td>\n      <td>서울</td>\n      <td>61.0</td>\n      <td>1</td>\n      <td>NaN</td>\n      <td>ISTJ</td>\n      <td>-1.394535</td>\n    </tr>\n    <tr>\n      <th>3</th>\n      <td>id04</td>\n      <td>75.0</td>\n      <td>서울</td>\n      <td>NaN</td>\n      <td>2</td>\n      <td>NaN</td>\n      <td>INFP</td>\n      <td>-0.143667</td>\n    </tr>\n    <tr>\n      <th>4</th>\n      <td>id05</td>\n      <td>24.0</td>\n      <td>서울</td>\n      <td>85.0</td>\n      <td>2</td>\n      <td>NaN</td>\n      <td>ISFJ</td>\n      <td>-0.970085</td>\n    </tr>\n    <tr>\n      <th>...</th>\n      <td>...</td>\n      <td>...</td>\n      <td>...</td>\n      <td>...</td>\n      <td>...</td>\n      <td>...</td>\n      <td>...</td>\n      <td>...</td>\n    </tr>\n    <tr>\n      <th>95</th>\n      <td>id96</td>\n      <td>92.0</td>\n      <td>경기</td>\n      <td>53.0</td>\n      <td>1</td>\n      <td>NaN</td>\n      <td>ENTJ</td>\n      <td>-0.143667</td>\n    </tr>\n    <tr>\n      <th>96</th>\n      <td>id97</td>\n      <td>100.0</td>\n      <td>경기</td>\n      <td>NaN</td>\n      <td>0</td>\n      <td>NaN</td>\n      <td>INFP</td>\n      <td>0.393896</td>\n    </tr>\n    <tr>\n      <th>97</th>\n      <td>id98</td>\n      <td>39.0</td>\n      <td>경기</td>\n      <td>58.0</td>\n      <td>2</td>\n      <td>NaN</td>\n      <td>INFP</td>\n      <td>1.472730</td>\n    </tr>\n    <tr>\n      <th>98</th>\n      <td>id99</td>\n      <td>1.0</td>\n      <td>경기</td>\n      <td>47.0</td>\n      <td>0</td>\n      <td>NaN</td>\n      <td>ESFJ</td>\n      <td>1.435683</td>\n    </tr>\n    <tr>\n      <th>99</th>\n      <td>id100</td>\n      <td>47.0</td>\n      <td>경기</td>\n      <td>53.0</td>\n      <td>0</td>\n      <td>vip</td>\n      <td>ESFP</td>\n      <td>-0.827418</td>\n    </tr>\n  </tbody>\n</table>\n<p>100 rows × 8 columns</p>\n</div>"
     },
     "execution_count": 2,
     "metadata": {},
     "output_type": "execute_result"
    }
   ],
   "source": [
    "# 표준화\n",
    "scaler = StandardScaler()\n",
    "df['f5'] = scaler.fit_transform(df[['f5']])\n",
    "df"
   ],
   "metadata": {
    "collapsed": false,
    "pycharm": {
     "name": "#%%\n"
    }
   }
  },
  {
   "cell_type": "code",
   "execution_count": 3,
   "outputs": [
    {
     "name": "stdout",
     "output_type": "stream",
     "text": [
      "0.260619629559015\n"
     ]
    }
   ],
   "source": [
    "# 중앙값 출력\n",
    "print(df['f5'].median())"
   ],
   "metadata": {
    "collapsed": false,
    "pycharm": {
     "name": "#%%\n"
    }
   }
  },
  {
   "cell_type": "markdown",
   "source": [
    "## **T1-10. 여-존슨과 박스-칵스 변환 Expected Questions**\n",
    "\n",
    "### 수치형 변수 변환하기\n",
    "주어진 데이터에서 20세 이상인 데이터를 추출하고 'f1'컬럼을 결측치를 최빈값으로 채운 후,\n",
    "f1 컬럼의 여-존슨과 박스콕스 변환 값을 구하고,\n",
    "두 값의 차이를 절대값으로 구한다음 모두 더해 소수점 둘째 자리까지 출력(반올림)하시오\n",
    "- 데이터셋 : basic1.csv\n",
    "- 오른쪽 상단 copy&edit 클릭 -> 예상문제 풀이 시작\n",
    "\n",
    "<center><img src=\"pic/T1-10.png\"></center>\n"
   ],
   "metadata": {
    "collapsed": false,
    "pycharm": {
     "name": "#%% md\n"
    }
   }
  },
  {
   "cell_type": "code",
   "execution_count": 4,
   "outputs": [
    {
     "data": {
      "text/plain": "       id    age city    f1  f2   f3    f4         f5\n0    id01    2.0   서울   NaN   0  NaN  ENFJ  91.297791\n1    id02    9.0   서울  70.0   1  NaN  ENFJ  60.339826\n2    id03   27.0   서울  61.0   1  NaN  ISTJ  17.252986\n3    id04   75.0   서울   NaN   2  NaN  INFP  52.667078\n4    id05   24.0   서울  85.0   2  NaN  ISFJ  29.269869\n..    ...    ...  ...   ...  ..  ...   ...        ...\n95   id96   92.0   경기  53.0   1  NaN  ENTJ  52.667078\n96   id97  100.0   경기   NaN   0  NaN  INFP  67.886373\n97   id98   39.0   경기  58.0   2  NaN  INFP  98.429899\n98   id99    1.0   경기  47.0   0  NaN  ESFJ  97.381034\n99  id100   47.0   경기  53.0   0  vip  ESFP  33.308999\n\n[100 rows x 8 columns]",
      "text/html": "<div>\n<style scoped>\n    .dataframe tbody tr th:only-of-type {\n        vertical-align: middle;\n    }\n\n    .dataframe tbody tr th {\n        vertical-align: top;\n    }\n\n    .dataframe thead th {\n        text-align: right;\n    }\n</style>\n<table border=\"1\" class=\"dataframe\">\n  <thead>\n    <tr style=\"text-align: right;\">\n      <th></th>\n      <th>id</th>\n      <th>age</th>\n      <th>city</th>\n      <th>f1</th>\n      <th>f2</th>\n      <th>f3</th>\n      <th>f4</th>\n      <th>f5</th>\n    </tr>\n  </thead>\n  <tbody>\n    <tr>\n      <th>0</th>\n      <td>id01</td>\n      <td>2.0</td>\n      <td>서울</td>\n      <td>NaN</td>\n      <td>0</td>\n      <td>NaN</td>\n      <td>ENFJ</td>\n      <td>91.297791</td>\n    </tr>\n    <tr>\n      <th>1</th>\n      <td>id02</td>\n      <td>9.0</td>\n      <td>서울</td>\n      <td>70.0</td>\n      <td>1</td>\n      <td>NaN</td>\n      <td>ENFJ</td>\n      <td>60.339826</td>\n    </tr>\n    <tr>\n      <th>2</th>\n      <td>id03</td>\n      <td>27.0</td>\n      <td>서울</td>\n      <td>61.0</td>\n      <td>1</td>\n      <td>NaN</td>\n      <td>ISTJ</td>\n      <td>17.252986</td>\n    </tr>\n    <tr>\n      <th>3</th>\n      <td>id04</td>\n      <td>75.0</td>\n      <td>서울</td>\n      <td>NaN</td>\n      <td>2</td>\n      <td>NaN</td>\n      <td>INFP</td>\n      <td>52.667078</td>\n    </tr>\n    <tr>\n      <th>4</th>\n      <td>id05</td>\n      <td>24.0</td>\n      <td>서울</td>\n      <td>85.0</td>\n      <td>2</td>\n      <td>NaN</td>\n      <td>ISFJ</td>\n      <td>29.269869</td>\n    </tr>\n    <tr>\n      <th>...</th>\n      <td>...</td>\n      <td>...</td>\n      <td>...</td>\n      <td>...</td>\n      <td>...</td>\n      <td>...</td>\n      <td>...</td>\n      <td>...</td>\n    </tr>\n    <tr>\n      <th>95</th>\n      <td>id96</td>\n      <td>92.0</td>\n      <td>경기</td>\n      <td>53.0</td>\n      <td>1</td>\n      <td>NaN</td>\n      <td>ENTJ</td>\n      <td>52.667078</td>\n    </tr>\n    <tr>\n      <th>96</th>\n      <td>id97</td>\n      <td>100.0</td>\n      <td>경기</td>\n      <td>NaN</td>\n      <td>0</td>\n      <td>NaN</td>\n      <td>INFP</td>\n      <td>67.886373</td>\n    </tr>\n    <tr>\n      <th>97</th>\n      <td>id98</td>\n      <td>39.0</td>\n      <td>경기</td>\n      <td>58.0</td>\n      <td>2</td>\n      <td>NaN</td>\n      <td>INFP</td>\n      <td>98.429899</td>\n    </tr>\n    <tr>\n      <th>98</th>\n      <td>id99</td>\n      <td>1.0</td>\n      <td>경기</td>\n      <td>47.0</td>\n      <td>0</td>\n      <td>NaN</td>\n      <td>ESFJ</td>\n      <td>97.381034</td>\n    </tr>\n    <tr>\n      <th>99</th>\n      <td>id100</td>\n      <td>47.0</td>\n      <td>경기</td>\n      <td>53.0</td>\n      <td>0</td>\n      <td>vip</td>\n      <td>ESFP</td>\n      <td>33.308999</td>\n    </tr>\n  </tbody>\n</table>\n<p>100 rows × 8 columns</p>\n</div>"
     },
     "execution_count": 4,
     "metadata": {},
     "output_type": "execute_result"
    }
   ],
   "source": [
    "# 라이브러리 및 데이터 불러오기\n",
    "import pandas as pd\n",
    "from sklearn.preprocessing import power_transform\n",
    "\n",
    "df = pd.read_csv('data/basic1.csv')\n",
    "df"
   ],
   "metadata": {
    "collapsed": false,
    "pycharm": {
     "name": "#%%\n"
    }
   }
  },
  {
   "cell_type": "code",
   "execution_count": 5,
   "outputs": [
    {
     "data": {
      "text/plain": "       id    age city    f1  f2   f3    f4         f5\n2    id03   27.0   서울  61.0   1  NaN  ISTJ  17.252986\n3    id04   75.0   서울   NaN   2  NaN  INFP  52.667078\n4    id05   24.0   서울  85.0   2  NaN  ISFJ  29.269869\n5    id06   22.0   서울  57.0   0  vip  INTP  20.129444\n6    id07   36.3   서울  60.0   1  NaN  ISFJ   9.796378\n..    ...    ...  ...   ...  ..  ...   ...        ...\n94   id95   77.0   경기  43.0   1  NaN  INTJ  91.297791\n95   id96   92.0   경기  53.0   1  NaN  ENTJ  52.667078\n96   id97  100.0   경기   NaN   0  NaN  INFP  67.886373\n97   id98   39.0   경기  58.0   2  NaN  INFP  98.429899\n99  id100   47.0   경기  53.0   0  vip  ESFP  33.308999\n\n[83 rows x 8 columns]",
      "text/html": "<div>\n<style scoped>\n    .dataframe tbody tr th:only-of-type {\n        vertical-align: middle;\n    }\n\n    .dataframe tbody tr th {\n        vertical-align: top;\n    }\n\n    .dataframe thead th {\n        text-align: right;\n    }\n</style>\n<table border=\"1\" class=\"dataframe\">\n  <thead>\n    <tr style=\"text-align: right;\">\n      <th></th>\n      <th>id</th>\n      <th>age</th>\n      <th>city</th>\n      <th>f1</th>\n      <th>f2</th>\n      <th>f3</th>\n      <th>f4</th>\n      <th>f5</th>\n    </tr>\n  </thead>\n  <tbody>\n    <tr>\n      <th>2</th>\n      <td>id03</td>\n      <td>27.0</td>\n      <td>서울</td>\n      <td>61.0</td>\n      <td>1</td>\n      <td>NaN</td>\n      <td>ISTJ</td>\n      <td>17.252986</td>\n    </tr>\n    <tr>\n      <th>3</th>\n      <td>id04</td>\n      <td>75.0</td>\n      <td>서울</td>\n      <td>NaN</td>\n      <td>2</td>\n      <td>NaN</td>\n      <td>INFP</td>\n      <td>52.667078</td>\n    </tr>\n    <tr>\n      <th>4</th>\n      <td>id05</td>\n      <td>24.0</td>\n      <td>서울</td>\n      <td>85.0</td>\n      <td>2</td>\n      <td>NaN</td>\n      <td>ISFJ</td>\n      <td>29.269869</td>\n    </tr>\n    <tr>\n      <th>5</th>\n      <td>id06</td>\n      <td>22.0</td>\n      <td>서울</td>\n      <td>57.0</td>\n      <td>0</td>\n      <td>vip</td>\n      <td>INTP</td>\n      <td>20.129444</td>\n    </tr>\n    <tr>\n      <th>6</th>\n      <td>id07</td>\n      <td>36.3</td>\n      <td>서울</td>\n      <td>60.0</td>\n      <td>1</td>\n      <td>NaN</td>\n      <td>ISFJ</td>\n      <td>9.796378</td>\n    </tr>\n    <tr>\n      <th>...</th>\n      <td>...</td>\n      <td>...</td>\n      <td>...</td>\n      <td>...</td>\n      <td>...</td>\n      <td>...</td>\n      <td>...</td>\n      <td>...</td>\n    </tr>\n    <tr>\n      <th>94</th>\n      <td>id95</td>\n      <td>77.0</td>\n      <td>경기</td>\n      <td>43.0</td>\n      <td>1</td>\n      <td>NaN</td>\n      <td>INTJ</td>\n      <td>91.297791</td>\n    </tr>\n    <tr>\n      <th>95</th>\n      <td>id96</td>\n      <td>92.0</td>\n      <td>경기</td>\n      <td>53.0</td>\n      <td>1</td>\n      <td>NaN</td>\n      <td>ENTJ</td>\n      <td>52.667078</td>\n    </tr>\n    <tr>\n      <th>96</th>\n      <td>id97</td>\n      <td>100.0</td>\n      <td>경기</td>\n      <td>NaN</td>\n      <td>0</td>\n      <td>NaN</td>\n      <td>INFP</td>\n      <td>67.886373</td>\n    </tr>\n    <tr>\n      <th>97</th>\n      <td>id98</td>\n      <td>39.0</td>\n      <td>경기</td>\n      <td>58.0</td>\n      <td>2</td>\n      <td>NaN</td>\n      <td>INFP</td>\n      <td>98.429899</td>\n    </tr>\n    <tr>\n      <th>99</th>\n      <td>id100</td>\n      <td>47.0</td>\n      <td>경기</td>\n      <td>53.0</td>\n      <td>0</td>\n      <td>vip</td>\n      <td>ESFP</td>\n      <td>33.308999</td>\n    </tr>\n  </tbody>\n</table>\n<p>83 rows × 8 columns</p>\n</div>"
     },
     "execution_count": 5,
     "metadata": {},
     "output_type": "execute_result"
    }
   ],
   "source": [
    "# 조건에 맞는 데이터\n",
    "df = df[df['age']>=20]\n",
    "df"
   ],
   "metadata": {
    "collapsed": false,
    "pycharm": {
     "name": "#%%\n"
    }
   }
  },
  {
   "cell_type": "code",
   "execution_count": 6,
   "outputs": [
    {
     "name": "stderr",
     "output_type": "stream",
     "text": [
      "C:\\Users\\ganghyun\\AppData\\Local\\Temp/ipykernel_18340/59863712.py:2: SettingWithCopyWarning: \n",
      "A value is trying to be set on a copy of a slice from a DataFrame.\n",
      "Try using .loc[row_indexer,col_indexer] = value instead\n",
      "\n",
      "See the caveats in the documentation: https://pandas.pydata.org/pandas-docs/stable/user_guide/indexing.html#returning-a-view-versus-a-copy\n",
      "  df['f1'] = df['f1'].fillna(df['f1'].mode()[0])\n"
     ]
    },
    {
     "data": {
      "text/plain": "       id    age city    f1  f2   f3    f4         f5\n2    id03   27.0   서울  61.0   1  NaN  ISTJ  17.252986\n3    id04   75.0   서울  50.0   2  NaN  INFP  52.667078\n4    id05   24.0   서울  85.0   2  NaN  ISFJ  29.269869\n5    id06   22.0   서울  57.0   0  vip  INTP  20.129444\n6    id07   36.3   서울  60.0   1  NaN  ISFJ   9.796378\n..    ...    ...  ...   ...  ..  ...   ...        ...\n94   id95   77.0   경기  43.0   1  NaN  INTJ  91.297791\n95   id96   92.0   경기  53.0   1  NaN  ENTJ  52.667078\n96   id97  100.0   경기  50.0   0  NaN  INFP  67.886373\n97   id98   39.0   경기  58.0   2  NaN  INFP  98.429899\n99  id100   47.0   경기  53.0   0  vip  ESFP  33.308999\n\n[83 rows x 8 columns]",
      "text/html": "<div>\n<style scoped>\n    .dataframe tbody tr th:only-of-type {\n        vertical-align: middle;\n    }\n\n    .dataframe tbody tr th {\n        vertical-align: top;\n    }\n\n    .dataframe thead th {\n        text-align: right;\n    }\n</style>\n<table border=\"1\" class=\"dataframe\">\n  <thead>\n    <tr style=\"text-align: right;\">\n      <th></th>\n      <th>id</th>\n      <th>age</th>\n      <th>city</th>\n      <th>f1</th>\n      <th>f2</th>\n      <th>f3</th>\n      <th>f4</th>\n      <th>f5</th>\n    </tr>\n  </thead>\n  <tbody>\n    <tr>\n      <th>2</th>\n      <td>id03</td>\n      <td>27.0</td>\n      <td>서울</td>\n      <td>61.0</td>\n      <td>1</td>\n      <td>NaN</td>\n      <td>ISTJ</td>\n      <td>17.252986</td>\n    </tr>\n    <tr>\n      <th>3</th>\n      <td>id04</td>\n      <td>75.0</td>\n      <td>서울</td>\n      <td>50.0</td>\n      <td>2</td>\n      <td>NaN</td>\n      <td>INFP</td>\n      <td>52.667078</td>\n    </tr>\n    <tr>\n      <th>4</th>\n      <td>id05</td>\n      <td>24.0</td>\n      <td>서울</td>\n      <td>85.0</td>\n      <td>2</td>\n      <td>NaN</td>\n      <td>ISFJ</td>\n      <td>29.269869</td>\n    </tr>\n    <tr>\n      <th>5</th>\n      <td>id06</td>\n      <td>22.0</td>\n      <td>서울</td>\n      <td>57.0</td>\n      <td>0</td>\n      <td>vip</td>\n      <td>INTP</td>\n      <td>20.129444</td>\n    </tr>\n    <tr>\n      <th>6</th>\n      <td>id07</td>\n      <td>36.3</td>\n      <td>서울</td>\n      <td>60.0</td>\n      <td>1</td>\n      <td>NaN</td>\n      <td>ISFJ</td>\n      <td>9.796378</td>\n    </tr>\n    <tr>\n      <th>...</th>\n      <td>...</td>\n      <td>...</td>\n      <td>...</td>\n      <td>...</td>\n      <td>...</td>\n      <td>...</td>\n      <td>...</td>\n      <td>...</td>\n    </tr>\n    <tr>\n      <th>94</th>\n      <td>id95</td>\n      <td>77.0</td>\n      <td>경기</td>\n      <td>43.0</td>\n      <td>1</td>\n      <td>NaN</td>\n      <td>INTJ</td>\n      <td>91.297791</td>\n    </tr>\n    <tr>\n      <th>95</th>\n      <td>id96</td>\n      <td>92.0</td>\n      <td>경기</td>\n      <td>53.0</td>\n      <td>1</td>\n      <td>NaN</td>\n      <td>ENTJ</td>\n      <td>52.667078</td>\n    </tr>\n    <tr>\n      <th>96</th>\n      <td>id97</td>\n      <td>100.0</td>\n      <td>경기</td>\n      <td>50.0</td>\n      <td>0</td>\n      <td>NaN</td>\n      <td>INFP</td>\n      <td>67.886373</td>\n    </tr>\n    <tr>\n      <th>97</th>\n      <td>id98</td>\n      <td>39.0</td>\n      <td>경기</td>\n      <td>58.0</td>\n      <td>2</td>\n      <td>NaN</td>\n      <td>INFP</td>\n      <td>98.429899</td>\n    </tr>\n    <tr>\n      <th>99</th>\n      <td>id100</td>\n      <td>47.0</td>\n      <td>경기</td>\n      <td>53.0</td>\n      <td>0</td>\n      <td>vip</td>\n      <td>ESFP</td>\n      <td>33.308999</td>\n    </tr>\n  </tbody>\n</table>\n<p>83 rows × 8 columns</p>\n</div>"
     },
     "execution_count": 6,
     "metadata": {},
     "output_type": "execute_result"
    }
   ],
   "source": [
    "# 최빈값으로 'f1' 컬럼 결측치 대체\n",
    "df['f1'] = df['f1'].fillna(df['f1'].mode()[0])\n",
    "df"
   ],
   "metadata": {
    "collapsed": false,
    "pycharm": {
     "name": "#%%\n"
    }
   }
  },
  {
   "cell_type": "code",
   "execution_count": 7,
   "outputs": [
    {
     "name": "stderr",
     "output_type": "stream",
     "text": [
      "C:\\Users\\ganghyun\\AppData\\Local\\Temp/ipykernel_18340/2913971554.py:2: SettingWithCopyWarning: \n",
      "A value is trying to be set on a copy of a slice from a DataFrame.\n",
      "Try using .loc[row_indexer,col_indexer] = value instead\n",
      "\n",
      "See the caveats in the documentation: https://pandas.pydata.org/pandas-docs/stable/user_guide/indexing.html#returning-a-view-versus-a-copy\n",
      "  df['y'] = power_transform(df[['f1']],method='yeo-johnson', standardize=False)\n"
     ]
    },
    {
     "data": {
      "text/plain": "2     20.583423\n3     17.968081\n4     25.773745\n5     19.653167\n6     20.352915\n        ...    \n94    16.198225\n95    18.699749\n96    17.968081\n97    19.887818\n99    18.699749\nName: y, Length: 83, dtype: float64"
     },
     "execution_count": 7,
     "metadata": {},
     "output_type": "execute_result"
    }
   ],
   "source": [
    "# 'f1'데이터 여-존슨 yeo-johnson 값 구하기\n",
    "df['y'] = power_transform(df[['f1']],method='yeo-johnson', standardize=False)\n",
    "df['y']"
   ],
   "metadata": {
    "collapsed": false,
    "pycharm": {
     "name": "#%%\n"
    }
   }
  },
  {
   "cell_type": "code",
   "execution_count": 8,
   "outputs": [
    {
     "name": "stderr",
     "output_type": "stream",
     "text": [
      "C:\\Users\\ganghyun\\AppData\\Local\\Temp/ipykernel_18340/2869214079.py:2: SettingWithCopyWarning: \n",
      "A value is trying to be set on a copy of a slice from a DataFrame.\n",
      "Try using .loc[row_indexer,col_indexer] = value instead\n",
      "\n",
      "See the caveats in the documentation: https://pandas.pydata.org/pandas-docs/stable/user_guide/indexing.html#returning-a-view-versus-a-copy\n",
      "  df['b'] = power_transform(df[['f1']], method='box-cox', standardize=False)\n"
     ]
    },
    {
     "data": {
      "text/plain": "2     21.067090\n3     18.305263\n4     26.557680\n5     20.084373\n6     20.823545\n        ...    \n94    16.437954\n95    19.077601\n96    18.305263\n97    20.332219\n99    19.077601\nName: b, Length: 83, dtype: float64"
     },
     "execution_count": 8,
     "metadata": {},
     "output_type": "execute_result"
    }
   ],
   "source": [
    "# 'f1'데이터 박스-콕스 box-cox 값 구하기\n",
    "df['b'] = power_transform(df[['f1']], method='box-cox', standardize=False)\n",
    "df['b']"
   ],
   "metadata": {
    "collapsed": false,
    "pycharm": {
     "name": "#%%\n"
    }
   }
  },
  {
   "cell_type": "code",
   "execution_count": 9,
   "outputs": [
    {
     "name": "stdout",
     "output_type": "stream",
     "text": [
      "39.17\n"
     ]
    }
   ],
   "source": [
    "# 두 값의 차이를 절대값으로 구한다음 모두 더해 소수점 둘째 자리까지 출력(반올림)\n",
    "print(round(sum(abs(df['y'] - df['b'])), 2))"
   ],
   "metadata": {
    "collapsed": false,
    "pycharm": {
     "name": "#%%\n"
    }
   }
  },
  {
   "cell_type": "markdown",
   "source": [
    "## **T1-11. min-max 기준 상하위 5%값 Expected Questions**\n",
    "\n",
    "### min-max스케일링 기준 상하위 5% 구하기\n",
    "\n",
    "주어진 데이터에서 'f5'컬럼을 min-max 스케일 변환한 후, 상위 5%와 하위 5% 값의 합을 구하시오\n",
    "- 데이터셋 : basic1.csv\n",
    "- 오른쪽 상단 copy&edit 클릭 -> 예상문제 풀이 시작\n",
    "- File -> Editor Type -> Script"
   ],
   "metadata": {
    "collapsed": false,
    "pycharm": {
     "name": "#%% md\n"
    }
   }
  },
  {
   "cell_type": "code",
   "execution_count": 10,
   "outputs": [],
   "source": [
    "# 라이브러리 및 데이터 불러오기\n",
    "import pandas as pd\n",
    "from sklearn.preprocessing import MinMaxScaler\n",
    "\n",
    "df = pd.read_csv('data/basic1.csv')"
   ],
   "metadata": {
    "collapsed": false,
    "pycharm": {
     "name": "#%%\n"
    }
   }
  },
  {
   "cell_type": "code",
   "execution_count": 11,
   "outputs": [
    {
     "name": "stdout",
     "output_type": "stream",
     "text": [
      "id       0\n",
      "age      0\n",
      "city     0\n",
      "f1      31\n",
      "f2       0\n",
      "f3      95\n",
      "f4       0\n",
      "f5       0\n",
      "dtype: int64\n"
     ]
    }
   ],
   "source": [
    "# EDA (결측치 확인)\n",
    "print(df.isnull().sum())"
   ],
   "metadata": {
    "collapsed": false,
    "pycharm": {
     "name": "#%%\n"
    }
   }
  },
  {
   "cell_type": "code",
   "execution_count": 12,
   "outputs": [
    {
     "data": {
      "text/plain": "     id   age city    f1  f2   f3    f4         f5      f5_1\n0  id01   2.0   서울   NaN   0  NaN  ENFJ  91.297791  0.919533\n1  id02   9.0   서울  70.0   1  NaN  ENFJ  60.339826  0.570252\n2  id03  27.0   서울  61.0   1  NaN  ISTJ  17.252986  0.084129\n3  id04  75.0   서울   NaN   2  NaN  INFP  52.667078  0.483685\n4  id05  24.0   서울  85.0   2  NaN  ISFJ  29.269869  0.219708",
      "text/html": "<div>\n<style scoped>\n    .dataframe tbody tr th:only-of-type {\n        vertical-align: middle;\n    }\n\n    .dataframe tbody tr th {\n        vertical-align: top;\n    }\n\n    .dataframe thead th {\n        text-align: right;\n    }\n</style>\n<table border=\"1\" class=\"dataframe\">\n  <thead>\n    <tr style=\"text-align: right;\">\n      <th></th>\n      <th>id</th>\n      <th>age</th>\n      <th>city</th>\n      <th>f1</th>\n      <th>f2</th>\n      <th>f3</th>\n      <th>f4</th>\n      <th>f5</th>\n      <th>f5_1</th>\n    </tr>\n  </thead>\n  <tbody>\n    <tr>\n      <th>0</th>\n      <td>id01</td>\n      <td>2.0</td>\n      <td>서울</td>\n      <td>NaN</td>\n      <td>0</td>\n      <td>NaN</td>\n      <td>ENFJ</td>\n      <td>91.297791</td>\n      <td>0.919533</td>\n    </tr>\n    <tr>\n      <th>1</th>\n      <td>id02</td>\n      <td>9.0</td>\n      <td>서울</td>\n      <td>70.0</td>\n      <td>1</td>\n      <td>NaN</td>\n      <td>ENFJ</td>\n      <td>60.339826</td>\n      <td>0.570252</td>\n    </tr>\n    <tr>\n      <th>2</th>\n      <td>id03</td>\n      <td>27.0</td>\n      <td>서울</td>\n      <td>61.0</td>\n      <td>1</td>\n      <td>NaN</td>\n      <td>ISTJ</td>\n      <td>17.252986</td>\n      <td>0.084129</td>\n    </tr>\n    <tr>\n      <th>3</th>\n      <td>id04</td>\n      <td>75.0</td>\n      <td>서울</td>\n      <td>NaN</td>\n      <td>2</td>\n      <td>NaN</td>\n      <td>INFP</td>\n      <td>52.667078</td>\n      <td>0.483685</td>\n    </tr>\n    <tr>\n      <th>4</th>\n      <td>id05</td>\n      <td>24.0</td>\n      <td>서울</td>\n      <td>85.0</td>\n      <td>2</td>\n      <td>NaN</td>\n      <td>ISFJ</td>\n      <td>29.269869</td>\n      <td>0.219708</td>\n    </tr>\n  </tbody>\n</table>\n</div>"
     },
     "execution_count": 12,
     "metadata": {},
     "output_type": "execute_result"
    }
   ],
   "source": [
    "# min-max scale 방법1\n",
    "scaler = MinMaxScaler()\n",
    "df['f5_1'] = scaler.fit_transform(df[['f5']])\n",
    "df.head()"
   ],
   "metadata": {
    "collapsed": false,
    "pycharm": {
     "name": "#%%\n"
    }
   }
  },
  {
   "cell_type": "code",
   "execution_count": 13,
   "outputs": [
    {
     "data": {
      "text/plain": "     id   age city    f1  f2   f3    f4         f5      f5_1      f5_2\n0  id01   2.0   서울   NaN   0  NaN  ENFJ  91.297791  0.919533  0.919533\n1  id02   9.0   서울  70.0   1  NaN  ENFJ  60.339826  0.570252  0.570252\n2  id03  27.0   서울  61.0   1  NaN  ISTJ  17.252986  0.084129  0.084129\n3  id04  75.0   서울   NaN   2  NaN  INFP  52.667078  0.483685  0.483685\n4  id05  24.0   서울  85.0   2  NaN  ISFJ  29.269869  0.219708  0.219708",
      "text/html": "<div>\n<style scoped>\n    .dataframe tbody tr th:only-of-type {\n        vertical-align: middle;\n    }\n\n    .dataframe tbody tr th {\n        vertical-align: top;\n    }\n\n    .dataframe thead th {\n        text-align: right;\n    }\n</style>\n<table border=\"1\" class=\"dataframe\">\n  <thead>\n    <tr style=\"text-align: right;\">\n      <th></th>\n      <th>id</th>\n      <th>age</th>\n      <th>city</th>\n      <th>f1</th>\n      <th>f2</th>\n      <th>f3</th>\n      <th>f4</th>\n      <th>f5</th>\n      <th>f5_1</th>\n      <th>f5_2</th>\n    </tr>\n  </thead>\n  <tbody>\n    <tr>\n      <th>0</th>\n      <td>id01</td>\n      <td>2.0</td>\n      <td>서울</td>\n      <td>NaN</td>\n      <td>0</td>\n      <td>NaN</td>\n      <td>ENFJ</td>\n      <td>91.297791</td>\n      <td>0.919533</td>\n      <td>0.919533</td>\n    </tr>\n    <tr>\n      <th>1</th>\n      <td>id02</td>\n      <td>9.0</td>\n      <td>서울</td>\n      <td>70.0</td>\n      <td>1</td>\n      <td>NaN</td>\n      <td>ENFJ</td>\n      <td>60.339826</td>\n      <td>0.570252</td>\n      <td>0.570252</td>\n    </tr>\n    <tr>\n      <th>2</th>\n      <td>id03</td>\n      <td>27.0</td>\n      <td>서울</td>\n      <td>61.0</td>\n      <td>1</td>\n      <td>NaN</td>\n      <td>ISTJ</td>\n      <td>17.252986</td>\n      <td>0.084129</td>\n      <td>0.084129</td>\n    </tr>\n    <tr>\n      <th>3</th>\n      <td>id04</td>\n      <td>75.0</td>\n      <td>서울</td>\n      <td>NaN</td>\n      <td>2</td>\n      <td>NaN</td>\n      <td>INFP</td>\n      <td>52.667078</td>\n      <td>0.483685</td>\n      <td>0.483685</td>\n    </tr>\n    <tr>\n      <th>4</th>\n      <td>id05</td>\n      <td>24.0</td>\n      <td>서울</td>\n      <td>85.0</td>\n      <td>2</td>\n      <td>NaN</td>\n      <td>ISFJ</td>\n      <td>29.269869</td>\n      <td>0.219708</td>\n      <td>0.219708</td>\n    </tr>\n  </tbody>\n</table>\n</div>"
     },
     "execution_count": 13,
     "metadata": {},
     "output_type": "execute_result"
    }
   ],
   "source": [
    "# min-max scale 방법2\n",
    "df['f5_2'] = df['f5'].transform(lambda x: ((x - x.min()) / (x.max() - x.min())))\n",
    "df.head()"
   ],
   "metadata": {
    "collapsed": false,
    "pycharm": {
     "name": "#%%\n"
    }
   }
  },
  {
   "cell_type": "code",
   "execution_count": 14,
   "outputs": [
    {
     "name": "stdout",
     "output_type": "stream",
     "text": [
      "0.03670782406038746 0.9881662742993513\n",
      "1.0248740983597389\n"
     ]
    }
   ],
   "source": [
    "# 하위 5%, 상위 5% 값 구하기\n",
    "lower = df['f5_1'].quantile(0.05)\n",
    "upper = df['f5_1'].quantile(0.95)\n",
    "print(lower, upper)\n",
    "print(lower+upper)"
   ],
   "metadata": {
    "collapsed": false,
    "pycharm": {
     "name": "#%%\n"
    }
   }
  },
  {
   "cell_type": "markdown",
   "source": [
    "## **T1-12. 상위 10개, 하위 10개 차이  Expected Questions**\n",
    "\n",
    "### 주어진 데이터에서 상위 10개 국가의 접종률 평균과 하위 10개 국가의 접종률 평균을 구하고, 그 차이를 구해보세요\n",
    "(단, 100%가 넘는 접종률 제거, 소수 첫째자리까지 출력)\n",
    "- 데이터셋 : ../input/covid-vaccination-vs-death/covid_vaccination_vs_death_ratio.csv\n",
    "- 오른쪽 상단 copy&edit 클릭 -> 예상문제 풀이 시작\n",
    "- File -> Editor Type -> Script"
   ],
   "metadata": {
    "collapsed": false,
    "pycharm": {
     "name": "#%% md\n"
    }
   }
  },
  {
   "cell_type": "code",
   "execution_count": 15,
   "outputs": [
    {
     "name": "stdout",
     "output_type": "stream",
     "text": [
      "88.4\n"
     ]
    }
   ],
   "source": [
    "import pandas as pd\n",
    "\n",
    "# load data\n",
    "df = pd.read_csv('data/covid-vaccination-vs-death_ratio.csv')\n",
    "# print(df.head())\n",
    "\n",
    "# sort by ratio\n",
    "df2 = df.groupby('country').max()\n",
    "df2 = df2.sort_values(by='ratio', ascending=False)\n",
    "# print(df2['ratio'].head())\n",
    "\n",
    "# 이상치 제거 (접종률 100% 이상)\n",
    "df2 = df2[1:]\n",
    "# print(df2['ratio'].head())\n",
    "\n",
    "# 하위 10개, 상위 10개국 평균 접종률\n",
    "bottom = df2['ratio'].head(10).mean()\n",
    "top = df2['ratio'].tail(10).mean()\n",
    "\n",
    "# 차이 출력\n",
    "print(round(bottom - top, 1))"
   ],
   "metadata": {
    "collapsed": false,
    "pycharm": {
     "name": "#%%\n"
    }
   }
  }
 ],
 "metadata": {
  "kernelspec": {
   "display_name": "Python 3",
   "language": "python",
   "name": "python3"
  },
  "language_info": {
   "codemirror_mode": {
    "name": "ipython",
    "version": 2
   },
   "file_extension": ".py",
   "mimetype": "text/x-python",
   "name": "python",
   "nbconvert_exporter": "python",
   "pygments_lexer": "ipython2",
   "version": "2.7.6"
  }
 },
 "nbformat": 4,
 "nbformat_minor": 0
}