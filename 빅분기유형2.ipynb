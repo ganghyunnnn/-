{
  "nbformat": 4,
  "nbformat_minor": 0,
  "metadata": {
    "colab": {
      "name": "빅분기유형2.ipynb",
      "provenance": [],
      "mount_file_id": "1eVGtcGdrBVFWGi6GEagLVk7lt-nR503Q",
      "authorship_tag": "ABX9TyOtaoz5usqLOLXygweVR68B",
      "include_colab_link": true
    },
    "kernelspec": {
      "name": "python3",
      "display_name": "Python 3"
    },
    "language_info": {
      "name": "python"
    }
  },
  "cells": [
    {
      "cell_type": "markdown",
      "metadata": {
        "id": "view-in-github",
        "colab_type": "text"
      },
      "source": [
        "<a href=\"https://colab.research.google.com/github/ganghyunnnn/bigdata_test/blob/main/%EB%B9%85%EB%B6%84%EA%B8%B0%EC%9C%A0%ED%98%952.ipynb\" target=\"_parent\"><img src=\"https://colab.research.google.com/assets/colab-badge.svg\" alt=\"Open In Colab\"/></a>"
      ]
    },
    {
      "cell_type": "markdown",
      "source": [
        "## **1. 제품 배송 시간에 맞춰 배송되었는지 예측모델 만들기 (2회 기출)**\n",
        "학습용 데이터 (X_train, y_train)을 이용하여 배송 예측 모형을 만든 후, 이를 평가용 데이터(X_test)에 적용하여 얻은 예측값을 다음과 같은 형식의 CSV파일로 생성하시오(제출한 모델의 성능은 ROC-AUC 평가지표에 따라 채점)\n",
        "\n",
        "![T2_2](https://user-images.githubusercontent.com/90819376/173796015-69db3c07-4e16-4828-8a3d-d00c474932ad.png)\n",
        "\n",
        "(유의사항)\n",
        "- 성능이 우수한 예측모형을 구축하기 위해서는 적절한 데이터 전처리, 피처엔지니어링, 분류알고리즘, 하이퍼파라미터 튜닝, 모형 앙상블 등이 수반되어야 한다.\n",
        "- 수험번호.csv파일이 만들어지도록 코드를 제출한다.\n",
        "- 제출한 모델의 성능은 ROC-AUC형태로 읽어드린다.\n",
        "\n",
        "### [참고]작업형2 문구\n",
        "- 출력을 원하실 경우 print() 함수 활용\n",
        "- 예시) print(df.head())\n",
        "- getcwd(), chdir() 등 작업 폴더 설정 불필요\n",
        "- 파일 경로 상 내부 드라이브 경로(C: 등) 접근 불가\n",
        "\n",
        "### 데이터 파일 읽기 예제\n",
        "- import pandas as pd\n",
        "- X_test = pd.read_csv(\"data/X_test.csv\")\n",
        "- X_train = pd.read_csv(\"data/X_train.csv\")\n",
        "- y_train = pd.read_csv(\"data/y_train.csv\")\n",
        "\n",
        "### 답안 제출 참고\n",
        "- 아래 코드 예측변수와 수험번호를 개인별로 변경하여 활용\n",
        "- pd.DataFrame({'cust_id': X_test.cust_id, 'gender': pred}).to_csv('003000000.csv', index=False)"
      ],
      "metadata": {
        "id": "-gL3nwfmxVme"
      }
    },
    {
      "cell_type": "code",
      "source": [
        "### 시험환경 세팅 (코드 변경 X)\n",
        "import pandas as pd\n",
        "import numpy as np\n",
        "from sklearn.model_selection import train_test_split\n",
        "\n",
        "def exam_data_load(df, target, id_name=\"\", null_name=\"\"):\n",
        "    if id_name == \"\":\n",
        "        df = df.reset_index().rename(columns={\"index\": \"id\"})\n",
        "        id_name = 'id'\n",
        "    else:\n",
        "        id_name = id_name\n",
        "    \n",
        "    if null_name != \"\":\n",
        "        df[df == null_name] = np.nan\n",
        "    \n",
        "    X_train, X_test = train_test_split(df, test_size=0.2, random_state=2021)\n",
        "    \n",
        "    y_train = X_train[[id_name, target]]\n",
        "    X_train = X_train.drop(columns=[target])\n",
        "\n",
        "    \n",
        "    y_test = X_test[[id_name, target]]\n",
        "    X_test = X_test.drop(columns=[target])\n",
        "    return X_train, X_test, y_train, y_test \n",
        "  \n",
        "df = pd.read_csv(\"/content/drive/MyDrive/빅분기/Train.csv\")\n",
        "X_train, X_test, y_train, y_test = exam_data_load(df, target='Reached.on.Time_Y.N', id_name='ID')\n",
        "\n",
        "X_train.shape, X_test.shape, y_train.shape, y_test.shape\n",
        "### 시험환경 세팅 (코드 변경 X)\n",
        "\n",
        "\n",
        "# print(X_train.head())\n",
        "# print(y_train.head())\n",
        "\n",
        "# print(X_train.isna().sum())\n",
        "\n",
        "X_train = X_train.drop(['ID'], axis=1)\n",
        "id = X_test.pop('ID')\n",
        "# X_test = X_test.drop(['ID'], axis=1)\n",
        "# print(X_train.head())\n",
        "# print(X_test.head())\n",
        "\n",
        "from sklearn.preprocessing import LabelEncoder\n",
        "le = LabelEncoder()\n",
        "col = ['Warehouse_block', 'Mode_of_Shipment', 'Product_importance', 'Gender']\n",
        "for cols in col:\n",
        "  X_train[cols] = le.fit_transform(X_train[cols])\n",
        "  X_test[cols] = le.fit_transform(X_test[cols])\n",
        "\n",
        "# print(X_train.head())\n",
        "\n",
        "from sklearn.model_selection import train_test_split\n",
        "X_tr, X_val, y_tr, y_val = train_test_split(X_train, y_train['Reached.on.Time_Y.N'], test_size=0.2, random_state=42)\n",
        "\n",
        "from sklearn.ensemble import RandomForestClassifier\n",
        "model = RandomForestClassifier(n_estimators=100, max_depth=7, random_state=42)\n",
        "model.fit(X_tr, y_tr)\n",
        "# print(model.score(X_val, y_val))\n",
        "pred = model.predict(X_test)\n",
        "# print(pred)\n",
        "\n",
        "result = pd.DataFrame({'ID' : id, 'Reached.on.Time_Y.N' : pred})\n",
        "result.to_csv('/content/drive/MyDrive/빅분기/csv/1번.csv', index=False)\n",
        "print(pd.read_csv('/content/drive/MyDrive/빅분기/csv/1번.csv'))"
      ],
      "metadata": {
        "colab": {
          "base_uri": "https://localhost:8080/"
        },
        "id": "D59w0byEyG_p",
        "outputId": "4418be1b-4709-4547-a1e2-31a3442f6e14"
      },
      "execution_count": 99,
      "outputs": [
        {
          "output_type": "stream",
          "name": "stdout",
          "text": [
            "        ID  Reached.on.Time_Y.N\n",
            "0     4733                    0\n",
            "1     2040                    1\n",
            "2     5114                    0\n",
            "3     2361                    1\n",
            "4     5996                    0\n",
            "...    ...                  ...\n",
            "2195   360                    1\n",
            "2196  7832                    0\n",
            "2197  9754                    0\n",
            "2198  3751                    0\n",
            "2199  4414                    0\n",
            "\n",
            "[2200 rows x 2 columns]\n"
          ]
        }
      ]
    },
    {
      "cell_type": "markdown",
      "source": [
        "## **2. T2-Exercise (dataq 공식제공)**\n",
        "\n",
        "### 백화점 고객의 1년 간 구매 데이터를 활용해 남자일 확률 예측\n",
        "- 데이터 전처리\n",
        "- Feature Engineering\n",
        "- 모델링 (분류 알고리즘 사용)\n",
        "- 하이퍼파라미터 튜닝 (초매개변수 최적화)\n",
        "- 모형 앙상블\n",
        "- csv제출\n",
        "\n",
        "### 유의사항\n",
        "- 수험번호.csv 파일이 만들어지도록 코드를 제출함\n",
        "- 제출한 모델의 성능은 ROC-AUC 평가지표에 따라 채점함"
      ],
      "metadata": {
        "id": "hwkZ3m_b-3Wt"
      }
    },
    {
      "cell_type": "code",
      "source": [
        "import pandas as pd\n",
        "\n",
        "X_train = pd.read_csv('/content/drive/MyDrive/빅분기/T2-Exercise/X_train.csv', encoding='euc-kr')\n",
        "X_test = pd.read_csv('/content/drive/MyDrive/빅분기/T2-Exercise/X_test.csv', encoding='euc-kr')\n",
        "y_train = pd.read_csv('/content/drive/MyDrive/빅분기/T2-Exercise/y_train.csv', encoding='euc-kr')\n",
        "\n",
        "\n",
        "# print(X_train.head())\n",
        "\n",
        "# print(X_train.isna().sum())\n",
        "X_train['환불금액'] = X_train['환불금액'].fillna(0)\n",
        "X_test['환불금액'] = X_test['환불금액'].fillna(0)\n",
        "X_train = X_train.drop(['cust_id'], axis=1)\n",
        "X_test = X_test.drop(['cust_id'], axis=1)\n",
        "\n",
        "from sklearn.preprocessing import LabelEncoder\n",
        "le = LabelEncoder()\n",
        "col = ['주구매상품', '주구매지점']\n",
        "\n",
        "for cols in col:\n",
        "  X_train[cols] = le.fit_transform(X_train[cols])\n",
        "  X_test[cols] = le.fit_transform(X_test[cols])\n",
        "\n",
        "# print(X_train.head())\n",
        "\n",
        "from sklearn.preprocessing import minmax_scale\n",
        "col = ['총구매액', '최대구매액', '환불금액', '내점일수', '내점당구매건수', '주말방문비율', '구매주기']\n",
        "for cols in col:\n",
        "  X_train[cols] = minmax_scale(X_train[cols])\n",
        "  X_test[cols] = minmax_scale(X_test[cols])\n",
        "\n",
        "# print(X_train.head())\n",
        "# print(y_train.head())\n",
        "\n",
        "from sklearn.model_selection import train_test_split\n",
        "# print(help(train_test_split))\n",
        "X_train, X_val, y_train, y_val = train_test_split(X_train, y_train['gender'], test_size=0.2, random_state=42)\n",
        "# print(X_train.shape, X_val.shape, y_train.shape, y_val.shape)\n",
        "\n",
        "from sklearn.ensemble import RandomForestClassifier\n",
        "model = RandomForestClassifier(n_estimators=100, max_depth=6, random_state=42)\n",
        "model.fit(X_train, y_train)\n",
        "# print(model.score(X_val, y_val)\n",
        "pred = model.predict_proba(X_test)\n",
        "# print(pred)\n",
        "\n",
        "X_test = pd.read_csv('/content/drive/MyDrive/빅분기/T2-Exercise/X_test.csv', encoding='euc-kr')\n",
        "cust_id = X_test.pop('cust_id')\n",
        "result = pd.DataFrame({'cust_id' : cust_id, 'gender' : pred[:,1]})\n",
        "result.to_csv('/content/drive/MyDrive/빅분기/csv/2번.csv', index=False)\n",
        "\n",
        "print(pd.read_csv('/content/drive/MyDrive/빅분기/csv/2번.csv'))"
      ],
      "metadata": {
        "colab": {
          "base_uri": "https://localhost:8080/"
        },
        "id": "TY_VnHUD-3cu",
        "outputId": "3b02db6d-b38c-4b16-944f-a85c3e9a92ae"
      },
      "execution_count": 87,
      "outputs": [
        {
          "output_type": "stream",
          "name": "stdout",
          "text": [
            "      cust_id    gender\n",
            "0        3500  0.356197\n",
            "1        3501  0.182979\n",
            "2        3502  0.193014\n",
            "3        3503  0.441407\n",
            "4        3504  0.422145\n",
            "...       ...       ...\n",
            "2477     5977  0.494880\n",
            "2478     5978  0.431877\n",
            "2479     5979  0.520418\n",
            "2480     5980  0.397982\n",
            "2481     5981  0.531182\n",
            "\n",
            "[2482 rows x 2 columns]\n"
          ]
        }
      ]
    }
  ]
}