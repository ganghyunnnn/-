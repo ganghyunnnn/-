{
 "cells": [
  {
   "cell_type": "markdown",
   "metadata": {
    "collapsed": true,
    "pycharm": {
     "name": "#%% md\n"
    }
   },
   "source": [
    "## **T2. Exercise (Tutorial) Baseline**\n",
    "\n",
    "백화점 고객의 1년 간 구매 데이터를 활용해\n",
    "- 데이터 전처리\n",
    "- Feature Engineering\n",
    "- 모델링 (분류 알고리즘 사용)\n",
    "- 하이퍼파라미터 튜닝 (초매개변수 최적화)\n",
    "- 모형 앙상블\n",
    "- csv제출\n",
    "\n",
    "유의사항\n",
    "- 수험번호.csv 파일이 만들어지도록 코드를 제출함\n",
    "- 제출한 모델의 성능은 ROC-AUC 평가지표에 따라 채점함\n",
    "\n",
    "데이터 출처 및 연결\n",
    "- data 출처: https://www.dataq.or.kr/ - 공지사항 - 759번 제2회 빅데이터분석기사 실기 안내 - 첨부파일\n",
    "\n",
    "데이터셋 업로드\n",
    "- 데이터셋 프라이빗 업로드 : https://youtu.be/BZlEQ5JwLiA\n",
    "  - Datasets - new dataset - (drag&drop) - Create / 반드시 Private\n",
    "- 작업형2 예시: https://youtu.be/_GIBVt5-khk"
   ]
  },
  {
   "cell_type": "code",
   "execution_count": 203,
   "outputs": [
    {
     "name": "stdout",
     "output_type": "stream",
     "text": [
      "   cust_id      총구매액     최대구매액       환불금액   주구매상품 주구매지점  내점일수   내점당구매건수  \\\n",
      "0        0  68282840  11264000  6860000.0      기타   강남점    19  3.894737   \n",
      "1        1   2136000   2136000   300000.0     스포츠   잠실점     2  1.500000   \n",
      "2        2   3197000   1639000        NaN  남성 캐주얼   관악점     2  2.000000   \n",
      "3        3  16077620   4935000        NaN      기타   광주점    18  2.444444   \n",
      "4        4  29050000  24000000        NaN      보석  본  점     2  1.500000   \n",
      "\n",
      "     주말방문비율  구매주기  \n",
      "0  0.527027    17  \n",
      "1  0.000000     1  \n",
      "2  0.000000     1  \n",
      "3  0.318182    16  \n",
      "4  0.000000    85  \n",
      "----------------------------------------------------------\n",
      "   cust_id       총구매액     최대구매액        환불금액 주구매상품 주구매지점  내점일수    내점당구매건수  \\\n",
      "0     3500   70900400  22000000   4050000.0    골프  부산본점    13   1.461538   \n",
      "1     3501  310533100  38558000  48034700.0   농산물   잠실점    90   2.433333   \n",
      "2     3502  305264140  14825000  30521000.0  가공식품  본  점   101  14.623762   \n",
      "3     3503    7594080   5225000         NaN  주방용품  부산본점     5   2.000000   \n",
      "4     3504    1795790   1411200         NaN   수산품  청량리점     3   2.666667   \n",
      "\n",
      "     주말방문비율  구매주기  \n",
      "0  0.789474    26  \n",
      "1  0.369863     3  \n",
      "2  0.083277     3  \n",
      "3  0.000000    47  \n",
      "4  0.125000     8  \n",
      "----------------------------------------------------------\n",
      "   cust_id  gender\n",
      "0        0       0\n",
      "1        1       0\n",
      "2        2       1\n",
      "3        3       1\n",
      "4        4       0\n"
     ]
    }
   ],
   "source": [
    "# 데이터 불러오기\n",
    "import pandas as pd\n",
    "\n",
    "X_train = pd.read_csv('data/X_train.csv', encoding='euc-kr') # 구름 환경에서는 encoding='euc-kr' 생략 가능\n",
    "X_test = pd.read_csv('data/X_test.csv', encoding='euc-kr')\n",
    "y_train = pd.read_csv('data/y_train.csv', encoding='euc-kr')\n",
    "\n",
    "print(X_train.head())\n",
    "print('----------------------------------------------------------')\n",
    "print(X_test.head())\n",
    "print('----------------------------------------------------------')\n",
    "print(y_train.head())"
   ],
   "metadata": {
    "collapsed": false,
    "pycharm": {
     "name": "#%%\n"
    }
   }
  },
  {
   "cell_type": "markdown",
   "source": [
    "### **데이터 전처리**"
   ],
   "metadata": {
    "collapsed": false,
    "pycharm": {
     "name": "#%% md\n"
    }
   }
  },
  {
   "cell_type": "code",
   "execution_count": 204,
   "outputs": [
    {
     "name": "stdout",
     "output_type": "stream",
     "text": [
      "   cust_id      총구매액     최대구매액       환불금액   주구매상품 주구매지점  내점일수   내점당구매건수  \\\n",
      "0        0  68282840  11264000  6860000.0      기타   강남점    19  3.894737   \n",
      "1        1   2136000   2136000   300000.0     스포츠   잠실점     2  1.500000   \n",
      "2        2   3197000   1639000        0.0  남성 캐주얼   관악점     2  2.000000   \n",
      "3        3  16077620   4935000        0.0      기타   광주점    18  2.444444   \n",
      "4        4  29050000  24000000        0.0      보석  본  점     2  1.500000   \n",
      "\n",
      "     주말방문비율  구매주기  \n",
      "0  0.527027    17  \n",
      "1  0.000000     1  \n",
      "2  0.000000     1  \n",
      "3  0.318182    16  \n",
      "4  0.000000    85  \n",
      "----------------------------------------------------------\n",
      "   cust_id       총구매액     최대구매액        환불금액 주구매상품 주구매지점  내점일수    내점당구매건수  \\\n",
      "0     3500   70900400  22000000   4050000.0    골프  부산본점    13   1.461538   \n",
      "1     3501  310533100  38558000  48034700.0   농산물   잠실점    90   2.433333   \n",
      "2     3502  305264140  14825000  30521000.0  가공식품  본  점   101  14.623762   \n",
      "3     3503    7594080   5225000         0.0  주방용품  부산본점     5   2.000000   \n",
      "4     3504    1795790   1411200         0.0   수산품  청량리점     3   2.666667   \n",
      "\n",
      "     주말방문비율  구매주기  \n",
      "0  0.789474    26  \n",
      "1  0.369863     3  \n",
      "2  0.083277     3  \n",
      "3  0.000000    47  \n",
      "4  0.125000     8  \n"
     ]
    }
   ],
   "source": [
    "# 결측치\n",
    "X_train['환불금액'] = X_train['환불금액'].fillna(0)\n",
    "X_test['환불금액'] = X_test['환불금액'].fillna(0)\n",
    "print(X_train.head())\n",
    "print('----------------------------------------------------------')\n",
    "print(X_test.head())"
   ],
   "metadata": {
    "collapsed": false,
    "pycharm": {
     "name": "#%%\n"
    }
   }
  },
  {
   "cell_type": "code",
   "execution_count": 205,
   "outputs": [
    {
     "name": "stdout",
     "output_type": "stream",
     "text": [
      "   cust_id      총구매액     최대구매액       환불금액   주구매상품 주구매지점  내점일수   내점당구매건수  \\\n",
      "0        0  68282840  11264000  6860000.0      기타   강남점    19  3.894737   \n",
      "1        1   2136000   2136000   300000.0     스포츠   잠실점     2  1.500000   \n",
      "2        2   3197000   1639000        0.0  남성 캐주얼   관악점     2  2.000000   \n",
      "3        3  16077620   4935000        0.0      기타   광주점    18  2.444444   \n",
      "4        4  29050000  24000000        0.0      보석  본  점     2  1.500000   \n",
      "\n",
      "     주말방문비율  구매주기  \n",
      "0  0.527027    17  \n",
      "1  0.000000     1  \n",
      "2  0.000000     1  \n",
      "3  0.318182    16  \n",
      "4  0.000000    85  \n"
     ]
    }
   ],
   "source": [
    "# 필요없는 칼럼 제거\n",
    "X_train.drop(['cust_id'], axis=1)\n",
    "X_test.drop(['cust_id'], axis=1)\n",
    "print(X_train.head())"
   ],
   "metadata": {
    "collapsed": false,
    "pycharm": {
     "name": "#%%\n"
    }
   }
  },
  {
   "cell_type": "markdown",
   "source": [
    "### **피처엔지니어링**"
   ],
   "metadata": {
    "collapsed": false,
    "pycharm": {
     "name": "#%% md\n"
    }
   }
  },
  {
   "cell_type": "code",
   "execution_count": 206,
   "outputs": [
    {
     "name": "stdout",
     "output_type": "stream",
     "text": [
      "   cust_id      총구매액     최대구매액       환불금액  주구매상품  주구매지점  내점일수   내점당구매건수  \\\n",
      "0        0  68282840  11264000  6860000.0      5      0    19  3.894737   \n",
      "1        1   2136000   2136000   300000.0     21     19     2  1.500000   \n",
      "2        2   3197000   1639000        0.0      6      1     2  2.000000   \n",
      "3        3  16077620   4935000        0.0      5      2    18  2.444444   \n",
      "4        4  29050000  24000000        0.0     15      8     2  1.500000   \n",
      "\n",
      "     주말방문비율  구매주기  \n",
      "0  0.527027    17  \n",
      "1  0.000000     1  \n",
      "2  0.000000     1  \n",
      "3  0.318182    16  \n",
      "4  0.000000    85  \n",
      "   cust_id       총구매액     최대구매액        환불금액  주구매상품  주구매지점  내점일수    내점당구매건수  \\\n",
      "0     3500   70900400  22000000   4050000.0      3      9    13   1.461538   \n",
      "1     3501  310533100  38558000  48034700.0      9     19    90   2.433333   \n",
      "2     3502  305264140  14825000  30521000.0      0      8   101  14.623762   \n",
      "3     3503    7594080   5225000         0.0     31      9     5   2.000000   \n",
      "4     3504    1795790   1411200         0.0     19     22     3   2.666667   \n",
      "\n",
      "     주말방문비율  구매주기  \n",
      "0  0.789474    26  \n",
      "1  0.369863     3  \n",
      "2  0.083277     3  \n",
      "3  0.000000    47  \n",
      "4  0.125000     8  \n"
     ]
    }
   ],
   "source": [
    "# Label Encoding\n",
    "from sklearn.preprocessing import LabelEncoder\n",
    "\n",
    "cols = ['주구매상품', '주구매지점']\n",
    "le = LabelEncoder()\n",
    "\n",
    "for col in cols:\n",
    "    X_train[col] = le.fit_transform(X_train[col])\n",
    "    X_test[col] = le.fit_transform(X_test[col])\n",
    "\n",
    "print(X_train.head())\n",
    "print(X_test.head())"
   ],
   "metadata": {
    "collapsed": false,
    "pycharm": {
     "name": "#%%\n"
    }
   }
  },
  {
   "cell_type": "markdown",
   "source": [
    "### **모델링 & 하이퍼파라미터 튜닝**"
   ],
   "metadata": {
    "collapsed": false,
    "pycharm": {
     "name": "#%% md\n"
    }
   }
  },
  {
   "cell_type": "code",
   "execution_count": 207,
   "outputs": [
    {
     "name": "stdout",
     "output_type": "stream",
     "text": [
      "0.6888571428571428\n",
      "[0.38207695 0.20224844 0.19169683 ... 0.43517797 0.40677066 0.4805443 ]\n"
     ]
    }
   ],
   "source": [
    "# 모델링 & 하이퍼파라미터 튜닝 & 앙상블\n",
    "from sklearn.ensemble import RandomForestClassifier\n",
    "\n",
    "model = RandomForestClassifier(n_estimators=100, max_depth=5, random_state=2022)\n",
    "model.fit(X_train, y_train['gender'])\n",
    "print(model.score(X_train, y_train['gender']))\n",
    "\n",
    "pred = model.predict_proba(X_test)\n",
    "print(pred[:,1])"
   ],
   "metadata": {
    "collapsed": false,
    "pycharm": {
     "name": "#%%\n"
    }
   }
  },
  {
   "cell_type": "code",
   "execution_count": 208,
   "outputs": [],
   "source": [
    "# csv 생성\n",
    "cust_id = X_test.pop('cust_id')\n",
    "output = pd.DataFrame({'cust_id' : cust_id, 'gender' : pred[:,1]})\n",
    "output.to_csv('csv/T2_exercise.csv', index=False)"
   ],
   "metadata": {
    "collapsed": false,
    "pycharm": {
     "name": "#%%\n"
    }
   }
  },
  {
   "cell_type": "code",
   "execution_count": 209,
   "outputs": [
    {
     "name": "stdout",
     "output_type": "stream",
     "text": [
      "      cust_id    gender\n",
      "0        3500  0.382077\n",
      "1        3501  0.202248\n",
      "2        3502  0.191697\n",
      "3        3503  0.450763\n",
      "4        3504  0.449631\n",
      "...       ...       ...\n",
      "2477     5977  0.472368\n",
      "2478     5978  0.475424\n",
      "2479     5979  0.435178\n",
      "2480     5980  0.406771\n",
      "2481     5981  0.480544\n",
      "\n",
      "[2482 rows x 2 columns]\n"
     ]
    }
   ],
   "source": [
    "# csv 확인\n",
    "print(pd.read_csv('csv/T2_exercise.csv'))"
   ],
   "metadata": {
    "collapsed": false,
    "pycharm": {
     "name": "#%%\n"
    }
   }
  },
  {
   "cell_type": "markdown",
   "source": [
    "## **T2-1. 타이타닉(Titanic) Simple Baseline**\n",
    "\n",
    "### 생존여부 예측모델 만들기\n",
    "\n",
    "학습용 데이터 (X_train, y_train)을 이용하여 생존 예측 모형을 만든 후,\n",
    "이를 평가용 데이터(X_test)에 적용하여 얻은 예측값을 다음과 같은 형식의 CSV파일로 생성하시오\n",
    "(제출한 모델의 성능은 accuracy 평가지표에 따라 채점)\n",
    "\n",
    "(가) 제공 데이터 목록\n",
    "\n",
    "- y_train: 생존여부(학습용)\n",
    "- X_trian, X_test : 승객 정보 (학습용 및 평가용)\n",
    "\n",
    "(나) 데이터 형식 및 내용\n",
    "\n",
    "- y_trian (712명 데이터)\n",
    "\n",
    "시험환경 세팅은 예시문제와 동일한 형태의 X_train, y_train, X_test 데이터를 만들기 위함임\n",
    "\n",
    "유의사항\n",
    "- 성능이 우수한 예측모형을 구축하기 위해서는 적절한 데이터 전처리, 피처엔지니어링, 분류알고리즘, 하이퍼파라미터 튜닝, 모형 앙상블 등이 수반되어야 한다.\n",
    "- 수험번호.csv파일이 만들어지도록 코드를 제출한다.\n",
    "- 제출한 모델의 성능은 accuracy로 평가함\n",
    "\n",
    "csv 출력형태\n",
    "\n",
    "<center><img src = 'pic/T2-1.png'></center>"
   ],
   "metadata": {
    "collapsed": false,
    "pycharm": {
     "name": "#%% md\n"
    }
   }
  },
  {
   "cell_type": "code",
   "execution_count": 210,
   "outputs": [],
   "source": [
    "# 시험환경 세팅 (코드 변경 X)\n",
    "import pandas as pd\n",
    "import numpy as np\n",
    "from sklearn.model_selection import train_test_split\n",
    "\n",
    "def exam_data_load(df, target, id_name=\"\", null_name=\"\"):\n",
    "    if id_name == \"\":\n",
    "        df = df.reset_index().rename(columns={\"index\": \"id\"})\n",
    "        id_name = 'id'\n",
    "    else:\n",
    "        id_name = id_name\n",
    "\n",
    "    if null_name != \"\":\n",
    "        df[df == null_name] = np.nan\n",
    "\n",
    "    X_train, X_test = train_test_split(df, test_size=0.2, random_state=2021)\n",
    "\n",
    "    y_train = X_train[[id_name, target]]\n",
    "    X_train = X_train.drop(columns=[target])\n",
    "\n",
    "\n",
    "    y_test = X_test[[id_name, target]]\n",
    "    X_test = X_test.drop(columns=[target])\n",
    "    return X_train, X_test, y_train, y_test\n",
    "\n",
    "df = pd.read_csv(\"data/T2-1/X_train.csv\")\n",
    "X_train, X_test, y_train, y_test = exam_data_load(df, target='Survived', id_name='PassengerId')"
   ],
   "metadata": {
    "collapsed": false,
    "pycharm": {
     "name": "#%%\n"
    }
   }
  },
  {
   "cell_type": "code",
   "execution_count": 212,
   "outputs": [
    {
     "name": "stdout",
     "output_type": "stream",
     "text": [
      "     Pclass  SibSp  Parch  Sex_female  Sex_male\n",
      "90        3      0      0           0         1\n",
      "103       3      0      0           0         1\n",
      "577       1      1      0           1         0\n",
      "215       1      1      0           1         0\n",
      "191       2      0      0           0         1\n",
      "90     0\n",
      "103    0\n",
      "577    1\n",
      "215    1\n",
      "191    0\n",
      "Name: Survived, dtype: int64\n",
      "     Pclass  SibSp  Parch  Sex_female  Sex_male\n",
      "210       3      0      0           0         1\n",
      "876       3      0      0           0         1\n",
      "666       2      0      0           0         1\n",
      "819       3      3      2           0         1\n",
      "736       3      1      3           1         0\n"
     ]
    }
   ],
   "source": [
    "# 데이터 전처리\n",
    "y = y_train['Survived']\n",
    "\n",
    "features = ['Pclass', 'Sex', 'SibSp', 'Parch']\n",
    "x = pd.get_dummies(X_train[features]) # Sex만 One-Hot Encoding\n",
    "test = pd.get_dummies(X_test[features])\n",
    "\n",
    "print(x.head())\n",
    "print(y.head())\n",
    "print(test.head())"
   ],
   "metadata": {
    "collapsed": false,
    "pycharm": {
     "name": "#%%\n"
    }
   }
  },
  {
   "cell_type": "code",
   "execution_count": 213,
   "outputs": [
    {
     "name": "stdout",
     "output_type": "stream",
     "text": [
      "0.8356741573033708\n"
     ]
    }
   ],
   "source": [
    "# 모델 및 평가\n",
    "from sklearn.ensemble import RandomForestClassifier\n",
    "\n",
    "model = RandomForestClassifier(n_estimators=200, max_depth=7, random_state=2021)\n",
    "model.fit(x, y)\n",
    "pred = model.predict(test)\n",
    "print(model.score(x, y))"
   ],
   "metadata": {
    "collapsed": false,
    "pycharm": {
     "name": "#%%\n"
    }
   }
  },
  {
   "cell_type": "code",
   "execution_count": 214,
   "outputs": [
    {
     "name": "stdout",
     "output_type": "stream",
     "text": [
      "     PassengerId  Survived\n",
      "210          211         0\n",
      "876          877         0\n",
      "666          667         0\n",
      "819          820         0\n",
      "736          737         0\n",
      "..           ...       ...\n",
      "494          495         0\n",
      "871          872         1\n",
      "530          531         1\n",
      "157          158         0\n",
      "45            46         0\n",
      "\n",
      "[179 rows x 2 columns]\n"
     ]
    }
   ],
   "source": [
    "output = pd.DataFrame({'PassengerId' : X_test.PassengerId, 'Survived' : pred})\n",
    "print(output)"
   ],
   "metadata": {
    "collapsed": false,
    "pycharm": {
     "name": "#%%\n"
    }
   }
  },
  {
   "cell_type": "code",
   "execution_count": 214,
   "outputs": [],
   "source": [],
   "metadata": {
    "collapsed": false,
    "pycharm": {
     "name": "#%%\n"
    }
   }
  },
  {
   "cell_type": "code",
   "execution_count": 214,
   "outputs": [],
   "source": [],
   "metadata": {
    "collapsed": false,
    "pycharm": {
     "name": "#%%\n"
    }
   }
  },
  {
   "cell_type": "code",
   "execution_count": 214,
   "outputs": [],
   "source": [],
   "metadata": {
    "collapsed": false,
    "pycharm": {
     "name": "#%%\n"
    }
   }
  },
  {
   "cell_type": "code",
   "execution_count": 214,
   "outputs": [],
   "source": [],
   "metadata": {
    "collapsed": false,
    "pycharm": {
     "name": "#%%\n"
    }
   }
  },
  {
   "cell_type": "code",
   "execution_count": 214,
   "outputs": [],
   "source": [],
   "metadata": {
    "collapsed": false,
    "pycharm": {
     "name": "#%%\n"
    }
   }
  },
  {
   "cell_type": "code",
   "execution_count": 214,
   "outputs": [],
   "source": [],
   "metadata": {
    "collapsed": false,
    "pycharm": {
     "name": "#%%\n"
    }
   }
  },
  {
   "cell_type": "code",
   "execution_count": 214,
   "outputs": [],
   "source": [],
   "metadata": {
    "collapsed": false,
    "pycharm": {
     "name": "#%%\n"
    }
   }
  },
  {
   "cell_type": "code",
   "execution_count": 214,
   "outputs": [],
   "source": [],
   "metadata": {
    "collapsed": false,
    "pycharm": {
     "name": "#%%\n"
    }
   }
  },
  {
   "cell_type": "code",
   "execution_count": 214,
   "outputs": [],
   "source": [],
   "metadata": {
    "collapsed": false,
    "pycharm": {
     "name": "#%%\n"
    }
   }
  },
  {
   "cell_type": "code",
   "execution_count": 214,
   "outputs": [],
   "source": [],
   "metadata": {
    "collapsed": false,
    "pycharm": {
     "name": "#%%\n"
    }
   }
  }
 ],
 "metadata": {
  "kernelspec": {
   "display_name": "Python 3",
   "language": "python",
   "name": "python3"
  },
  "language_info": {
   "codemirror_mode": {
    "name": "ipython",
    "version": 2
   },
   "file_extension": ".py",
   "mimetype": "text/x-python",
   "name": "python",
   "nbconvert_exporter": "python",
   "pygments_lexer": "ipython2",
   "version": "2.7.6"
  }
 },
 "nbformat": 4,
 "nbformat_minor": 0
}