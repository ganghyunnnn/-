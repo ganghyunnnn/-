{
 "cells": [
  {
   "cell_type": "markdown",
   "metadata": {
    "collapsed": true,
    "pycharm": {
     "name": "#%% md\n"
    }
   },
   "source": [
    "## **문제 1**\n",
    "\n",
    "- 데이터셋(basic1.csv)의 'f5' 컬럼을 기준으로 상위 10개의 데이터를 구하고,\n",
    "- 'f5'컬럼 10개 중 최소값으로 데이터를 대체한 후,\n",
    "- 'age'컬럼에서 80 이상인 데이터의'f5' 컬럼 평균값 구하기"
   ]
  },
  {
   "cell_type": "code",
   "execution_count": 23,
   "outputs": [
    {
     "name": "stdout",
     "output_type": "stream",
     "text": [
      "62.497747125217394\n"
     ]
    },
    {
     "name": "stderr",
     "output_type": "stream",
     "text": [
      "C:\\Users\\ganghyun\\AppData\\Local\\Temp/ipykernel_3532/3331803047.py:8: SettingWithCopyWarning: \n",
      "A value is trying to be set on a copy of a slice from a DataFrame\n",
      "\n",
      "See the caveats in the documentation: https://pandas.pydata.org/pandas-docs/stable/user_guide/indexing.html#returning-a-view-versus-a-copy\n",
      "  df['f5'][:10] = min # 최소값으로 대체\n"
     ]
    }
   ],
   "source": [
    "import pandas as pd\n",
    "\n",
    "df = pd.read_csv('data/basic1.csv')\n",
    "#df.head()\n",
    "\n",
    "df = df.sort_values('f5', ascending=False) # 내림차순 정렬 (상위 10개 데이터)\n",
    "min = df['f5'][:10].min() # f5 컬럼 10개 중 최소값\n",
    "df['f5'][:10] = min # 최소값으로 대체\n",
    "\n",
    "print(df[df['age']>=80]['f5'].mean()) # age 칼럼 80이상인 f5 칼럼 평균값"
   ],
   "metadata": {
    "collapsed": false,
    "pycharm": {
     "name": "#%%\n"
    }
   }
  },
  {
   "cell_type": "markdown",
   "source": [
    "## **문제2**\n",
    "\n",
    "- 데이터셋(basic1.csv)의 앞에서 순서대로 70% 데이터만 활용해서,\n",
    "- 'f1'컬럼 결측치를 중앙값으로 채우기 전후의 표준편차를 구하고\n",
    "- 두 표준편차 차이 계산하기"
   ],
   "metadata": {
    "collapsed": false,
    "pycharm": {
     "name": "#%% md\n"
    }
   }
  },
  {
   "cell_type": "code",
   "execution_count": 21,
   "outputs": [
    {
     "name": "stdout",
     "output_type": "stream",
     "text": [
      "3.2965018033960725\n"
     ]
    }
   ],
   "source": [
    "import pandas as pd\n",
    "import numpy as np\n",
    "\n",
    "df = pd.read_csv('data/basic1.csv')\n",
    "# print(df.head())\n",
    "data70, data30 = np.split(df, [int(len(df)*0.7)]) # data70 = 앞에서 70% 데이터\n",
    "\n",
    "med = data70['f1'].median() # f1 칼럼 중앙값\n",
    "std1 = data70['f1'].std() # 결측치 채우기 전 f1 칼럼의 표준편차\n",
    "\n",
    "data70['f1'] = data70['f1'].replace(np.nan, med) # 결측치 중앙값으로 채우기\n",
    "std2 = data70['f1'].std() # 결측치 채운 후 f1 칼럼의 표준편차\n",
    "\n",
    "print(std1 - std2)"
   ],
   "metadata": {
    "collapsed": false,
    "pycharm": {
     "name": "#%%\n"
    }
   }
  },
  {
   "cell_type": "markdown",
   "source": [
    "## **문제3**\n",
    "\n",
    "- 데이터셋(basic1.csv)의 'age'컬럼의 이상치를 더하시오!\n",
    "- 단, 평균으로부터 '표준편차*1.5'를 벗어나는 영역을 이상치라고 판단함"
   ],
   "metadata": {
    "collapsed": false,
    "pycharm": {
     "name": "#%% md\n"
    }
   }
  },
  {
   "cell_type": "code",
   "execution_count": 22,
   "outputs": [
    {
     "name": "stdout",
     "output_type": "stream",
     "text": [
      "473.5\n"
     ]
    }
   ],
   "source": [
    "import pandas as pd\n",
    "\n",
    "df = pd.read_csv('data/basic1.csv')\n",
    "\n",
    "avg = df['age'].mean() # age 칼럼 평균\n",
    "std = df['age'].std() # age 칼럼 표준편차\n",
    "\n",
    "outlier1 = avg - std*1.5\n",
    "outlier2 = avg + std*1.5\n",
    "\n",
    "'''\n",
    "sum = 0\n",
    "for i in df['age']:\n",
    "    if i < outlier1:\n",
    "        sum = sum + i\n",
    "    elif i > outlier2:\n",
    "        sum = sum + i\n",
    "\n",
    "print(sum)\n",
    "'''\n",
    "\n",
    "print(df[(df['age']>outlier2) | (df['age']<outlier1)]['age'].sum())"
   ],
   "metadata": {
    "collapsed": false,
    "pycharm": {
     "name": "#%%\n"
    }
   }
  }
 ],
 "metadata": {
  "kernelspec": {
   "display_name": "Python 3",
   "language": "python",
   "name": "python3"
  },
  "language_info": {
   "codemirror_mode": {
    "name": "ipython",
    "version": 2
   },
   "file_extension": ".py",
   "mimetype": "text/x-python",
   "name": "python",
   "nbconvert_exporter": "python",
   "pygments_lexer": "ipython2",
   "version": "2.7.6"
  }
 },
 "nbformat": 4,
 "nbformat_minor": 0
}