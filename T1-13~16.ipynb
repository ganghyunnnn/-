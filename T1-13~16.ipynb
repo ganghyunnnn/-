{
 "cells": [
  {
   "cell_type": "markdown",
   "metadata": {
    "collapsed": true,
    "pycharm": {
     "name": "#%% md\n"
    }
   },
   "source": [
    "## **T1-13. 상관관계 구하기 Expected Questions**\n",
    "\n",
    "### 상관관계 구하기\n",
    "주어진 데이터에서 상관관계를 구하고, quality와의 상관관계가 가장 큰 값과, 가장 작은 값을 구한 다음 더하시오!\n",
    "(단, quality와 quality 상관관계 제외, 소수점 둘째 자리까지 출력)\n",
    "\n",
    "- 데이터셋 : ../input/red-wine-quality-cortez-et-al-2009/winequality-red.csv\n",
    "- 오른쪽 상단 copy&edit 클릭 -> 예상문제 풀이 시작\n",
    "- 스크립트 방식 권장: File -> Editor Type -> Script"
   ]
  },
  {
   "cell_type": "code",
   "execution_count": 13,
   "outputs": [
    {
     "name": "stdout",
     "output_type": "stream",
     "text": [
      "0.46\n"
     ]
    }
   ],
   "source": [
    "import pandas as pd\n",
    "\n",
    "# load data\n",
    "df = pd.read_csv('data/winequality-red.csv')\n",
    "# print(df.head())\n",
    "\n",
    "# 상관계수 (quality와 quality 상관관계 제외)\n",
    "df_corr = df.corr()\n",
    "df_corr = df_corr[:-1]\n",
    "# print(df_corr['quality'])\n",
    "\n",
    "# 상관관계 가장 큰 값, 가장 작은 값\n",
    "max = abs(df_corr['quality']).max()\n",
    "min = abs(df_corr['quality']).min()\n",
    "# print(max, min)\n",
    "\n",
    "# 부호\n",
    "if df_corr['quality'].max() < 0:\n",
    "    max = -max\n",
    "if df_corr['quality'].min() < 0:\n",
    "    min = -min\n",
    "\n",
    "# 합\n",
    "print(round(max + min, 2))"
   ],
   "metadata": {
    "collapsed": false,
    "pycharm": {
     "name": "#%%\n"
    }
   }
  },
  {
   "cell_type": "markdown",
   "source": [
    "## **T1-14. 2개 조건에 따른 상위 값 Expected Question**\n",
    "\n",
    "### city와 f4를 기준으로 f5의 평균값을 구한 다음, f5를 기준으로 상위 7개 값을 모두 더해 출력하시오 (소수점 둘째자리까지 출력)\n",
    "- 데이터셋 : basic1.csv\n",
    "- 오른쪽 상단 copy&edit 클릭 -> 예상문제 풀이 시작\n",
    "- File -> Editor Type -> Script"
   ],
   "metadata": {
    "collapsed": false,
    "pycharm": {
     "name": "#%% md\n"
    }
   }
  },
  {
   "cell_type": "code",
   "execution_count": 26,
   "outputs": [
    {
     "name": "stdout",
     "output_type": "stream",
     "text": [
      "643.68\n"
     ]
    }
   ],
   "source": [
    "import pandas as pd\n",
    "\n",
    "df = pd.read_csv('data/basic1.csv')\n",
    "# print(df.head())\n",
    "\n",
    "# city와 f4를 기준으로 f5의 평균값\n",
    "df = df.groupby(['city', 'f4'])[['f5']].mean()\n",
    "# print(df.head())\n",
    "\n",
    "# 상위 7개\n",
    "df = df.sort_values('f5', ascending=False).head(7)\n",
    "# print(df['f5'])\n",
    "\n",
    "print(round(df['f5'].sum(), 2))"
   ],
   "metadata": {
    "collapsed": false,
    "pycharm": {
     "name": "#%%\n"
    }
   }
  },
  {
   "cell_type": "markdown",
   "source": [
    "## **T1-15. 슬라이싱 & 조건 Expected Question**\n",
    "\n",
    "주어진 데이터 셋에서 age컬럼 상위 20개의 데이터를 구한 다음\n",
    "f1의 결측치를 중앙값으로 채운다.\n",
    "그리고 f4가 ISFJ와 f5가 20 이상인\n",
    "f1의 평균값을 출력하시오!\n",
    "\n",
    "- 데이터셋 : basic1.csv\n",
    "- 오른쪽 상단 copy&edit 클릭 -> 예상문제 풀이 시작\n",
    "- File -> Editor Type -> Script\n"
   ],
   "metadata": {
    "collapsed": false,
    "pycharm": {
     "name": "#%% md\n"
    }
   }
  },
  {
   "cell_type": "code",
   "execution_count": 10,
   "outputs": [
    {
     "name": "stdout",
     "output_type": "stream",
     "text": [
      "73.875\n"
     ]
    }
   ],
   "source": [
    "import pandas as pd\n",
    "\n",
    "df = pd.read_csv('data/basic1.csv')\n",
    "# print(df.head())\n",
    "\n",
    "# age 칼럼 상위 20개 데이터\n",
    "df = df.sort_values('age', ascending=False).head(20)\n",
    "# print(df['age'])\n",
    "\n",
    "# f1의 결측치를 중앙값으로 채우기\n",
    "df['f1'] = df['f1'].fillna(df['f1'].median())\n",
    "# print(df['f1'])\n",
    "\n",
    "# f4가 ISFJ와 f5가 20 이상인 f1의 평균값 출력\n",
    "cond = (df['f4'] == 'ISFJ') & (df['f5'] >= 20)\n",
    "print(df[cond]['f1'].mean())"
   ],
   "metadata": {
    "collapsed": false,
    "pycharm": {
     "name": "#%%\n"
    }
   }
  },
  {
   "cell_type": "markdown",
   "source": [
    "## **T1-16. 분산 Expected Question**\n",
    "\n",
    "주어진 데이터 셋에서 f2가 0값인 데이터를 age를 기준으로 오름차순 정렬하고\n",
    "앞에서 부터 20개의 데이터를 추출한 후\n",
    "f1 결측치(최소값)를 채우기 전과 후의 분산 차이를 계산하시오 (소수점 둘째 자리까지)\n",
    "\n",
    "- 데이터셋 : basic1.csv\n",
    "- 오른쪽 상단 copy&edit 클릭 -> 예상문제 풀이 시작\n",
    "- File -> Editor Type -> Script"
   ],
   "metadata": {
    "collapsed": false,
    "pycharm": {
     "name": "#%% md\n"
    }
   }
  },
  {
   "cell_type": "code",
   "execution_count": 19,
   "outputs": [
    {
     "name": "stdout",
     "output_type": "stream",
     "text": [
      "38.44\n"
     ]
    }
   ],
   "source": [
    "import pandas as pd\n",
    "\n",
    "df = pd.read_csv('data/basic1.csv')\n",
    "# print(df.head())\n",
    "\n",
    "# f2가 0값인 데이터를 age 기준으로 오름차순 정렬\n",
    "df = df[df['f2']==0].sort_values('age', ascending=True)\n",
    "# print(df['age'].head())\n",
    "\n",
    "# 앞에서 20개의 데이터 추출\n",
    "df = df[:20]\n",
    "\n",
    "# f1 결측치(최소값)를 채우기 전과 후의 분산 차이 계산\n",
    "df2 = df.fillna(df['f1'].min())\n",
    "var1 = df['f1'].var()\n",
    "var2 = df2['f1'].var()\n",
    "print(round(var1 - var2, 2))"
   ],
   "metadata": {
    "collapsed": false,
    "pycharm": {
     "name": "#%%\n"
    }
   }
  }
 ],
 "metadata": {
  "kernelspec": {
   "display_name": "Python 3",
   "language": "python",
   "name": "python3"
  },
  "language_info": {
   "codemirror_mode": {
    "name": "ipython",
    "version": 2
   },
   "file_extension": ".py",
   "mimetype": "text/x-python",
   "name": "python",
   "nbconvert_exporter": "python",
   "pygments_lexer": "ipython2",
   "version": "2.7.6"
  }
 },
 "nbformat": 4,
 "nbformat_minor": 0
}