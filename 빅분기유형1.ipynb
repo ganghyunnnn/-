{
  "nbformat": 4,
  "nbformat_minor": 0,
  "metadata": {
    "colab": {
      "name": "빅분기유형1.ipynb",
      "provenance": [],
      "mount_file_id": "1TM0938StuyK-8qLLC7ZxfYnSbCZOdkHk",
      "authorship_tag": "ABX9TyP+5XRomgItsnC8fLvRizne",
      "include_colab_link": true
    },
    "kernelspec": {
      "name": "python3",
      "display_name": "Python 3"
    },
    "language_info": {
      "name": "python"
    }
  },
  "cells": [
    {
      "cell_type": "markdown",
      "metadata": {
        "id": "view-in-github",
        "colab_type": "text"
      },
      "source": [
        "<a href=\"https://colab.research.google.com/github/ganghyunnnn/bigdata_test/blob/main/%EB%B9%85%EB%B6%84%EA%B8%B0%EC%9C%A0%ED%98%951.ipynb\" target=\"_parent\"><img src=\"https://colab.research.google.com/assets/colab-badge.svg\" alt=\"Open In Colab\"/></a>"
      ]
    },
    {
      "cell_type": "markdown",
      "source": [
        "## **1. 작업형1 예시문제 (dataq 공식 예제)**\n",
        "- 자동차 데이터 셋에서 qsec 컬럼을 Min-Max Scale로 변환 후 0.5보다 큰 값을 가지는 레코드(row) 수를 구하시오\n",
        "- data = mtcars.csv"
      ],
      "metadata": {
        "id": "AIwDDjOz8QsR"
      }
    },
    {
      "cell_type": "code",
      "execution_count": null,
      "metadata": {
        "colab": {
          "base_uri": "https://localhost:8080/"
        },
        "id": "gJr-g26b8K0c",
        "outputId": "1af06724-2d6c-4d38-d49b-eb2802ec1679"
      },
      "outputs": [
        {
          "output_type": "stream",
          "name": "stdout",
          "text": [
            "9\n"
          ]
        }
      ],
      "source": [
        "import pandas as pd\n",
        "\n",
        "file = '/content/drive/MyDrive/빅분기/mtcars.csv'\n",
        "df = pd.read_csv(file)\n",
        "\n",
        "# print(df.head())\n",
        "\n",
        "from sklearn.preprocessing import minmax_scale\n",
        "df['qsec'] = minmax_scale(df['qsec'])\n",
        "\n",
        "# print(df.head())\n",
        "\n",
        "print(len(df[df['qsec']>0.5]))"
      ]
    },
    {
      "cell_type": "markdown",
      "source": [
        "### **2. 이상치를 찾아라(IQR활용)**\n",
        "- 데이터에서 IQR을 활용해 Fare 칼럼의 이상치를 찾고, 이상치 데이터의 여성 수를 구하시오\n",
        "- data = titanic.csv"
      ],
      "metadata": {
        "id": "UvFa6qpQ-auF"
      }
    },
    {
      "cell_type": "code",
      "source": [
        "import pandas\n",
        "\n",
        "df = pd.read_csv('/content/drive/MyDrive/빅분기/titanic.csv')\n",
        "# print(df.head())\n",
        "\n",
        "import numpy as np\n",
        "Q1 = np.percentile(df['Fare'], 25)\n",
        "Q3 = np.percentile(df['Fare'], 75)\n",
        "IQR = Q3 - Q1\n",
        "# print(Q1, Q3, IQR)\n",
        "\n",
        "outlier1 = Q1 - 1.5 * IQR\n",
        "outlier2 = Q3 + 1.5 * IQR\n",
        "# print(outlier1, outlier2)\n",
        "\n",
        "df1 = df[(df['Fare'] < outlier1) | (df['Fare'] > outlier2)]\n",
        "# print(df1.head())\n",
        "\n",
        "print(len(df1[df1['Sex']=='female']))"
      ],
      "metadata": {
        "colab": {
          "base_uri": "https://localhost:8080/"
        },
        "id": "MVe67Kyh-a9N",
        "outputId": "d2c0b96d-bef2-4179-d9a0-fc754eca6864"
      },
      "execution_count": null,
      "outputs": [
        {
          "output_type": "stream",
          "name": "stdout",
          "text": [
            "70\n"
          ]
        }
      ]
    },
    {
      "cell_type": "markdown",
      "source": [
        "### **3. 이상치를 찾아라(소수점 나이)**\n",
        "- 주어진 데이터에서 이상치(소수점 나이)를 찾고 올림, 내림, 버림했을때 세 가지 경우의 이상치 'age' 평균을 구한 다음 모두 더하여 출력하시오\n",
        "- data =  basic1.csv"
      ],
      "metadata": {
        "id": "bXGZjfhrC6Ff"
      }
    },
    {
      "cell_type": "code",
      "source": [
        "import pandas as pd\n",
        "\n",
        "df = pd.read_csv('/content/drive/MyDrive/빅분기/basic1.csv')\n",
        "# print(df.head())\n",
        "# print('------------------------------------------------------------')\n",
        "\n",
        "import numpy as np\n",
        "df = df[(df['age'] - np.floor(df['age']) != 0)]\n",
        "# print(df)\n",
        "\n",
        "# ceil, floor, trunc\n",
        "ceil = np.ceil(df['age']).mean()\n",
        "floor = np.floor(df['age']).mean()\n",
        "trunc = np.trunc(df['age']).mean()\n",
        "\n",
        "print(ceil+floor+trunc)"
      ],
      "metadata": {
        "colab": {
          "base_uri": "https://localhost:8080/"
        },
        "id": "NvRRc2nqC6LK",
        "outputId": "7389c95c-fb62-4484-b9e1-1ae241ec8c9a"
      },
      "execution_count": null,
      "outputs": [
        {
          "output_type": "stream",
          "name": "stdout",
          "text": [
            "69.5\n"
          ]
        }
      ]
    },
    {
      "cell_type": "markdown",
      "source": [
        "### **4. 결측치 처리(map 활용)**\n",
        "- 주어진 데이터에서 결측치가 80% 이상 되는 칼럼은(변수는) 삭제하고, 80% 미만인 결측치가 있는 칼럼은 'city'별 중앙값으로 값을 대체하고 'f1'칼럼의 평균값을 출력하시오\n",
        "- data = basic1.csv"
      ],
      "metadata": {
        "id": "fj37KpWPIFU9"
      }
    },
    {
      "cell_type": "code",
      "source": [
        "import pandas as pd\n",
        "\n",
        "df = pd.read_csv('/content/drive/MyDrive/빅분기/basic1.csv')\n",
        "# print(df.head())\n",
        "# print('---------------------------------------------------------------')\n",
        "\n",
        "# print(df.isna().sum() / df.shape[0])\n",
        "\n",
        "df = df.drop(['f3'], axis=1)\n",
        "# print(df.head())\n",
        "# print('---------------------------------------------------------------')\n",
        "\n",
        "# print(df['city'].values)\n",
        "s = df[df['city']=='서울']['f1'].median()\n",
        "p = df[df['city']=='부산']['f1'].median()\n",
        "d = df[df['city']=='대구']['f1'].median()\n",
        "k = df[df['city']=='경기']['f1'].median()\n",
        "\n",
        "# print(s,p,d,k)\n",
        "\n",
        "df['f1'] = df['f1'].fillna(df['city'].map({'서울':s, '부산':p, '대구':d, '경기':k}))\n",
        "print(df['f1'].mean())"
      ],
      "metadata": {
        "colab": {
          "base_uri": "https://localhost:8080/"
        },
        "id": "N9mNTp1JIFbb",
        "outputId": "18b3be7e-825b-41e6-cf25-effb1f0f9eaa"
      },
      "execution_count": null,
      "outputs": [
        {
          "output_type": "stream",
          "name": "stdout",
          "text": [
            "65.52\n"
          ]
        }
      ]
    },
    {
      "cell_type": "markdown",
      "source": [
        "### **5. 왜도와 첨도 구하기 (로그스케일)**\n",
        "- 주어진 데이터 중 'SalePrice' 칼럼의 왜도와 첨도를 구한 값과, 'SalePrice'칼럼을 스케일링(log1p)로 변환한 이후 왜도와 첨도를 구해 모두 더한 다음 소수점 둘째자리까지 출력하시오\n",
        "- data = T1-4.csv\n"
      ],
      "metadata": {
        "id": "mZzJdWlSb4wQ"
      }
    },
    {
      "cell_type": "code",
      "source": [
        "import pandas as pd\n",
        "\n",
        "df = pd.read_csv('/content/drive/MyDrive/빅분기/T1-4.csv')\n",
        "# print(df.head())\n",
        "# print('----------------------------------------------------------------------------------------')\n",
        "\n",
        "# skew(), kurt()\n",
        "\n",
        "s1 = df['SalePrice'].skew()\n",
        "k1 = df['SalePrice'].kurt()\n",
        "# print(s1, k1)\n",
        "\n",
        "import numpy as np\n",
        "\n",
        "df['SalePrice'] = np.log1p(df['SalePrice'])\n",
        "# print(df.head())\n",
        "\n",
        "s2 = df['SalePrice'].skew()\n",
        "k2 = df['SalePrice'].kurt()\n",
        "\n",
        "print(round((s1+s2+k1+k2), 2))"
      ],
      "metadata": {
        "colab": {
          "base_uri": "https://localhost:8080/"
        },
        "id": "OpemPCTKb5DX",
        "outputId": "3545853e-531e-4a94-f1c3-8f7f0a117f4f"
      },
      "execution_count": null,
      "outputs": [
        {
          "output_type": "stream",
          "name": "stdout",
          "text": [
            "9.35\n"
          ]
        }
      ]
    },
    {
      "cell_type": "markdown",
      "source": [
        "### **6. 결측치 제거 및 그룹 합계**\n",
        "- 주어진 데이터 중 'f1'칼럼 결측 데이터를 제거하고, 'city'와 'f2'를 기준으로 묶어 합계를 구하고, 'city'가 경기이면서 'f2'가 0인 조건에 만족하는 f1 값을 구하시오\n",
        "- data = basic1.csv"
      ],
      "metadata": {
        "id": "xGQ-TbzrgTBb"
      }
    },
    {
      "cell_type": "code",
      "source": [
        "import pandas as pd\n",
        "\n",
        "df = pd.read_csv('/content/drive/MyDrive/빅분기/basic1.csv')\n",
        "# print(df.head())\n",
        "# print('-------------------------------------------------------------------------')\n",
        "\n",
        "df = df.dropna(subset=['f1'])\n",
        "# print(df.head())\n",
        "# print('-------------------------------------------------------------------------')\n",
        "\n",
        "df2 = df.groupby(['city', 'f2']).sum()\n",
        "# print(df2.head())\n",
        "\n",
        "print(df2['f1'][0])"
      ],
      "metadata": {
        "colab": {
          "base_uri": "https://localhost:8080/"
        },
        "id": "fyTfkpi5gTJU",
        "outputId": "0beebc89-e8b0-4699-ee41-e4f41cdd4dd6"
      },
      "execution_count": null,
      "outputs": [
        {
          "output_type": "stream",
          "name": "stdout",
          "text": [
            "833.0\n"
          ]
        }
      ]
    },
    {
      "cell_type": "markdown",
      "source": [
        "### **7. 값 변경 및 2개 이상의 조건**\n",
        "- 'f4' 칼럼의 값이 'ESFJ'인 데이터를 'ISFJ'로 대체하고, 'city'가 '경기' 이면서 'f4'가 'ISFJ'인 데이터 중 'age'칼럼의 최대값을 출력하시오\n",
        "- data = basic1.csv"
      ],
      "metadata": {
        "id": "IJkfRps8w8Bd"
      }
    },
    {
      "cell_type": "code",
      "source": [
        "import pandas as pd\n",
        "\n",
        "df = pd.read_csv('/content/drive/MyDrive/빅분기/basic1.csv')\n",
        "# print(df.head())\n",
        "# print('-------------------------------------------------------------------------------')\n",
        "\n",
        "df['f4'] = df['f4'].replace('ESFJ', 'ISFJ')\n",
        "# print(df['f4'].unique())\n",
        "\n",
        "df = df[(df['city']=='경기') & (df['f4']=='ISFJ')]\n",
        "print(df['age'].max())"
      ],
      "metadata": {
        "colab": {
          "base_uri": "https://localhost:8080/"
        },
        "id": "dQExBeV7w8He",
        "outputId": "7d1aa81d-24dd-4666-8a25-a0d6f7e21cc2"
      },
      "execution_count": null,
      "outputs": [
        {
          "output_type": "stream",
          "name": "stdout",
          "text": [
            "90.0\n"
          ]
        }
      ]
    },
    {
      "cell_type": "markdown",
      "source": [
        "### **8. 누적합 그리고 보간(결측치 처리)**\n",
        "- 주어진 데이터 중 'f2'칼럼이 1인 조건에 해당하는 데이터의 'f1'칼럼 누적합을 계산한다. 이때 발생하는 누적합 결측치는 바로 뒤의 값을 채우고, 누적합의 평균값을 출력하시오 (단, 결측치 바로 뒤의 값이 없으면 다음에 나오는 값을 채워넣는다)\n",
        "- data = basic1.csv"
      ],
      "metadata": {
        "id": "KSf42BrHyGKs"
      }
    },
    {
      "cell_type": "code",
      "source": [
        "import pandas as pd\n",
        "\n",
        "df = pd.read_csv('/content/drive/MyDrive/빅분기/basic1.csv')\n",
        "# print(df.head())\n",
        "# print('-----------------------------------------------------------------------------------')\n",
        "\n",
        "cumsum = df[df['f2']==1]['f1'].cumsum()\n",
        "cumsum = cumsum.fillna(method='bfill')\n",
        "# print(cumsum.head())\n",
        "\n",
        "print(cumsum.mean())"
      ],
      "metadata": {
        "colab": {
          "base_uri": "https://localhost:8080/"
        },
        "id": "KKu_UloJyGSQ",
        "outputId": "43427385-5255-4709-cb55-a70e3ca0e0e4"
      },
      "execution_count": null,
      "outputs": [
        {
          "output_type": "stream",
          "name": "stdout",
          "text": [
            "980.3783783783783\n"
          ]
        }
      ]
    },
    {
      "cell_type": "markdown",
      "source": [
        "### **9. 수치형 변수 표준화**\n",
        "- 주어진 데이터에서 'f5'칼럼을 표준화(Standardization (Z-score Normalization))하고 그 중앙값을 구하시오\n",
        "- data = basic1.csv"
      ],
      "metadata": {
        "id": "saaYg6hs0Lti"
      }
    },
    {
      "cell_type": "code",
      "source": [
        "import pandas as pd\n",
        "\n",
        "df = pd.read_csv('/content/drive/MyDrive/빅분기/basic1.csv')\n",
        "# print(df.head())\n",
        "# print('-----------------------------------------------------------------------------------')\n",
        "\n",
        "from sklearn.preprocessing import StandardScaler\n",
        "# help(sklearn.preprocessing.StandardScaler)\n",
        "scaler = StandardScaler()\n",
        "df['f5'] = scaler.fit_transform(df[['f5']])\n",
        "print(df['f5'].median())"
      ],
      "metadata": {
        "colab": {
          "base_uri": "https://localhost:8080/"
        },
        "id": "M6WM7HMM0L13",
        "outputId": "cc4f5fa4-a137-444a-a9bb-a49549d2bb9c"
      },
      "execution_count": null,
      "outputs": [
        {
          "output_type": "stream",
          "name": "stdout",
          "text": [
            "0.260619629559015\n"
          ]
        }
      ]
    },
    {
      "cell_type": "markdown",
      "source": [
        "### **10. 여-존슨과 박스-칵스 변환**\n",
        "- 주어진 데이터에서 20세 이상인 데이터를 추출하고 'f1'칼럼의 결측치를 최빈값으로 채운 후, 'f1'칼럼의 여-존슨과 박스-콕스 변환값을 구하고, 두 값의 차이를 절대값으로 구한 다음 모두 더해 소수점 둘째자리까지 출력(반올림)하시오\n",
        "- data = basic1.csv"
      ],
      "metadata": {
        "id": "KoE1ZBZA2DlI"
      }
    },
    {
      "cell_type": "code",
      "source": [
        "import pandas as pd\n",
        "\n",
        "df = pd.read_csv('/content/drive/MyDrive/빅분기/basic1.csv')\n",
        "# print(df.head())\n",
        "# print('-----------------------------------------------------------------------------------')\n",
        "\n",
        "df = df[df['age']>=20]\n",
        "df['f1'] = df['f1'].fillna(df['f1'].mode()[0])\n",
        "# print(df['f1'].mode()[0])\n",
        "# print(df.head())\n",
        "\n",
        "from sklearn.preprocessing import power_transform\n",
        "# print(help(sklearn.preprocessing.power_transfrom))\n",
        "\n",
        "df['yeo'] = power_transform(df[['f1']], method = 'yeo-johnson', standardize=False)\n",
        "df['box'] = power_transform(df[['f1']], method = 'box-cox', standardize=False)\n",
        "# print(yeo[0:5])\n",
        "# print(box[0:5])\n",
        "\n",
        "print(round(sum(abs(df['yeo']-df['box'])),2))"
      ],
      "metadata": {
        "colab": {
          "base_uri": "https://localhost:8080/"
        },
        "id": "WSLebzsm2DtL",
        "outputId": "d029d2e3-31db-4a2a-e7fd-2e5dea1b23e8"
      },
      "execution_count": null,
      "outputs": [
        {
          "output_type": "stream",
          "name": "stdout",
          "text": [
            "39.17\n"
          ]
        }
      ]
    },
    {
      "cell_type": "markdown",
      "source": [
        "### **11. min-max 기준 상하위 5%값**\n",
        "- 주어진 데이터에서 'f5'칼럼을 min-max 스케일 변환한 후, 상위 5%와 하위 5% 값의 합을 출력하시오\n",
        "- data = basic1.csv\n"
      ],
      "metadata": {
        "id": "w-nfrbmUc5ff"
      }
    },
    {
      "cell_type": "code",
      "source": [
        "import pandas as pd\n",
        "\n",
        "df = pd.read_csv('/content/drive/MyDrive/빅분기/basic1.csv')\n",
        "# print(df.head())\n",
        "# print('------------------------------------------------------------------')\n",
        "\n",
        "from sklearn.preprocessing import minmax_scale\n",
        "# print(help(minmax_scale))\n",
        "\n",
        "df['f5'] = minmax_scale(df['f5'])\n",
        "# print(df.head())\n",
        "# print('------------------------------------------------------------------')\n",
        "\n",
        "sort = df['f5'].sort_values(ascending=False)\n",
        "# print(sort)\n",
        "\n",
        "import numpy as np\n",
        "\n",
        "print((np.percentile(df['f5'], 5)) + (np.percentile(df['f5'], 95)))"
      ],
      "metadata": {
        "colab": {
          "base_uri": "https://localhost:8080/"
        },
        "id": "5EcBwhL4c5m3",
        "outputId": "6d2028c9-2bf9-4723-d6e0-19e34ac4b1ac"
      },
      "execution_count": null,
      "outputs": [
        {
          "output_type": "stream",
          "name": "stdout",
          "text": [
            "1.0248740983597389\n"
          ]
        }
      ]
    },
    {
      "cell_type": "markdown",
      "source": [
        "### **12. 상위 10개, 하위 10개 차이**\n",
        "- 주어진 데이터에서 상위 10개 국가의 접종률 평균과 하위 10개 국가의 접종률 평균을 구하고, 그 차이를 출력하시오 (단, 100%가 넘는 접종률 제거, 소수 첫째자리까지 출력)\n",
        "- data = covid-vaccination-vs-death_ratio.csv"
      ],
      "metadata": {
        "id": "MQe3dJ7xsFZj"
      }
    },
    {
      "cell_type": "code",
      "source": [
        "import pandas as pd\n",
        "\n",
        "df = pd.read_csv('/content/drive/MyDrive/빅분기/covid-vaccination-vs-death_ratio.csv')\n",
        "# print(df.head())\n",
        "# print('-------------------------------------------------------------------------------')\n",
        "\n",
        "# print(df.isna().sum())\n",
        "df2 = df.groupby('country').max()\n",
        "# print(df2.head())\n",
        "\n",
        "df2 = df2.sort_values(by='ratio', ascending=False)\n",
        "# print(df2.head())\n",
        "# print('-------------------------------------------------------------------------------')\n",
        "\n",
        "### 조건을 만족하는 index를 구해서 drop\n",
        "idx = df2[df2['ratio'] > 100].index\n",
        "# print(idx)\n",
        "df2.drop(idx, inplace=True)\n",
        "# print(df2.head())\n",
        "\n",
        "a = df2['ratio'].head(10).mean()\n",
        "b = df2['ratio'].tail(10).mean()\n",
        "# print(a, b)\n",
        "print(round(a - b, 1))"
      ],
      "metadata": {
        "colab": {
          "base_uri": "https://localhost:8080/"
        },
        "id": "mWdI3VX8sFfJ",
        "outputId": "f528ca79-5e80-4e85-a286-7d3c7b60833e"
      },
      "execution_count": null,
      "outputs": [
        {
          "output_type": "stream",
          "name": "stdout",
          "text": [
            "88.4\n"
          ]
        }
      ]
    },
    {
      "cell_type": "markdown",
      "source": [
        "### **13. 상관관계 구하기**\n",
        "- 주어진 데이터에서 상관관계를 구하고, quality와의 상관관계가 가장 큰 값과, 가장 작은 값을 구한 다음 더한 값을 출력하시오 (단, quality와 quality 상관관계 제외, 소수점 둘째자리까지 출력)\n",
        "- data = winequality-red.csv"
      ],
      "metadata": {
        "id": "R1QqJbYfvZHJ"
      }
    },
    {
      "cell_type": "code",
      "source": [
        "import pandas as pd\n",
        "\n",
        "df = pd.read_csv('/content/drive/MyDrive/빅분기/winequality-red.csv')\n",
        "# print(df.head())\n",
        "# print('-----------------------------------------------------------------------------')\n",
        "\n",
        "df_corr = df.corr()\n",
        "df_corr = df_corr[:-1]\n",
        "# print(df_corr)\n",
        "# print('-----------------------------------------------------------------------------')\n",
        "\n",
        "qual_corr = df_corr['quality']\n",
        "# print(qual_corr)\n",
        "\n",
        "max = qual_corr.max()\n",
        "\n",
        "### 상관관계는 0에 가까울수록 작은 값임\n",
        "qual_corr_abs = abs(qual_corr)\n",
        "# print(qual_corr_abs)\n",
        "min = qual_corr_abs.min()\n",
        "idx = qual_corr_abs.loc[qual_corr == min]\n",
        "# print(idx)\n",
        "\n",
        "min = qual_corr[4]\n",
        "# print(min)\n",
        "# print(max, min)\n",
        "\n",
        "print(round(max + min, 2))"
      ],
      "metadata": {
        "colab": {
          "base_uri": "https://localhost:8080/"
        },
        "id": "31ozKmMRvZMt",
        "outputId": "03ec1793-bd19-4ace-ee49-755f85119dfc"
      },
      "execution_count": null,
      "outputs": [
        {
          "output_type": "stream",
          "name": "stdout",
          "text": [
            "0.35\n"
          ]
        }
      ]
    },
    {
      "cell_type": "markdown",
      "source": [
        "### **14. 2개 조건에 따른 상위 값**\n",
        "- 'city'와 'f4'를 기준으로 f5의 평균값을 구한 다음, f5를 기준으로 상위 7개 값을 모두 더해 출력하시오 (소수 둘째자리까지 출력)\n",
        "- data = basic1.csv"
      ],
      "metadata": {
        "id": "0nQPEJTU1snZ"
      }
    },
    {
      "cell_type": "code",
      "source": [
        "import pandas as pd\n",
        "\n",
        "df = pd.read_csv('/content/drive/MyDrive/빅분기/basic1.csv')\n",
        "\n",
        "df = df.groupby(['city', 'f4'])[['f5']].mean()\n",
        "# print(df)\n",
        "\n",
        "df = df.sort_values('f5', ascending=False).head(7)\n",
        "# print(df)\n",
        "\n",
        "print(round(df['f5'].sum(), 2))"
      ],
      "metadata": {
        "colab": {
          "base_uri": "https://localhost:8080/"
        },
        "id": "OJe6KB-e1stl",
        "outputId": "b1740436-5e4b-477e-db67-bd0c0d6cfda3"
      },
      "execution_count": null,
      "outputs": [
        {
          "output_type": "stream",
          "name": "stdout",
          "text": [
            "643.68\n"
          ]
        }
      ]
    },
    {
      "cell_type": "markdown",
      "source": [
        "### **15. 슬라이싱 & 조건**\n",
        "- 주어진 데이터 중 'age'칼럼 상위 20개의 데이터를 구한 다음 'f1'의 결측치를 중앙값으로 채운다. 그리고 'f4'가 'ISFJ'와 'f5'가 20 이상인 'f1'의 평균값을 출력하시오\n",
        "- data = basic1.csv"
      ],
      "metadata": {
        "id": "wKEVfzD5418m"
      }
    },
    {
      "cell_type": "code",
      "source": [
        "import pandas as pd\n",
        "\n",
        "df = pd.read_csv('/content/drive/MyDrive/빅분기/basic1.csv')\n",
        "\n",
        "df = df.sort_values('age', ascending=False).head(20)\n",
        "# print(df)\n",
        "# print('-------------------------------------------------------------------------------')\n",
        "\n",
        "df = df.fillna(df['f1'].median())\n",
        "# print(df)\n",
        "\n",
        "cond = (df['f4'] == 'ISFJ') & (df['f5'] >= 20)\n",
        "\n",
        "print(df[cond]['f1'].mean())"
      ],
      "metadata": {
        "colab": {
          "base_uri": "https://localhost:8080/"
        },
        "id": "bkf7ES1b42CM",
        "outputId": "439cd5fe-3eee-4ba9-af19-c01f721cc577"
      },
      "execution_count": null,
      "outputs": [
        {
          "output_type": "stream",
          "name": "stdout",
          "text": [
            "73.875\n"
          ]
        }
      ]
    },
    {
      "cell_type": "markdown",
      "source": [
        "### **16. 분산**\n",
        "- 주어진 데이터 중 'f2'가 0값인 데이터를 'age'를 기준으로 오름차순 정렬하고 앞에서부터 20개의 데이터를 추출한 후 'f1'결측치(최소값)를 채우기 전과 후의 분산 차이를 계산하시오 (소수점 둘째자리까지)\n",
        "- data = basic1.csv"
      ],
      "metadata": {
        "id": "I-yicUm06NXO"
      }
    },
    {
      "cell_type": "code",
      "source": [
        "import pandas as pd\n",
        "\n",
        "df = pd.read_csv('/content/drive/MyDrive/빅분기/basic1.csv')\n",
        "\n",
        "df = df[df['f2']==0]\n",
        "df = df.sort_values('age', ascending=True).head(20)\n",
        "# print(df)\n",
        "df2 = df.copy()\n",
        "\n",
        "df2 = df2.fillna(df2['f1'].min())\n",
        "# print(df2)\n",
        "\n",
        "var1 = df['f1'].var()\n",
        "var2 = df2['f1'].var()\n",
        "# print(var1, var2)\n",
        "\n",
        "print(round(var1 - var2, 2))"
      ],
      "metadata": {
        "colab": {
          "base_uri": "https://localhost:8080/"
        },
        "id": "upx7-9JP6Nbn",
        "outputId": "b3b8f508-b60a-44d7-da73-01b9d5e56cab"
      },
      "execution_count": null,
      "outputs": [
        {
          "output_type": "stream",
          "name": "stdout",
          "text": [
            "38.44\n"
          ]
        }
      ]
    },
    {
      "cell_type": "markdown",
      "source": [
        "### **17. 시계열 데이터 1**\n",
        "- 2022년 5월 'Sales'의 중앙값을 구하시오\n",
        "- data = basic2.csv"
      ],
      "metadata": {
        "id": "afHjmkdH8MN0"
      }
    },
    {
      "cell_type": "code",
      "source": [
        "import pandas as pd\n",
        "\n",
        "df = pd.read_csv('/content/drive/MyDrive/빅분기/basic2.csv')\n",
        "# print(df.head())\n",
        "\n",
        "df['Date'] = pd.to_datetime(df['Date'])\n",
        "# print(df.head())\n",
        "\n",
        "df['year'] = df['Date'].dt.year\n",
        "df['month'] = df['Date'].dt.month\n",
        "# print(df.head())\n",
        "\n",
        "cond = (df['year'] == 2022) & (df['month'] == 5)\n",
        "print(df[cond]['Sales'].median())"
      ],
      "metadata": {
        "colab": {
          "base_uri": "https://localhost:8080/"
        },
        "id": "WeqkWEd88MSd",
        "outputId": "6df72527-093e-46dc-cdbd-de398d40bf68"
      },
      "execution_count": null,
      "outputs": [
        {
          "output_type": "stream",
          "name": "stdout",
          "text": [
            "1477685.0\n"
          ]
        }
      ]
    },
    {
      "cell_type": "markdown",
      "source": [
        "### **18. 시계열 데이터 2**\n",
        "- 주어진 데이터에서 2022년 5월 주말과 평일의 'Sales'칼럼 평균값 차이를 구하시오 (소수점 둘째자리까지 출력, 반올림)\n",
        "- data = basic2.csv"
      ],
      "metadata": {
        "id": "yg3CklRN_K3A"
      }
    },
    {
      "cell_type": "code",
      "source": [
        "import pandas as pd\n",
        "\n",
        "df = pd.read_csv('/content/drive/MyDrive/빅분기/basic2.csv')\n",
        "\n",
        "df['Date'] = pd.to_datetime(df['Date'])\n",
        "\n",
        "df['year'] = df['Date'].dt.year\n",
        "df['month'] = df['Date'].dt.month\n",
        "df['dayofweek'] = df['Date'].dt.dayofweek\n",
        "# print(df.head())\n",
        "\n",
        "cond1 = ((df['year'] == 2022) & (df['month'] == 5)) & ((df['dayofweek'] == 5) | (df['dayofweek'] == 6))\n",
        "cond2 = ((df['year'] == 2022) & (df['month'] == 5)) & ((df['dayofweek'] != 5) & (df['dayofweek'] != 6))\n",
        "\n",
        "mean1 = df[cond1]['Sales'].mean()\n",
        "mean2 = df[cond2]['Sales'].mean()\n",
        "# print(mean1, mean2)\n",
        "\n",
        "print(round(mean1 - mean2, 2))"
      ],
      "metadata": {
        "colab": {
          "base_uri": "https://localhost:8080/"
        },
        "id": "6yRKq4Tg_K_D",
        "outputId": "32605516-72f8-41c0-be6f-5d7c50701c6c"
      },
      "execution_count": null,
      "outputs": [
        {
          "output_type": "stream",
          "name": "stdout",
          "text": [
            "3010339.1\n"
          ]
        }
      ]
    },
    {
      "cell_type": "markdown",
      "source": [
        "### **19. 시계열 데이터 3**\n",
        "- 주어진 데이터에서 2022년 월별 'Sales' 합계 중 가장 큰 금액과 2023년 월별 'Sales' 합계 중 가장 큰 금액의 차이를 절대값으로 출력하시오 (단, 'Events'칼럼이 1인 경우 80%을 'Sales'값만 반영, 최종값은 소수점 반올림 후 정수 출력)\n",
        "- data = basic2.csv"
      ],
      "metadata": {
        "id": "irf2VKi7CYq4"
      }
    },
    {
      "cell_type": "code",
      "source": [
        "import pandas as pd\n",
        "\n",
        "df = pd.read_csv('/content/drive/MyDrive/빅분기/basic2.csv')\n",
        "\n",
        "df['Date'] = pd.to_datetime(df['Date'])\n",
        "# print(df.head())\n",
        "\n",
        "df['year'] = df['Date'].dt.year\n",
        "df['month'] = df['Date'].dt.month\n",
        "\n",
        "for i in range(len(df)):\n",
        "  if df['Events'][i] == 1:\n",
        "    df['Sales'][i] = df['Sales'][i] * 0.8\n",
        "# print(df.head())\n",
        "\n",
        "cond1 = df['year'] == 2022\n",
        "df1 = df[cond1]\n",
        "sales1 = df1.groupby('month')['Sales'].sum().max()\n",
        "# print(sales1)\n",
        "\n",
        "cond2 = df['year'] == 2023\n",
        "df2 = df[cond2]\n",
        "sales2 = df2.groupby('month')['Sales'].sum().max()\n",
        "# print(sales2)\n",
        "\n",
        "print(int(round(abs(sales1 - sales2))))"
      ],
      "metadata": {
        "colab": {
          "base_uri": "https://localhost:8080/"
        },
        "id": "43JmXG2qCYws",
        "outputId": "19910407-bf3e-4700-cbbe-14d6bda38bac"
      },
      "execution_count": null,
      "outputs": [
        {
          "output_type": "stream",
          "name": "stdout",
          "text": [
            "42473438\n"
          ]
        },
        {
          "output_type": "stream",
          "name": "stderr",
          "text": [
            "/usr/local/lib/python3.7/dist-packages/ipykernel_launcher.py:13: SettingWithCopyWarning: \n",
            "A value is trying to be set on a copy of a slice from a DataFrame\n",
            "\n",
            "See the caveats in the documentation: https://pandas.pydata.org/pandas-docs/stable/user_guide/indexing.html#returning-a-view-versus-a-copy\n",
            "  del sys.path[0]\n"
          ]
        }
      ]
    },
    {
      "cell_type": "markdown",
      "source": [
        "### **20. 데이터 병합**\n",
        "- basic1 데이터 중 'f4'를 기준으로 basic3 데이터 'f4' 값을 기준으로 병합하고, 병합한 데이터에서 'r2' 결측치를 제거한 다음, 앞에서부터 20개 데이터를 선택하고 'f2'칼럼의 합을 출력하시오\n",
        "- data = basic1.csv, basic3.csv (추천1:r1, 추천2:r2)"
      ],
      "metadata": {
        "id": "YfTS0JSgG3-p"
      }
    },
    {
      "cell_type": "code",
      "source": [
        "import pandas as pd\n",
        "\n",
        "df1 = pd.read_csv('/content/drive/MyDrive/빅분기/basic1.csv')\n",
        "df2 = pd.read_csv('/content/drive/MyDrive/빅분기/basic3.csv')\n",
        "\n",
        "# print(df1.head())\n",
        "# print('----------------------------------------------------------------------------------')\n",
        "# print(df2.head())\n",
        "# print('----------------------------------------------------------------------------------')\n",
        "\n",
        "df = pd.merge(left=df1, right=df2, how='left', on='f4')\n",
        "# print(df.head())\n",
        "\n",
        "df = df.dropna(subset=['r2'])\n",
        "# print(df.head())\n",
        "\n",
        "print(df['f2'].head(20).sum())"
      ],
      "metadata": {
        "colab": {
          "base_uri": "https://localhost:8080/"
        },
        "id": "a84LN-hMG4Eq",
        "outputId": "ba184ac5-91cc-4c1d-bde2-3dd89e25acbb"
      },
      "execution_count": null,
      "outputs": [
        {
          "output_type": "stream",
          "name": "stdout",
          "text": [
            "15\n"
          ]
        }
      ]
    },
    {
      "cell_type": "markdown",
      "source": [
        "### **21. 나이 구간 나누기**\n",
        "- 주어진 데이터 중 'age'칼럼 이상치를 제거하고, 동일한 개수로 나이 순으로 세 그룹으로 나눈 뒤 각 그룹의 중앙값을 더하여 출력하시오 (이상치는 음수(0포함), 소수점 값)\n",
        "- data = basic1.csv"
      ],
      "metadata": {
        "id": "7us8rpLTOWRS"
      }
    },
    {
      "cell_type": "code",
      "source": [
        "import pandas as pd\n",
        "\n",
        "df = pd.read_csv('/content/drive/MyDrive/빅분기/basic1.csv')\n",
        "# print(df.head(10))\n",
        "\n",
        "import numpy as np\n",
        "df = df[df['age'] > 0]\n",
        "df = df[df['age'] == np.ceil(df['age'])]\n",
        "# print(df.head(10))\n",
        "\n",
        "df['range'] = pd.qcut(df['age'], q=3, labels=['group1', 'group2', 'group3'])\n",
        "# print(df['range'].value_counts())\n",
        "\n",
        "med1 = df[df['range'] == 'group1']['age'].median()\n",
        "med2 = df[df['range'] == 'group2']['age'].median()\n",
        "med3 = df[df['range'] == 'group3']['age'].median()\n",
        "# print(med1, med2, med3)\n",
        "\n",
        "print(med1 + med2 + med3)"
      ],
      "metadata": {
        "id": "-cpYNVCMOWX4",
        "colab": {
          "base_uri": "https://localhost:8080/"
        },
        "outputId": "a54db881-e850-4505-b7b1-b7382f7c0e98"
      },
      "execution_count": 19,
      "outputs": [
        {
          "output_type": "stream",
          "name": "stdout",
          "text": [
            "165.0\n"
          ]
        }
      ]
    },
    {
      "cell_type": "markdown",
      "source": [
        "22. 시계열 데이터 4\n",
        "주어진 데이터 중 주 단위 'Sales' 합계를 구하고, 가장 큰 값을 가진 주와 가장 작은 값을 가진 주의 차이를 구하시오 (절대값)\n",
        "data = basic2.csv"
      ],
      "metadata": {
        "id": "ceHCwC9X1WCX"
      }
    },
    {
      "cell_type": "code",
      "source": [
        "import pandas as pd\n",
        "\n",
        "df = pd.read_csv('/content/drive/MyDrive/빅분기/basic2.csv')\n",
        "# print(df.head())\n",
        "\n",
        "df['Date'] = pd.to_datetime(df['Date'])\n",
        "df = df.set_index('Date')\n",
        "\n",
        "df_w = df.resample('W').sum()\n",
        "# print(df_w)\n",
        "\n",
        "print(abs(df_w['Sales'].max() - df_w['Sales'].min()))"
      ],
      "metadata": {
        "colab": {
          "base_uri": "https://localhost:8080/"
        },
        "id": "abhBPaAL1WJ-",
        "outputId": "4f7d80a0-849b-41b2-8f69-8b6d47265512"
      },
      "execution_count": 27,
      "outputs": [
        {
          "output_type": "stream",
          "name": "stdout",
          "text": [
            "91639050\n"
          ]
        }
      ]
    },
    {
      "cell_type": "markdown",
      "source": [
        "23. 시계열 데이터 5 (시차 데이터 생성)\n",
        "주어진 데이터에서 새로운 칼럼(1일 이전 시차 칼럼)을 만들고, 'Events'가 1이면서 'Sales'가 1,000,000이하인 조건에 맞는 새로운 칼럼 합을 출력하시오\n",
        "data = basic2.csv"
      ],
      "metadata": {
        "id": "mKuBv7Od3tCx"
      }
    },
    {
      "cell_type": "code",
      "source": [
        "import pandas as pd\n",
        "\n",
        "df = pd.read_csv('/content/drive/MyDrive/빅분기/basic2.csv')\n",
        "\n",
        "df['previous_PV'] = df['PV'].shift(1)\n",
        "# print(df.head())\n",
        "\n",
        "cond = (df['Events']==1) & (df['Sales'] <= 1000000)\n",
        "print(df[cond]['previous_PV'].sum())"
      ],
      "metadata": {
        "colab": {
          "base_uri": "https://localhost:8080/"
        },
        "id": "GH-wIHU23tIO",
        "outputId": "0422fb43-1611-44c9-f74b-f1fc69c46397"
      },
      "execution_count": 29,
      "outputs": [
        {
          "output_type": "stream",
          "name": "stdout",
          "text": [
            "1894876.0\n"
          ]
        }
      ]
    },
    {
      "cell_type": "markdown",
      "source": [
        "### **24. 모의고사 1**\n",
        "- 첫번째 데이터부터 순서대로 50:50으로 데이터를 나누고, 앞에서부터 50%의 데이터(이하, A그룹)는 'f1'칼럼을 A그룹 중앙값으로 채우고, 뒤에서부터 50% 데이터(이하, B그룹)는 'f1'칼럼을 B그룹의 최대값으로 채운 후, A그룹과 B그룹의 표준편차 합을 출력하시오 (단, 소수점 첫째자리까지 출력)\n",
        "- data = basic1.csv"
      ],
      "metadata": {
        "id": "IogLSV0N7chY"
      }
    },
    {
      "cell_type": "code",
      "source": [
        "import pandas as pd\n",
        "\n",
        "df = pd.read_csv('/content/drive/MyDrive/빅분기/basic1.csv')\n",
        "\n",
        "# print(len(df))\n",
        "a = df[:50]\n",
        "b = df[50:]\n",
        "# print(len(a), len(b))\n",
        "\n",
        "a['f1'] = a['f1'].fillna(a['f1'].median())\n",
        "b['f1'] = b['f1'].fillna(b['f1'].max())\n",
        "\n",
        "std1 = a['f1'].std()\n",
        "std2 = b['f1'].std()\n",
        "print(std1 + std2)"
      ],
      "metadata": {
        "colab": {
          "base_uri": "https://localhost:8080/"
        },
        "id": "uGuiwqmY7com",
        "outputId": "a5af67e2-aaf6-48ef-fc1f-59eda79ebc57"
      },
      "execution_count": 39,
      "outputs": [
        {
          "output_type": "stream",
          "name": "stdout",
          "text": [
            "42.0016947694826\n"
          ]
        },
        {
          "output_type": "stream",
          "name": "stderr",
          "text": [
            "/usr/local/lib/python3.7/dist-packages/ipykernel_launcher.py:10: SettingWithCopyWarning: \n",
            "A value is trying to be set on a copy of a slice from a DataFrame.\n",
            "Try using .loc[row_indexer,col_indexer] = value instead\n",
            "\n",
            "See the caveats in the documentation: https://pandas.pydata.org/pandas-docs/stable/user_guide/indexing.html#returning-a-view-versus-a-copy\n",
            "  # Remove the CWD from sys.path while we load stuff.\n",
            "/usr/local/lib/python3.7/dist-packages/ipykernel_launcher.py:11: SettingWithCopyWarning: \n",
            "A value is trying to be set on a copy of a slice from a DataFrame.\n",
            "Try using .loc[row_indexer,col_indexer] = value instead\n",
            "\n",
            "See the caveats in the documentation: https://pandas.pydata.org/pandas-docs/stable/user_guide/indexing.html#returning-a-view-versus-a-copy\n",
            "  # This is added back by InteractiveShellApp.init_path()\n"
          ]
        }
      ]
    },
    {
      "cell_type": "markdown",
      "source": [
        "### **25. 모의고사 2**\n",
        "- 'f4'칼럼 기준 내림차순 정렬과 'f5'칼럼 기준 오름차순 정렬을 순서대로 다중 조건 정렬하고. 앞에서부터 10개의 데이터 중 'f5'칼럼의 최소값을 찾아 이 최소값으로 앞에서부터 10개의 'f5칼럼 데이터를 변경한 후 'f5'칼럼의 평균값을 출력하시오 (단, 소수점 둘째자리까지 출력)\n",
        "- data = basic1.csv"
      ],
      "metadata": {
        "id": "nzjSrPue878Q"
      }
    },
    {
      "cell_type": "code",
      "source": [
        "import pandas as pd\n",
        "\n",
        "df = pd.read_csv('/content/drive/MyDrive/빅분기/basic1.csv')\n",
        "\n",
        "df = df.sort_values(['f4', 'f5'], ascending=[False, True])\n",
        "df[:10]['f5'] = df[:10]['f5'].min()\n",
        "\n",
        "print(round(df['f5'].mean(), 2))"
      ],
      "metadata": {
        "colab": {
          "base_uri": "https://localhost:8080/"
        },
        "id": "byU3q3v888B9",
        "outputId": "e0100863-0eef-433b-a5cd-1b39290853ae"
      },
      "execution_count": 50,
      "outputs": [
        {
          "output_type": "stream",
          "name": "stdout",
          "text": [
            "53.63\n"
          ]
        },
        {
          "output_type": "stream",
          "name": "stderr",
          "text": [
            "/usr/local/lib/python3.7/dist-packages/ipykernel_launcher.py:6: SettingWithCopyWarning: \n",
            "A value is trying to be set on a copy of a slice from a DataFrame.\n",
            "Try using .loc[row_indexer,col_indexer] = value instead\n",
            "\n",
            "See the caveats in the documentation: https://pandas.pydata.org/pandas-docs/stable/user_guide/indexing.html#returning-a-view-versus-a-copy\n",
            "  \n"
          ]
        }
      ]
    },
    {
      "cell_type": "markdown",
      "source": [
        "### **26. 모의고사 3**\n",
        "- 'age' 칼럼의 IQR 방식을 이용한 이상치 수와 표준편차*1.5 방식을 이용한 이상치 수 합을 구하시오\n",
        "- data = basic1.csv"
      ],
      "metadata": {
        "id": "1adcPOQe-GTL"
      }
    },
    {
      "cell_type": "code",
      "source": [
        "import pandas as pd\n",
        "\n",
        "df = pd.read_csv('/content/drive/MyDrive/빅분기/basic1.csv')\n",
        "\n",
        "import numpy as np\n",
        "Q1 = np.percentile(df['age'], 25)\n",
        "Q3 = np.percentile(df['age'], 75)\n",
        "IQR = Q3 - Q1\n",
        "\n",
        "mim = Q1 - 1.5 * IQR\n",
        "max = Q3 + 1.5 * IQR\n",
        "\n",
        "cond = (df['age'] < min) | (df['age'] > max)\n",
        "a = len(df[cond])\n",
        "# print(a)\n",
        "\n",
        "std = df['age'].std()\n",
        "mean = df['age'].mean()\n",
        "\n",
        "min = mean - 1.5 * std\n",
        "max = mean + 1.5 * std\n",
        "\n",
        "cond = (df['age'] < min) | (df['age'] > max)\n",
        "b = len(df[cond])\n",
        "# print(b)\n",
        "\n",
        "print(a + b)"
      ],
      "metadata": {
        "colab": {
          "base_uri": "https://localhost:8080/"
        },
        "id": "6j_FvxOM-GYX",
        "outputId": "48b3936b-7f11-4595-f8f4-e9a7de4aa0e7"
      },
      "execution_count": 63,
      "outputs": [
        {
          "output_type": "stream",
          "name": "stdout",
          "text": [
            "23\n"
          ]
        }
      ]
    }
  ]
}