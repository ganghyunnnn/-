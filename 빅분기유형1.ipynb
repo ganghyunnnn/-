{
  "nbformat": 4,
  "nbformat_minor": 0,
  "metadata": {
    "colab": {
      "name": "빅분기유형1.ipynb",
      "provenance": [],
      "mount_file_id": "1TM0938StuyK-8qLLC7ZxfYnSbCZOdkHk",
      "authorship_tag": "ABX9TyPPdSt1tFAVnRa8ncS5hZRC",
      "include_colab_link": true
    },
    "kernelspec": {
      "name": "python3",
      "display_name": "Python 3"
    },
    "language_info": {
      "name": "python"
    }
  },
  "cells": [
    {
      "cell_type": "markdown",
      "metadata": {
        "id": "view-in-github",
        "colab_type": "text"
      },
      "source": [
        "<a href=\"https://colab.research.google.com/github/ganghyunnnn/bigdata_test/blob/main/%EB%B9%85%EB%B6%84%EA%B8%B0%EC%9C%A0%ED%98%951.ipynb\" target=\"_parent\"><img src=\"https://colab.research.google.com/assets/colab-badge.svg\" alt=\"Open In Colab\"/></a>"
      ]
    },
    {
      "cell_type": "markdown",
      "source": [
        "## **1. 작업형1 예시문제 (dataq 공식 예제)**\n",
        "- 자동차 데이터 셋에서 qsec 컬럼을 Min-Max Scale로 변환 후 0.5보다 큰 값을 가지는 레코드(row) 수를 구하시오\n",
        "- data = mtcars.csv"
      ],
      "metadata": {
        "id": "AIwDDjOz8QsR"
      }
    },
    {
      "cell_type": "code",
      "execution_count": 9,
      "metadata": {
        "colab": {
          "base_uri": "https://localhost:8080/"
        },
        "id": "gJr-g26b8K0c",
        "outputId": "1af06724-2d6c-4d38-d49b-eb2802ec1679"
      },
      "outputs": [
        {
          "output_type": "stream",
          "name": "stdout",
          "text": [
            "9\n"
          ]
        }
      ],
      "source": [
        "import pandas as pd\n",
        "\n",
        "file = '/content/drive/MyDrive/빅분기/mtcars.csv'\n",
        "df = pd.read_csv(file)\n",
        "\n",
        "# print(df.head())\n",
        "\n",
        "from sklearn.preprocessing import minmax_scale\n",
        "df['qsec'] = minmax_scale(df['qsec'])\n",
        "\n",
        "# print(df.head())\n",
        "\n",
        "print(len(df[df['qsec']>0.5]))"
      ]
    },
    {
      "cell_type": "markdown",
      "source": [
        "### **2. 이상치를 찾아라(IQR활용)**\n",
        "- 데이터에서 IQR을 활용해 Fare 칼럼의 이상치를 찾고, 이상치 데이터의 여성 수를 구하시오\n",
        "- data = titanic.csv"
      ],
      "metadata": {
        "id": "UvFa6qpQ-auF"
      }
    },
    {
      "cell_type": "code",
      "source": [
        "import pandas\n",
        "\n",
        "df = pd.read_csv('/content/drive/MyDrive/빅분기/titanic.csv')\n",
        "# print(df.head())\n",
        "\n",
        "import numpy as np\n",
        "Q1 = np.percentile(df['Fare'], 25)\n",
        "Q3 = np.percentile(df['Fare'], 75)\n",
        "IQR = Q3 - Q1\n",
        "# print(Q1, Q3, IQR)\n",
        "\n",
        "outlier1 = Q1 - 1.5 * IQR\n",
        "outlier2 = Q3 + 1.5 * IQR\n",
        "# print(outlier1, outlier2)\n",
        "\n",
        "df1 = df[(df['Fare'] < outlier1) | (df['Fare'] > outlier2)]\n",
        "# print(df1.head())\n",
        "\n",
        "print(len(df1[df1['Sex']=='female']))"
      ],
      "metadata": {
        "colab": {
          "base_uri": "https://localhost:8080/"
        },
        "id": "MVe67Kyh-a9N",
        "outputId": "d2c0b96d-bef2-4179-d9a0-fc754eca6864"
      },
      "execution_count": 28,
      "outputs": [
        {
          "output_type": "stream",
          "name": "stdout",
          "text": [
            "70\n"
          ]
        }
      ]
    },
    {
      "cell_type": "markdown",
      "source": [
        "### **3. 이상치를 찾아라(소수점 나이)**\n",
        "- 주어진 데이터에서 이상치(소수점 나이)를 찾고 올림, 내림, 버림했을때 세 가지 경우의 이상치 'age' 평균을 구한 다음 모두 더하여 출력하시오\n",
        "- data =  basic1.csv"
      ],
      "metadata": {
        "id": "bXGZjfhrC6Ff"
      }
    },
    {
      "cell_type": "code",
      "source": [
        "import pandas as pd\n",
        "\n",
        "df = pd.read_csv('/content/drive/MyDrive/빅분기/basic1.csv')\n",
        "# print(df.head())\n",
        "# print('------------------------------------------------------------')\n",
        "\n",
        "import numpy as np\n",
        "df = df[(df['age'] - np.floor(df['age']) != 0)]\n",
        "# print(df)\n",
        "\n",
        "# ceil, floor, trunc\n",
        "ceil = np.ceil(df['age']).mean()\n",
        "floor = np.floor(df['age']).mean()\n",
        "trunc = np.trunc(df['age']).mean()\n",
        "\n",
        "print(ceil+floor+trunc)"
      ],
      "metadata": {
        "colab": {
          "base_uri": "https://localhost:8080/"
        },
        "id": "NvRRc2nqC6LK",
        "outputId": "7389c95c-fb62-4484-b9e1-1ae241ec8c9a"
      },
      "execution_count": 37,
      "outputs": [
        {
          "output_type": "stream",
          "name": "stdout",
          "text": [
            "69.5\n"
          ]
        }
      ]
    },
    {
      "cell_type": "markdown",
      "source": [
        "### **4. 결측치 처리(map 활용)**\n",
        "- 주어진 데이터에서 결측치가 80% 이상 되는 칼럼은(변수는) 삭제하고, 80% 미만인 결측치가 있는 칼럼은 'city'별 중앙값으로 값을 대체하고 'f1'칼럼의 평균값을 출력하시오\n",
        "- data = basic1.csv"
      ],
      "metadata": {
        "id": "fj37KpWPIFU9"
      }
    },
    {
      "cell_type": "code",
      "source": [
        "import pandas as pd\n",
        "\n",
        "df = pd.read_csv('/content/drive/MyDrive/빅분기/basic1.csv')\n",
        "# print(df.head())\n",
        "# print('---------------------------------------------------------------')\n",
        "\n",
        "# print(df.isna().sum() / df.shape[0])\n",
        "\n",
        "df = df.drop(['f3'], axis=1)\n",
        "# print(df.head())\n",
        "# print('---------------------------------------------------------------')\n",
        "\n",
        "# print(df['city'].values)\n",
        "s = df[df['city']=='서울']['f1'].median()\n",
        "p = df[df['city']=='부산']['f1'].median()\n",
        "d = df[df['city']=='대구']['f1'].median()\n",
        "k = df[df['city']=='경기']['f1'].median()\n",
        "\n",
        "# print(s,p,d,k)\n",
        "\n",
        "df['f1'] = df['f1'].fillna(df['city'].map({'서울':s, '부산':p, '대구':d, '경기':k}))\n",
        "print(df['f1'].mean())"
      ],
      "metadata": {
        "colab": {
          "base_uri": "https://localhost:8080/"
        },
        "id": "N9mNTp1JIFbb",
        "outputId": "18b3be7e-825b-41e6-cf25-effb1f0f9eaa"
      },
      "execution_count": 62,
      "outputs": [
        {
          "output_type": "stream",
          "name": "stdout",
          "text": [
            "65.52\n"
          ]
        }
      ]
    },
    {
      "cell_type": "markdown",
      "source": [
        "### **5. 왜도와 첨도 구하기 (로그스케일)**\n",
        "- 주어진 데이터 중 'SalePrice' 칼럼의 왜도와 첨도를 구한 값과, 'SalePrice'칼럼을 스케일링(log1p)로 변환한 이후 왜도와 첨도를 구해 모두 더한 다음 소수점 둘째자리까지 출력하시오\n",
        "- data = T1-4.csv\n"
      ],
      "metadata": {
        "id": "mZzJdWlSb4wQ"
      }
    },
    {
      "cell_type": "code",
      "source": [
        "import pandas as pd\n",
        "\n",
        "df = pd.read_csv('/content/drive/MyDrive/빅분기/T1-4.csv')\n",
        "# print(df.head())\n",
        "# print('----------------------------------------------------------------------------------------')\n",
        "\n",
        "# skew(), kurt()\n",
        "\n",
        "s1 = df['SalePrice'].skew()\n",
        "k1 = df['SalePrice'].kurt()\n",
        "# print(s1, k1)\n",
        "\n",
        "import numpy as np\n",
        "\n",
        "df['SalePrice'] = np.log1p(df['SalePrice'])\n",
        "# print(df.head())\n",
        "\n",
        "s2 = df['SalePrice'].skew()\n",
        "k2 = df['SalePrice'].kurt()\n",
        "\n",
        "print(round((s1+s2+k1+k2), 2))"
      ],
      "metadata": {
        "colab": {
          "base_uri": "https://localhost:8080/"
        },
        "id": "OpemPCTKb5DX",
        "outputId": "3545853e-531e-4a94-f1c3-8f7f0a117f4f"
      },
      "execution_count": 73,
      "outputs": [
        {
          "output_type": "stream",
          "name": "stdout",
          "text": [
            "9.35\n"
          ]
        }
      ]
    },
    {
      "cell_type": "markdown",
      "source": [
        "### **6. 결측치 제거 및 그룹 합계**\n",
        "- 주어진 데이터 중 'f1'칼럼 결측 데이터를 제거하고, 'city'와 'f2'를 기준으로 묶어 합계를 구하고, 'city'가 경기이면서 'f2'가 0인 조건에 만족하는 f1 값을 구하시오\n",
        "- data = basic1.csv"
      ],
      "metadata": {
        "id": "xGQ-TbzrgTBb"
      }
    },
    {
      "cell_type": "code",
      "source": [
        "import pandas as pd\n",
        "\n",
        "df = pd.read_csv('/content/drive/MyDrive/빅분기/basic1.csv')\n",
        "# print(df.head())\n",
        "# print('-------------------------------------------------------------------------')\n",
        "\n",
        "df = df.dropna(subset=['f1'])\n",
        "# print(df.head())\n",
        "# print('-------------------------------------------------------------------------')\n",
        "\n",
        "df2 = df.groupby(['city', 'f2']).sum()\n",
        "# print(df2.head())\n",
        "\n",
        "print(df2['f1'][0])"
      ],
      "metadata": {
        "colab": {
          "base_uri": "https://localhost:8080/"
        },
        "id": "fyTfkpi5gTJU",
        "outputId": "0beebc89-e8b0-4699-ee41-e4f41cdd4dd6"
      },
      "execution_count": 97,
      "outputs": [
        {
          "output_type": "stream",
          "name": "stdout",
          "text": [
            "833.0\n"
          ]
        }
      ]
    },
    {
      "cell_type": "markdown",
      "source": [
        "### **7. 값 변경 및 2개 이상의 조건**\n",
        "- 'f4' 칼럼의 값이 'ESFJ'인 데이터를 'ISFJ'로 대체하고, 'city'가 '경기' 이면서 'f4'가 'ISFJ'인 데이터 중 'age'칼럼의 최대값을 출력하시오\n",
        "- data = basic1.csv"
      ],
      "metadata": {
        "id": "IJkfRps8w8Bd"
      }
    },
    {
      "cell_type": "code",
      "source": [
        "import pandas as pd\n",
        "\n",
        "df = pd.read_csv('/content/drive/MyDrive/빅분기/basic1.csv')\n",
        "# print(df.head())\n",
        "# print('-------------------------------------------------------------------------------')\n",
        "\n",
        "df['f4'] = df['f4'].replace('ESFJ', 'ISFJ')\n",
        "# print(df['f4'].unique())\n",
        "\n",
        "df = df[(df['city']=='경기') & (df['f4']=='ISFJ')]\n",
        "print(df['age'].max())"
      ],
      "metadata": {
        "colab": {
          "base_uri": "https://localhost:8080/"
        },
        "id": "dQExBeV7w8He",
        "outputId": "7d1aa81d-24dd-4666-8a25-a0d6f7e21cc2"
      },
      "execution_count": 109,
      "outputs": [
        {
          "output_type": "stream",
          "name": "stdout",
          "text": [
            "90.0\n"
          ]
        }
      ]
    },
    {
      "cell_type": "markdown",
      "source": [
        "### **8. 누적합 그리고 보간(결측치 처리)**\n",
        "- 주어진 데이터 중 'f2'칼럼이 1인 조건에 해당하는 데이터의 'f1'칼럼 누적합을 계산한다. 이때 발생하는 누적합 결측치는 바로 뒤의 값을 채우고, 누적합의 평균값을 출력하시오 (단, 결측치 바로 뒤의 값이 없으면 다음에 나오는 값을 채워넣는다)\n",
        "- data = basic1.csv"
      ],
      "metadata": {
        "id": "KSf42BrHyGKs"
      }
    },
    {
      "cell_type": "code",
      "source": [
        "import pandas as pd\n",
        "\n",
        "df = pd.read_csv('/content/drive/MyDrive/빅분기/basic1.csv')\n",
        "# print(df.head())\n",
        "# print('-----------------------------------------------------------------------------------')\n",
        "\n",
        "cumsum = df[df['f2']==1]['f1'].cumsum()\n",
        "cumsum = cumsum.fillna(method='bfill')\n",
        "# print(cumsum.head())\n",
        "\n",
        "print(cumsum.mean())"
      ],
      "metadata": {
        "colab": {
          "base_uri": "https://localhost:8080/"
        },
        "id": "KKu_UloJyGSQ",
        "outputId": "43427385-5255-4709-cb55-a70e3ca0e0e4"
      },
      "execution_count": 131,
      "outputs": [
        {
          "output_type": "stream",
          "name": "stdout",
          "text": [
            "980.3783783783783\n"
          ]
        }
      ]
    },
    {
      "cell_type": "markdown",
      "source": [
        "### **9. 수치형 변수 표준화**\n",
        "- 주어진 데이터에서 'f5'칼럼을 표준화(Standardization (Z-score Normalization))하고 그 중앙값을 구하시오\n",
        "- data = basic1.csv"
      ],
      "metadata": {
        "id": "saaYg6hs0Lti"
      }
    },
    {
      "cell_type": "code",
      "source": [
        "import pandas as pd\n",
        "\n",
        "df = pd.read_csv('/content/drive/MyDrive/빅분기/basic1.csv')\n",
        "# print(df.head())\n",
        "# print('-----------------------------------------------------------------------------------')\n",
        "\n",
        "from sklearn.preprocessing import StandardScaler\n",
        "# help(sklearn.preprocessing.StandardScaler)\n",
        "scaler = StandardScaler()\n",
        "df['f5'] = scaler.fit_transform(df[['f5']])\n",
        "print(df['f5'].median())"
      ],
      "metadata": {
        "colab": {
          "base_uri": "https://localhost:8080/"
        },
        "id": "M6WM7HMM0L13",
        "outputId": "cc4f5fa4-a137-444a-a9bb-a49549d2bb9c"
      },
      "execution_count": 152,
      "outputs": [
        {
          "output_type": "stream",
          "name": "stdout",
          "text": [
            "0.260619629559015\n"
          ]
        }
      ]
    },
    {
      "cell_type": "markdown",
      "source": [
        "### **10. 여-존슨과 박스-칵스 변환**\n",
        "- 주어진 데이터에서 20세 이상인 데이터를 추출하고 'f1'칼럼의 결측치를 최빈값으로 채운 후, 'f1'칼럼의 여-존슨과 박스-콕스 변환값을 구하고, 두 값의 차이를 절대값으로 구한 다음 모두 더해 소수점 둘째자리까지 출력(반올림)하시오\n",
        "- data = basic1.csv"
      ],
      "metadata": {
        "id": "KoE1ZBZA2DlI"
      }
    },
    {
      "cell_type": "code",
      "source": [
        "import pandas as pd\n",
        "\n",
        "df = pd.read_csv('/content/drive/MyDrive/빅분기/basic1.csv')\n",
        "# print(df.head())\n",
        "# print('-----------------------------------------------------------------------------------')\n",
        "\n",
        "df = df[df['age']>=20]\n",
        "df['f1'] = df['f1'].fillna(df['f1'].mode())\n",
        "df['f1'] = df['f1'].fillna(df['f1'].mode()[0])\n",
        "print(df.head())"
      ],
      "metadata": {
        "colab": {
          "base_uri": "https://localhost:8080/"
        },
        "id": "WSLebzsm2DtL",
        "outputId": "63e642e0-41c7-4be3-b90d-59b1ecd27c52"
      },
      "execution_count": 157,
      "outputs": [
        {
          "output_type": "stream",
          "name": "stdout",
          "text": [
            "2     61.0\n",
            "3      NaN\n",
            "4     85.0\n",
            "5     57.0\n",
            "6     60.0\n",
            "      ... \n",
            "94    43.0\n",
            "95    53.0\n",
            "96     NaN\n",
            "97    58.0\n",
            "99    53.0\n",
            "Name: f1, Length: 83, dtype: float64\n",
            "     id   age city    f1  f2   f3    f4         f5\n",
            "2  id03  27.0   서울  61.0   1  NaN  ISTJ  17.252986\n",
            "3  id04  75.0   서울  50.0   2  NaN  INFP  52.667078\n",
            "4  id05  24.0   서울  85.0   2  NaN  ISFJ  29.269869\n",
            "5  id06  22.0   서울  57.0   0  vip  INTP  20.129444\n",
            "6  id07  36.3   서울  60.0   1  NaN  ISFJ   9.796378\n"
          ]
        }
      ]
    }
  ]
}