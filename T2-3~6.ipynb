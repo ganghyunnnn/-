{
 "cells": [
  {
   "cell_type": "markdown",
   "source": [
    "## **T2-3. Adult Census Income Tutorial**\n",
    "\n",
    "성인 인구조사 소득 예측\n",
    "- age: 나이\n",
    "- workclass: 고용 형태\n",
    "- fnlwgt: 사람의 대표성을 나타내는 가중치(final weight)\n",
    "- education: 교육 수준\n",
    "- education.num: 교육 수준 수치\n",
    "- marital.status: 결혼 상태\n",
    "- occupation: 업종\n",
    "- relationship: 가족 관계\n",
    "- race: 인종\n",
    "- sex: 성별\n",
    "- capital.gain: 양도 소득\n",
    "- capital.loss: 양도 손실\n",
    "- hours.per.week: 주당 근무 시간\n",
    "- native.country: 국적\n",
    "- income: 수익 (예측해야 하는 값)"
   ],
   "metadata": {
    "collapsed": false
   }
  },
  {
   "cell_type": "code",
   "execution_count": 287,
   "outputs": [
    {
     "data": {
      "text/plain": "((26048, 15), (6513, 15), (26048, 2), (6513, 2))"
     },
     "execution_count": 287,
     "metadata": {},
     "output_type": "execute_result"
    }
   ],
   "source": [
    "# 시험환경 세팅 (코드 변경 X)\n",
    "import pandas as pd\n",
    "import numpy as np\n",
    "from sklearn.model_selection import train_test_split\n",
    "\n",
    "def exam_data_load(df, target, id_name=\"\", null_name=\"\"):\n",
    "    if id_name == \"\":\n",
    "        df = df.reset_index().rename(columns={\"index\": \"id\"})\n",
    "        id_name = 'id'\n",
    "    else:\n",
    "        id_name = id_name\n",
    "\n",
    "    if null_name != \"\":\n",
    "        df[df == null_name] = np.nan\n",
    "\n",
    "    X_train, X_test = train_test_split(df, test_size=0.2, random_state=2021)\n",
    "\n",
    "    y_train = X_train[[id_name, target]]\n",
    "    X_train = X_train.drop(columns=[target])\n",
    "\n",
    "\n",
    "    y_test = X_test[[id_name, target]]\n",
    "    X_test = X_test.drop(columns=[target])\n",
    "    return X_train, X_test, y_train, y_test\n",
    "\n",
    "df = pd.read_csv('data/adult.csv')\n",
    "X_train, X_test, y_train, y_test = exam_data_load(df, target='income', null_name='?')\n",
    "\n",
    "X_train.shape, X_test.shape, y_train.shape, y_test.shape"
   ],
   "metadata": {
    "collapsed": false,
    "pycharm": {
     "name": "#%%\n"
    }
   }
  },
  {
   "cell_type": "code",
   "execution_count": 288,
   "outputs": [
    {
     "name": "stdout",
     "output_type": "stream",
     "text": [
      "          id  age         workclass  fnlwgt     education  education.num  \\\n",
      "21851  21851   36           Private  241998     Bachelors             13   \n",
      "7632    7632   53           Private  103950       Masters             14   \n",
      "27878  27878   19           Private  203061  Some-college             10   \n",
      "14121  14121   20           Private  102607       HS-grad              9   \n",
      "32345  32345   54         State-gov  138852       HS-grad              9   \n",
      "...      ...  ...               ...     ...           ...            ...   \n",
      "2669    2669   45           Private  187370       Masters             14   \n",
      "17536  17536   36           Private  174308          11th              7   \n",
      "6201    6201   47           Private  275361    Assoc-acdm             12   \n",
      "27989  27989   50  Self-emp-not-inc  196504     Doctorate             16   \n",
      "25716  25716   19           Private  410543       HS-grad              9   \n",
      "\n",
      "           marital.status         occupation   relationship   race     sex  \\\n",
      "21851  Married-civ-spouse       Craft-repair        Husband  White    Male   \n",
      "7632             Divorced     Prof-specialty  Not-in-family  White  Female   \n",
      "27878       Never-married       Tech-support  Not-in-family  White  Female   \n",
      "14121       Never-married  Handlers-cleaners      Own-child  White    Male   \n",
      "32345  Married-civ-spouse     Prof-specialty        Husband  White    Male   \n",
      "...                   ...                ...            ...    ...     ...   \n",
      "2669             Divorced    Exec-managerial      Unmarried  White    Male   \n",
      "17536            Divorced   Transport-moving  Not-in-family  White    Male   \n",
      "6201              Widowed      Other-service      Own-child  White  Female   \n",
      "27989  Married-civ-spouse     Prof-specialty        Husband  White    Male   \n",
      "25716       Never-married       Adm-clerical  Not-in-family  White  Female   \n",
      "\n",
      "       capital.gain  capital.loss  hours.per.week native.country  \n",
      "21851             0             0              50  United-States  \n",
      "7632              0             0              40  United-States  \n",
      "27878             0             0              25  United-States  \n",
      "14121             0             0              30  United-States  \n",
      "32345             0             0              40  United-States  \n",
      "...             ...           ...             ...            ...  \n",
      "2669           7430             0              70  United-States  \n",
      "17536             0             0              40  United-States  \n",
      "6201              0             0              35  United-States  \n",
      "27989             0             0              23  United-States  \n",
      "25716             0             0              40  United-States  \n",
      "\n",
      "[26048 rows x 15 columns]\n",
      "----------------------------------------------------------\n",
      "          id income\n",
      "21851  21851   >50K\n",
      "7632    7632  <=50K\n",
      "27878  27878  <=50K\n",
      "14121  14121  <=50K\n",
      "32345  32345  <=50K\n",
      "...      ...    ...\n",
      "2669    2669   >50K\n",
      "17536  17536  <=50K\n",
      "6201    6201  <=50K\n",
      "27989  27989  <=50K\n",
      "25716  25716  <=50K\n",
      "\n",
      "[26048 rows x 2 columns]\n",
      "----------------------------------------------------------\n",
      "id                   0\n",
      "age                  0\n",
      "workclass         1456\n",
      "fnlwgt               0\n",
      "education            0\n",
      "education.num        0\n",
      "marital.status       0\n",
      "occupation        1463\n",
      "relationship         0\n",
      "race                 0\n",
      "sex                  0\n",
      "capital.gain         0\n",
      "capital.loss         0\n",
      "hours.per.week       0\n",
      "native.country     461\n",
      "dtype: int64\n",
      "----------------------------------------------------------\n",
      "id                  0\n",
      "age                 0\n",
      "workclass         380\n",
      "fnlwgt              0\n",
      "education           0\n",
      "education.num       0\n",
      "marital.status      0\n",
      "occupation        380\n",
      "relationship        0\n",
      "race                0\n",
      "sex                 0\n",
      "capital.gain        0\n",
      "capital.loss        0\n",
      "hours.per.week      0\n",
      "native.country    122\n",
      "dtype: int64\n"
     ]
    }
   ],
   "source": [
    "# EDA\n",
    "\n",
    "print(X_train)\n",
    "print('----------------------------------------------------------')\n",
    "# print(X_test)\n",
    "# print('----------------------------------------------------------')\n",
    "print(y_train)\n",
    "\n",
    "print('----------------------------------------------------------')\n",
    "print(X_train.isna().sum())\n",
    "print('----------------------------------------------------------')\n",
    "print(X_test.isna().sum())"
   ],
   "metadata": {
    "collapsed": false,
    "pycharm": {
     "name": "#%%\n"
    }
   }
  },
  {
   "cell_type": "code",
   "execution_count": 289,
   "outputs": [],
   "source": [
    "# feature 구분\n",
    "numeric_features = ['age', 'fnlwgt', 'education.num', 'capital.gain','capital.loss', 'hours.per.week']\n",
    "cat_features = ['workclass', 'education', 'marital.status', 'occupation', 'relationship', 'race', 'sex', 'native.country']"
   ],
   "metadata": {
    "collapsed": false,
    "pycharm": {
     "name": "#%%\n"
    }
   }
  },
  {
   "cell_type": "code",
   "execution_count": 290,
   "outputs": [
    {
     "name": "stdout",
     "output_type": "stream",
     "text": [
      "id                0\n",
      "age               0\n",
      "workclass         0\n",
      "fnlwgt            0\n",
      "education         0\n",
      "education.num     0\n",
      "marital.status    0\n",
      "occupation        0\n",
      "relationship      0\n",
      "race              0\n",
      "sex               0\n",
      "capital.gain      0\n",
      "capital.loss      0\n",
      "hours.per.week    0\n",
      "native.country    0\n",
      "dtype: int64\n",
      "----------------------------------------------------------\n",
      "id                0\n",
      "age               0\n",
      "workclass         0\n",
      "fnlwgt            0\n",
      "education         0\n",
      "education.num     0\n",
      "marital.status    0\n",
      "occupation        0\n",
      "relationship      0\n",
      "race              0\n",
      "sex               0\n",
      "capital.gain      0\n",
      "capital.loss      0\n",
      "hours.per.week    0\n",
      "native.country    0\n",
      "dtype: int64\n"
     ]
    }
   ],
   "source": [
    "# 결측치는 최빈값과 차이가 크면 최빈값으로, 값이 비슷하면 별도의 값으로 대체\n",
    "\n",
    "X_train['workclass'] = X_train['workclass'].fillna(X_train['workclass'].mode()[0])\n",
    "X_train['occupation'] = X_train['occupation'].fillna('null')\n",
    "X_train['native.country'] = X_train['native.country'].fillna(X_train['native.country'].mode()[0])\n",
    "\n",
    "X_test['workclass'] = X_test['workclass'].fillna(X_test['workclass'].mode()[0])\n",
    "X_test['occupation'] = X_test['occupation'].fillna('null')\n",
    "X_test['native.country'] = X_test['native.country'].fillna(X_test['native.country'].mode()[0])\n",
    "\n",
    "print(X_train.isnull().sum())\n",
    "print('----------------------------------------------------------')\n",
    "print(X_test.isnull().sum())"
   ],
   "metadata": {
    "collapsed": false,
    "pycharm": {
     "name": "#%%\n"
    }
   }
  },
  {
   "cell_type": "code",
   "execution_count": 291,
   "outputs": [
    {
     "name": "stdout",
     "output_type": "stream",
     "text": [
      "          id  age  workclass  fnlwgt  education  education.num  \\\n",
      "21851  21851   36          3  241998          9             13   \n",
      "7632    7632   53          3  103950         12             14   \n",
      "27878  27878   19          3  203061         15             10   \n",
      "14121  14121   20          3  102607         11              9   \n",
      "32345  32345   54          6  138852         11              9   \n",
      "...      ...  ...        ...     ...        ...            ...   \n",
      "2669    2669   45          3  187370         12             14   \n",
      "17536  17536   36          3  174308          1              7   \n",
      "6201    6201   47          3  275361          7             12   \n",
      "27989  27989   50          5  196504         10             16   \n",
      "25716  25716   19          3  410543         11              9   \n",
      "\n",
      "       marital.status  occupation  relationship  race  sex  capital.gain  \\\n",
      "21851               2           2             0     4    1             0   \n",
      "7632                0           9             1     4    0             0   \n",
      "27878               4          12             1     4    0             0   \n",
      "14121               4           5             3     4    1             0   \n",
      "32345               2           9             0     4    1             0   \n",
      "...               ...         ...           ...   ...  ...           ...   \n",
      "2669                0           3             4     4    1          7430   \n",
      "17536               0          13             1     4    1             0   \n",
      "6201                6           7             3     4    0             0   \n",
      "27989               2           9             0     4    1             0   \n",
      "25716               4           0             1     4    0             0   \n",
      "\n",
      "       capital.loss  hours.per.week  native.country  \n",
      "21851             0              50              38  \n",
      "7632              0              40              38  \n",
      "27878             0              25              38  \n",
      "14121             0              30              38  \n",
      "32345             0              40              38  \n",
      "...             ...             ...             ...  \n",
      "2669              0              70              38  \n",
      "17536             0              40              38  \n",
      "6201              0              35              38  \n",
      "27989             0              23              38  \n",
      "25716             0              40              38  \n",
      "\n",
      "[26048 rows x 15 columns]\n"
     ]
    }
   ],
   "source": [
    "# 라벨인코딩\n",
    "from sklearn.preprocessing import LabelEncoder\n",
    "\n",
    "all_df = pd.concat([X_train.assign(ind='train'), X_test.assign(ind='test')])\n",
    "le = LabelEncoder()\n",
    "all_df[cat_features] = all_df[cat_features].apply(le.fit_transform)\n",
    "\n",
    "X_train = all_df[all_df['ind'] == 'train']\n",
    "X_train = X_train.drop('ind', axis=1)\n",
    "\n",
    "X_test = all_df[all_df['ind'] == 'test']\n",
    "X_test = X_test.drop('ind', axis=1)\n",
    "\n",
    "print(X_train)"
   ],
   "metadata": {
    "collapsed": false,
    "pycharm": {
     "name": "#%%\n"
    }
   }
  },
  {
   "cell_type": "code",
   "execution_count": 292,
   "outputs": [
    {
     "name": "stdout",
     "output_type": "stream",
     "text": [
      "          id       age  workclass    fnlwgt  education  education.num  \\\n",
      "21851  21851  0.260274          3  0.156011          9       0.800000   \n",
      "7632    7632  0.493151          3  0.062255         12       0.866667   \n",
      "27878  27878  0.027397          3  0.129566         15       0.600000   \n",
      "14121  14121  0.041096          3  0.061343         11       0.533333   \n",
      "32345  32345  0.506849          6  0.085958         11       0.533333   \n",
      "...      ...       ...        ...       ...        ...            ...   \n",
      "2669    2669  0.383562          3  0.118910         12       0.866667   \n",
      "17536  17536  0.260274          3  0.110039          1       0.400000   \n",
      "6201    6201  0.410959          3  0.178669          7       0.733333   \n",
      "27989  27989  0.452055          5  0.125113         10       1.000000   \n",
      "25716  25716  0.027397          3  0.270479         11       0.533333   \n",
      "\n",
      "       marital.status  occupation  relationship  race  sex  capital.gain  \\\n",
      "21851               2           2             0     4    1      0.000000   \n",
      "7632                0           9             1     4    0      0.000000   \n",
      "27878               4          12             1     4    0      0.000000   \n",
      "14121               4           5             3     4    1      0.000000   \n",
      "32345               2           9             0     4    1      0.000000   \n",
      "...               ...         ...           ...   ...  ...           ...   \n",
      "2669                0           3             4     4    1      0.074301   \n",
      "17536               0          13             1     4    1      0.000000   \n",
      "6201                6           7             3     4    0      0.000000   \n",
      "27989               2           9             0     4    1      0.000000   \n",
      "25716               4           0             1     4    0      0.000000   \n",
      "\n",
      "       capital.loss  hours.per.week  native.country  \n",
      "21851           0.0        0.500000              38  \n",
      "7632            0.0        0.397959              38  \n",
      "27878           0.0        0.244898              38  \n",
      "14121           0.0        0.295918              38  \n",
      "32345           0.0        0.397959              38  \n",
      "...             ...             ...             ...  \n",
      "2669            0.0        0.704082              38  \n",
      "17536           0.0        0.397959              38  \n",
      "6201            0.0        0.346939              38  \n",
      "27989           0.0        0.224490              38  \n",
      "25716           0.0        0.397959              38  \n",
      "\n",
      "[26048 rows x 15 columns]\n"
     ]
    }
   ],
   "source": [
    "# 스케일링\n",
    "from sklearn.preprocessing import MinMaxScaler\n",
    "\n",
    "scaler = MinMaxScaler()\n",
    "X_train[numeric_features] = scaler.fit_transform(X_train[numeric_features])\n",
    "X_test[numeric_features] = scaler.fit_transform(X_test[numeric_features])\n",
    "\n",
    "print(X_train)"
   ],
   "metadata": {
    "collapsed": false,
    "pycharm": {
     "name": "#%%\n"
    }
   }
  },
  {
   "cell_type": "code",
   "execution_count": 293,
   "outputs": [
    {
     "name": "stdout",
     "output_type": "stream",
     "text": [
      "21851    1\n",
      "7632     0\n",
      "27878    0\n",
      "14121    0\n",
      "32345    0\n",
      "Name: income, dtype: int32\n"
     ]
    }
   ],
   "source": [
    "# target 값 변경\n",
    "y = (y_train['income'] != '<=50K').astype(int)\n",
    "print(y.head())"
   ],
   "metadata": {
    "collapsed": false,
    "pycharm": {
     "name": "#%%\n"
    }
   }
  },
  {
   "cell_type": "code",
   "execution_count": 294,
   "outputs": [
    {
     "name": "stdout",
     "output_type": "stream",
     "text": [
      "(22140, 15) (3908, 15) (22140,) (3908,)\n"
     ]
    }
   ],
   "source": [
    "# 검증용 데이터 분리\n",
    "from sklearn.model_selection import train_test_split\n",
    "\n",
    "X_tr, X_val, y_tr, y_val = train_test_split(X_train, y, test_size=0.15, random_state=2021)\n",
    "print(X_tr.shape, X_val.shape, y_tr.shape, y_val.shape)"
   ],
   "metadata": {
    "collapsed": false,
    "pycharm": {
     "name": "#%%\n"
    }
   }
  },
  {
   "cell_type": "code",
   "execution_count": 295,
   "outputs": [
    {
     "name": "stdout",
     "output_type": "stream",
     "text": [
      "            age  workclass    fnlwgt  education  education.num  \\\n",
      "1437   0.191781          3  0.216501          9       0.800000   \n",
      "7151   0.287671          5  0.127591         11       0.533333   \n",
      "30296  0.424658          3  0.217452          9       0.800000   \n",
      "15372  0.452055          3  0.142442         11       0.533333   \n",
      "13800  0.178082          3  0.187243         15       0.600000   \n",
      "\n",
      "       marital.status  occupation  relationship  race  sex  capital.gain  \\\n",
      "1437                4           3             1     4    0           0.0   \n",
      "7151                2           2             0     4    1           0.0   \n",
      "30296               2           9             0     4    1           0.0   \n",
      "15372               2           2             0     4    1           0.0   \n",
      "13800               4           5             1     4    1           0.0   \n",
      "\n",
      "       capital.loss  hours.per.week  native.country  \n",
      "1437       0.323232        0.397959              38  \n",
      "7151       0.000000        0.602041              38  \n",
      "30296      0.000000        0.346939              38  \n",
      "15372      0.000000        0.397959              38  \n",
      "13800      0.000000        0.397959              38  \n"
     ]
    }
   ],
   "source": [
    "# id 삭제\n",
    "X_tr = X_tr.drop('id', axis=1)\n",
    "X_val = X_val.drop('id', axis=1)\n",
    "print(X_tr.head())"
   ],
   "metadata": {
    "collapsed": false,
    "pycharm": {
     "name": "#%%\n"
    }
   }
  },
  {
   "cell_type": "code",
   "execution_count": 296,
   "outputs": [
    {
     "name": "stdout",
     "output_type": "stream",
     "text": [
      "0.851842374616172\n"
     ]
    }
   ],
   "source": [
    "# 랜덤포레스트\n",
    "from sklearn.ensemble import RandomForestClassifier\n",
    "from sklearn.metrics import accuracy_score\n",
    "\n",
    "model = RandomForestClassifier(random_state=10)\n",
    "model.fit(X_tr, y_tr)\n",
    "pred = model.predict(X_val)\n",
    "print(accuracy_score(y_val, pred))"
   ],
   "metadata": {
    "collapsed": false,
    "pycharm": {
     "name": "#%%\n"
    }
   }
  },
  {
   "cell_type": "code",
   "execution_count": 297,
   "outputs": [],
   "source": [
    "# test 데이터 예측\n",
    "X_test_id = X_test.pop('id')\n",
    "pred = model.predict(X_test)"
   ],
   "metadata": {
    "collapsed": false,
    "pycharm": {
     "name": "#%%\n"
    }
   }
  },
  {
   "cell_type": "code",
   "execution_count": 298,
   "outputs": [
    {
     "name": "stdout",
     "output_type": "stream",
     "text": [
      "          id  income\n",
      "20901  20901       1\n",
      "14170  14170       0\n",
      "1776    1776       1\n",
      "30428  30428       0\n",
      "8602    8602       0\n"
     ]
    }
   ],
   "source": [
    "# csv 생성\n",
    "output = pd.DataFrame({'id' : X_test_id, 'income' : pred})\n",
    "output.to_csv('csv/T2-3.csv', index=False)\n",
    "print(output.head())"
   ],
   "metadata": {
    "collapsed": false,
    "pycharm": {
     "name": "#%%\n"
    }
   }
  },
  {
   "cell_type": "markdown",
   "source": [
    "## **T2-5 Insurance_Starter (Tutorial)**\n",
    "\n",
    "보험료(charges) 예측"
   ],
   "metadata": {
    "collapsed": false
   }
  },
  {
   "cell_type": "code",
   "execution_count": 299,
   "outputs": [
    {
     "data": {
      "text/plain": "((1070, 7), (268, 7), (1070, 2), (268, 2))"
     },
     "execution_count": 299,
     "metadata": {},
     "output_type": "execute_result"
    }
   ],
   "source": [
    "# 시험환경 세팅 (코드 변경 X)\n",
    "import pandas as pd\n",
    "import numpy as np\n",
    "from sklearn.model_selection import train_test_split\n",
    "\n",
    "def exam_data_load(df, target, id_name=\"\", null_name=\"\"):\n",
    "    if id_name == \"\":\n",
    "        df = df.reset_index().rename(columns={\"index\": \"id\"})\n",
    "        id_name = 'id'\n",
    "    else:\n",
    "        id_name = id_name\n",
    "\n",
    "    if null_name != \"\":\n",
    "        df[df == null_name] = np.nan\n",
    "\n",
    "    X_train, X_test = train_test_split(df, test_size=0.2, random_state=2021)\n",
    "\n",
    "    y_train = X_train[[id_name, target]]\n",
    "    X_train = X_train.drop(columns=[target])\n",
    "\n",
    "\n",
    "    y_test = X_test[[id_name, target]]\n",
    "    X_test = X_test.drop(columns=[target])\n",
    "    return X_train, X_test, y_train, y_test\n",
    "\n",
    "df = pd.read_csv(\"data/insurance.csv\")\n",
    "X_train, X_test, y_train, y_test = exam_data_load(df, target='charges', null_name='NA')\n",
    "\n",
    "X_train.shape, X_test.shape, y_train.shape, y_test.shape"
   ],
   "metadata": {
    "collapsed": false,
    "pycharm": {
     "name": "#%%\n"
    }
   }
  },
  {
   "cell_type": "code",
   "execution_count": 300,
   "outputs": [
    {
     "name": "stdout",
     "output_type": "stream",
     "text": [
      "        id  age     sex     bmi  children smoker     region\n",
      "209    209   40    male  41.230         1     no  northeast\n",
      "540    540   34  female  38.000         3     no  southwest\n",
      "747    747   19    male  21.755         0     no  northwest\n",
      "39      39   60    male  39.900         0    yes  southwest\n",
      "640    640   33    male  42.400         5     no  southwest\n",
      "...    ...  ...     ...     ...       ...    ...        ...\n",
      "44      44   38    male  37.050         1     no  northeast\n",
      "621    621   37    male  34.100         4    yes  southwest\n",
      "1152  1152   43  female  32.560         3    yes  southeast\n",
      "57      57   18    male  31.680         2    yes  southeast\n",
      "1140  1140   50    male  37.070         1     no  southeast\n",
      "\n",
      "[1070 rows x 7 columns]\n",
      "--------------------------------------------\n",
      "        id      charges\n",
      "209    209   6610.10970\n",
      "540    540   6196.44800\n",
      "747    747   1627.28245\n",
      "39      39  48173.36100\n",
      "640    640   6666.24300\n",
      "...    ...          ...\n",
      "44      44   6079.67150\n",
      "621    621  40182.24600\n",
      "1152  1152  40941.28540\n",
      "57      57  34303.16720\n",
      "1140  1140   9048.02730\n",
      "\n",
      "[1070 rows x 2 columns]\n",
      "--------------------------------------------\n",
      "id          0\n",
      "age         0\n",
      "sex         0\n",
      "bmi         0\n",
      "children    0\n",
      "smoker      0\n",
      "region      0\n",
      "dtype: int64\n",
      "--------------------------------------------\n",
      "        id  age     sex     bmi  children smoker     region\n",
      "1088  1088   52    male  47.740         1     no  southeast\n",
      "1157  1157   23  female  23.180         2     no  northwest\n",
      "1267  1267   24    male  31.065         0    yes  northeast\n",
      "506    506   22    male  31.350         1     no  northwest\n",
      "659    659   57  female  28.785         4     no  northeast\n",
      "...    ...  ...     ...     ...       ...    ...        ...\n",
      "1275  1275   57    male  23.700         0     no  southwest\n",
      "88      88   46  female  27.740         0     no  northwest\n",
      "646    646   39    male  26.220         1     no  northwest\n",
      "654    654   59  female  35.200         0     no  southeast\n",
      "116    116   58    male  49.060         0     no  southeast\n",
      "\n",
      "[268 rows x 7 columns]\n"
     ]
    }
   ],
   "source": [
    "# EDA\n",
    "\n",
    "print(X_train)\n",
    "print('--------------------------------------------')\n",
    "print(y_train)\n",
    "print('--------------------------------------------')\n",
    "print(X_train.isna().sum())\n",
    "print('--------------------------------------------')\n",
    "print(X_test)"
   ],
   "metadata": {
    "collapsed": false,
    "pycharm": {
     "name": "#%%\n"
    }
   }
  },
  {
   "cell_type": "code",
   "execution_count": 301,
   "outputs": [
    {
     "name": "stdout",
     "output_type": "stream",
     "text": [
      "     age     sex     bmi  children smoker     region\n",
      "209   40    male  41.230         1     no  northeast\n",
      "540   34  female  38.000         3     no  southwest\n",
      "747   19    male  21.755         0     no  northwest\n",
      "39    60    male  39.900         0    yes  southwest\n",
      "640   33    male  42.400         5     no  southwest\n",
      "      age     sex     bmi  children smoker     region\n",
      "1088   52    male  47.740         1     no  southeast\n",
      "1157   23  female  23.180         2     no  northwest\n",
      "1267   24    male  31.065         0    yes  northeast\n",
      "506    22    male  31.350         1     no  northwest\n",
      "659    57  female  28.785         4     no  northeast\n"
     ]
    }
   ],
   "source": [
    "# 필요없는 칼럼 drop\n",
    "X_train = X_train.drop(columns=['id'])\n",
    "X_test_id = X_test.pop('id')\n",
    "\n",
    "print(X_train.head())\n",
    "print(X_test.head())"
   ],
   "metadata": {
    "collapsed": false,
    "pycharm": {
     "name": "#%%\n"
    }
   }
  },
  {
   "cell_type": "code",
   "execution_count": 302,
   "outputs": [
    {
     "name": "stdout",
     "output_type": "stream",
     "text": [
      "     age  sex     bmi  children  smoker  region\n",
      "209   40    1  41.230         1       0       0\n",
      "540   34    0  38.000         3       0       3\n",
      "747   19    1  21.755         0       0       1\n",
      "39    60    1  39.900         0       1       3\n",
      "640   33    1  42.400         5       0       3\n",
      "      age  sex     bmi  children  smoker  region\n",
      "1088   52    1  47.740         1       0       2\n",
      "1157   23    0  23.180         2       0       1\n",
      "1267   24    1  31.065         0       1       0\n",
      "506    22    1  31.350         1       0       1\n",
      "659    57    0  28.785         4       0       0\n"
     ]
    }
   ],
   "source": [
    "# 라벨인코딩\n",
    "from sklearn.preprocessing import LabelEncoder\n",
    "\n",
    "le = LabelEncoder()\n",
    "cols = ['sex', 'smoker', 'region']\n",
    "\n",
    "for col in cols :\n",
    "    X_train[col] = le.fit_transform(X_train[col])\n",
    "    X_test[col] = le.fit_transform(X_test[col])\n",
    "\n",
    "print(X_train.head())\n",
    "print(X_test.head())"
   ],
   "metadata": {
    "collapsed": false,
    "pycharm": {
     "name": "#%%\n"
    }
   }
  },
  {
   "cell_type": "code",
   "execution_count": 303,
   "outputs": [
    {
     "name": "stdout",
     "output_type": "stream",
     "text": [
      "          age  sex       bmi  children  smoker  region\n",
      "209  0.478261    1  0.679849         1       0       0\n",
      "540  0.347826    0  0.592951         3       0       3\n",
      "747  0.021739    1  0.155905         0       0       1\n",
      "39   0.913043    1  0.644068         0       1       3\n",
      "640  0.326087    1  0.711326         5       0       3\n",
      "           age  sex       bmi  children  smoker  region\n",
      "1088  0.739130    1  0.958451         1       0       2\n",
      "1157  0.108696    0  0.185395         2       0       1\n",
      "1267  0.130435    1  0.433585         0       1       0\n",
      "506   0.086957    1  0.442556         1       0       1\n",
      "659   0.847826    0  0.361819         4       0       0\n"
     ]
    }
   ],
   "source": [
    "# 정규화\n",
    "from sklearn.preprocessing import MinMaxScaler\n",
    "\n",
    "scaler = MinMaxScaler()\n",
    "cols = ['age', 'bmi']\n",
    "X_train[cols] = scaler.fit_transform(X_train[cols])\n",
    "X_test[cols] = scaler.fit_transform(X_test[cols])\n",
    "\n",
    "print(X_train.head())\n",
    "print(X_test.head())"
   ],
   "metadata": {
    "collapsed": false,
    "pycharm": {
     "name": "#%%\n"
    }
   }
  },
  {
   "cell_type": "code",
   "execution_count": 304,
   "outputs": [
    {
     "name": "stdout",
     "output_type": "stream",
     "text": [
      "0.9779650798219194\n"
     ]
    }
   ],
   "source": [
    "# 랜덤포레스트\n",
    "from sklearn.ensemble import RandomForestRegressor\n",
    "\n",
    "model = RandomForestRegressor(random_state=10)\n",
    "model.fit(X_train, y_train['charges'])\n",
    "print(model.score(X_train, y_train['charges']))"
   ],
   "metadata": {
    "collapsed": false,
    "pycharm": {
     "name": "#%%\n"
    }
   }
  },
  {
   "cell_type": "code",
   "execution_count": 305,
   "outputs": [
    {
     "data": {
      "text/plain": "array([13099.5769918 ,  6336.0618588 , 34211.290217  ,  2660.9254707 ,\n       15678.3878102 ,  4185.9405983 ,  9638.264228  , 15452.2503695 ,\n        2367.4574785 , 14801.2738086 , 13602.7756521 , 13291.5651333 ,\n       11919.2062834 , 10409.5225731 ,  2645.4505312 , 15686.6100677 ,\n       13914.704691  ,  3249.1697145 ,  2570.17918619, 12879.6906823 ,\n       10796.9083023 ,  6106.7541333 ,  2996.4313885 , 21764.7527468 ,\n        9165.5432279 , 11498.2771033 ,  4501.2424184 ,  6726.5651268 ,\n       15995.2294069 ,  4649.632936  ,  5586.7009147 ,  5885.498577  ,\n       13508.3360814 , 17361.5087328 ,  7360.3800088 ,  5196.0390818 ,\n        4246.1228614 , 43634.4066698 ,  8739.3103044 ,  8361.5702714 ,\n       11117.4952509 ,  1612.548028  ,  2388.803905  , 11685.5384656 ,\n       11432.0950576 ,  2807.1087616 , 15412.5394297 , 14909.7381508 ,\n       44989.6272507 ,  3069.3568085 ,  5894.2494548 ,  4509.9925155 ,\n        9639.0823725 , 40215.5647679 ,  1589.888742  , 15006.7937303 ,\n        4157.9013316 ,  7316.9039404 , 23639.6671437 ,  7250.6801489 ,\n       10674.6225208 , 13706.2281125 , 11727.9434595 , 13238.4926218 ,\n        4245.2839652 , 10581.3289771 ,  4200.9959835 ,  1650.593825  ,\n       44442.7982122 ,  5120.4210091 , 10077.6697428 , 13429.7479078 ,\n       18162.8458431 ,  7386.9065385 ,  7094.0221068 , 24101.5219526 ,\n        7133.2666466 ,  8042.4289932 , 19479.629068  , 11298.3215835 ,\n        3294.1887605 ,  4592.2887917 ,  2973.3572546 , 21081.3880775 ,\n       10957.114691  ,  6083.0300561 ,  6932.776829  , 52550.8353047 ,\n        3066.077     ,  5288.7183555 ,  9864.7336177 ,  8003.65885   ,\n       12575.5013419 ,  7862.5092079 ,  7442.7199134 , 37964.0846708 ,\n        5754.3972058 ,  7858.1224582 ,  9995.2560043 ,  2566.79262276,\n       48341.350076  ,  6399.332375  ,  5591.6148707 , 10749.5927474 ,\n       13937.6546753 , 12083.5514629 ,  7767.2118795 ,  3086.3596257 ,\n       46414.0541651 ,  7044.0407492 , 11694.5838596 ,  9583.3700397 ,\n       16717.3643324 , 14728.544112  , 10413.1748801 ,  7919.6101793 ,\n        7061.8113756 , 48572.5619143 , 15679.5022101 , 11816.519962  ,\n        9893.0961496 , 11893.4976943 , 11622.6973875 , 45123.9259923 ,\n       20532.5667385 ,  2706.976037  ,  3834.6262396 , 45507.9137057 ,\n       23528.67942   ,  8161.9298198 , 44997.8666712 ,  5008.578373  ,\n        2374.9877237 , 11419.3918093 , 13713.7925022 ,  8790.7780541 ,\n       13576.9284553 , 13853.142584  , 40977.8760884 ,  4702.6157738 ,\n       13706.9094065 , 11493.8773792 , 17431.4269863 , 11464.4408234 ,\n        5679.8975263 , 16679.8846812 ,  2612.1804813 ,  7761.5806293 ,\n        6692.5279315 , 12583.2584646 , 11359.0131787 ,  2034.416348  ,\n        5174.0208491 ,  5785.1229258 ,  8528.5954838 , 15659.1005301 ,\n       15246.9854743 ,  4789.3956662 ,  9841.12583   ,  9040.6093387 ,\n        6602.9264518 , 48571.2913854 , 23402.4279333 , 13930.5873211 ,\n       14353.7041449 , 37111.2889669 , 23112.7166621 ,  3203.45224825,\n        8589.6641378 ,  3746.3084955 ,  2488.7176225 ,  8750.2460539 ,\n       11859.1363522 , 18437.5953698 ,  3840.7833683 , 12656.3656777 ,\n        7689.5215715 , 14562.8539147 ,  5824.9233199 ,  7884.5298456 ,\n       13619.3991235 ,  1762.87867469,  5372.66303553,  3999.9041996 ,\n        5825.8275309 ,  9446.2393137 , 16707.9138999 ,  8773.7493234 ,\n        7066.1501994 , 16650.3462521 ,  5820.0757565 , 13102.5612702 ,\n       16609.3155945 ,  7523.0307336 ,  4702.6689171 , 34495.5211808 ,\n        5652.1715672 , 16650.3555181 ,  2142.8638085 , 19152.5570467 ,\n        9761.231721  , 35718.5696705 ,  6852.6697853 ,  1762.87867469,\n       16961.5257658 , 10794.7370874 ,  3073.1851743 ,  7296.1804245 ,\n       28247.5379865 , 16804.7932564 ,  2321.64340626, 47947.3838991 ,\n        4518.700264  ,  1650.9016665 , 13719.9155663 , 49956.0376439 ,\n        9280.9917933 , 13691.2347765 , 19734.90708   ,  9468.8928951 ,\n        7066.3029027 , 10906.7606756 , 11522.1765414 ,  3890.81803788,\n       10560.8830336 ,  2937.0966879 ,  8316.1107713 ,  2135.8945615 ,\n        9008.0895659 ,  2830.6493868 ,  3440.0836047 , 47401.0732196 ,\n        8186.3190011 , 48081.2278875 ,  6340.1460893 , 41769.5121997 ,\n       24874.0367973 ,  3382.2990695 , 12683.8901626 , 47833.1383557 ,\n       14686.3826602 ,  1785.76435019, 13259.9019076 , 12832.0563558 ,\n        4419.522206  , 11094.1373076 , 41702.7937378 , 14005.6984405 ,\n       12174.2545237 , 11826.1003343 , 13490.635703  ,  3110.7132347 ,\n       44022.9093028 , 18102.8787538 ,  8048.6831684 , 34254.3735386 ,\n        3530.4895189 ,  1685.223566  , 17199.6623869 ,  4707.8078857 ,\n        7086.2667668 ,  7804.9856665 ,  8867.8147969 , 11412.4211467 ,\n       11251.5542128 ,  6587.9230828 , 16667.5343779 , 11403.9920839 ])"
     },
     "execution_count": 305,
     "metadata": {},
     "output_type": "execute_result"
    }
   ],
   "source": [
    "# test 데이터 예측\n",
    "pred = model.predict(X_test)\n",
    "pred"
   ],
   "metadata": {
    "collapsed": false,
    "pycharm": {
     "name": "#%%\n"
    }
   }
  },
  {
   "cell_type": "code",
   "execution_count": 306,
   "outputs": [
    {
     "name": "stdout",
     "output_type": "stream",
     "text": [
      "        id        income\n",
      "1088  1088  13099.576992\n",
      "1157  1157   6336.061859\n",
      "1267  1267  34211.290217\n",
      "506    506   2660.925471\n",
      "659    659  15678.387810\n"
     ]
    }
   ],
   "source": [
    "# csv 출력\n",
    "output = pd.DataFrame({'id' : X_test_id, 'income' : pred})\n",
    "output.to_csv('csv/T2-5.csv', index=False)\n",
    "print(output.head())"
   ],
   "metadata": {
    "collapsed": false,
    "pycharm": {
     "name": "#%%\n"
    }
   }
  }
 ],
 "metadata": {
  "kernelspec": {
   "display_name": "Python 3",
   "language": "python",
   "name": "python3"
  },
  "language_info": {
   "codemirror_mode": {
    "name": "ipython",
    "version": 2
   },
   "file_extension": ".py",
   "mimetype": "text/x-python",
   "name": "python",
   "nbconvert_exporter": "python",
   "pygments_lexer": "ipython2",
   "version": "2.7.6"
  }
 },
 "nbformat": 4,
 "nbformat_minor": 0
}