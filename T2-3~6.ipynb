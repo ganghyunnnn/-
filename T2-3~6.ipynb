{
 "cells": [
  {
   "cell_type": "markdown",
   "source": [
    "## **T2-3. Adult Census Income Tutorial**\n",
    "\n",
    "성인 인구조사 소득 예측\n",
    "- age: 나이\n",
    "- workclass: 고용 형태\n",
    "- fnlwgt: 사람의 대표성을 나타내는 가중치(final weight)\n",
    "- education: 교육 수준\n",
    "- education.num: 교육 수준 수치\n",
    "- marital.status: 결혼 상태\n",
    "- occupation: 업종\n",
    "- relationship: 가족 관계\n",
    "- race: 인종\n",
    "- sex: 성별\n",
    "- capital.gain: 양도 소득\n",
    "- capital.loss: 양도 손실\n",
    "- hours.per.week: 주당 근무 시간\n",
    "- native.country: 국적\n",
    "- income: 수익 (예측해야 하는 값)"
   ],
   "metadata": {
    "collapsed": false
   }
  },
  {
   "cell_type": "code",
   "execution_count": 432,
   "outputs": [
    {
     "data": {
      "text/plain": "((26048, 15), (6513, 15), (26048, 2), (6513, 2))"
     },
     "execution_count": 432,
     "metadata": {},
     "output_type": "execute_result"
    }
   ],
   "source": [
    "# 시험환경 세팅 (코드 변경 X)\n",
    "import pandas as pd\n",
    "import numpy as np\n",
    "from sklearn.model_selection import train_test_split\n",
    "\n",
    "def exam_data_load(df, target, id_name=\"\", null_name=\"\"):\n",
    "    if id_name == \"\":\n",
    "        df = df.reset_index().rename(columns={\"index\": \"id\"})\n",
    "        id_name = 'id'\n",
    "    else:\n",
    "        id_name = id_name\n",
    "\n",
    "    if null_name != \"\":\n",
    "        df[df == null_name] = np.nan\n",
    "\n",
    "    X_train, X_test = train_test_split(df, test_size=0.2, random_state=2021)\n",
    "\n",
    "    y_train = X_train[[id_name, target]]\n",
    "    X_train = X_train.drop(columns=[target])\n",
    "\n",
    "\n",
    "    y_test = X_test[[id_name, target]]\n",
    "    X_test = X_test.drop(columns=[target])\n",
    "    return X_train, X_test, y_train, y_test\n",
    "\n",
    "df = pd.read_csv('data/adult.csv')\n",
    "X_train, X_test, y_train, y_test = exam_data_load(df, target='income', null_name='?')\n",
    "\n",
    "X_train.shape, X_test.shape, y_train.shape, y_test.shape"
   ],
   "metadata": {
    "collapsed": false,
    "pycharm": {
     "name": "#%%\n"
    }
   }
  },
  {
   "cell_type": "code",
   "execution_count": 433,
   "outputs": [
    {
     "name": "stdout",
     "output_type": "stream",
     "text": [
      "          id  age         workclass  fnlwgt     education  education.num  \\\n",
      "21851  21851   36           Private  241998     Bachelors             13   \n",
      "7632    7632   53           Private  103950       Masters             14   \n",
      "27878  27878   19           Private  203061  Some-college             10   \n",
      "14121  14121   20           Private  102607       HS-grad              9   \n",
      "32345  32345   54         State-gov  138852       HS-grad              9   \n",
      "...      ...  ...               ...     ...           ...            ...   \n",
      "2669    2669   45           Private  187370       Masters             14   \n",
      "17536  17536   36           Private  174308          11th              7   \n",
      "6201    6201   47           Private  275361    Assoc-acdm             12   \n",
      "27989  27989   50  Self-emp-not-inc  196504     Doctorate             16   \n",
      "25716  25716   19           Private  410543       HS-grad              9   \n",
      "\n",
      "           marital.status         occupation   relationship   race     sex  \\\n",
      "21851  Married-civ-spouse       Craft-repair        Husband  White    Male   \n",
      "7632             Divorced     Prof-specialty  Not-in-family  White  Female   \n",
      "27878       Never-married       Tech-support  Not-in-family  White  Female   \n",
      "14121       Never-married  Handlers-cleaners      Own-child  White    Male   \n",
      "32345  Married-civ-spouse     Prof-specialty        Husband  White    Male   \n",
      "...                   ...                ...            ...    ...     ...   \n",
      "2669             Divorced    Exec-managerial      Unmarried  White    Male   \n",
      "17536            Divorced   Transport-moving  Not-in-family  White    Male   \n",
      "6201              Widowed      Other-service      Own-child  White  Female   \n",
      "27989  Married-civ-spouse     Prof-specialty        Husband  White    Male   \n",
      "25716       Never-married       Adm-clerical  Not-in-family  White  Female   \n",
      "\n",
      "       capital.gain  capital.loss  hours.per.week native.country  \n",
      "21851             0             0              50  United-States  \n",
      "7632              0             0              40  United-States  \n",
      "27878             0             0              25  United-States  \n",
      "14121             0             0              30  United-States  \n",
      "32345             0             0              40  United-States  \n",
      "...             ...           ...             ...            ...  \n",
      "2669           7430             0              70  United-States  \n",
      "17536             0             0              40  United-States  \n",
      "6201              0             0              35  United-States  \n",
      "27989             0             0              23  United-States  \n",
      "25716             0             0              40  United-States  \n",
      "\n",
      "[26048 rows x 15 columns]\n",
      "----------------------------------------------------------\n",
      "          id income\n",
      "21851  21851   >50K\n",
      "7632    7632  <=50K\n",
      "27878  27878  <=50K\n",
      "14121  14121  <=50K\n",
      "32345  32345  <=50K\n",
      "...      ...    ...\n",
      "2669    2669   >50K\n",
      "17536  17536  <=50K\n",
      "6201    6201  <=50K\n",
      "27989  27989  <=50K\n",
      "25716  25716  <=50K\n",
      "\n",
      "[26048 rows x 2 columns]\n",
      "----------------------------------------------------------\n",
      "id                   0\n",
      "age                  0\n",
      "workclass         1456\n",
      "fnlwgt               0\n",
      "education            0\n",
      "education.num        0\n",
      "marital.status       0\n",
      "occupation        1463\n",
      "relationship         0\n",
      "race                 0\n",
      "sex                  0\n",
      "capital.gain         0\n",
      "capital.loss         0\n",
      "hours.per.week       0\n",
      "native.country     461\n",
      "dtype: int64\n",
      "----------------------------------------------------------\n",
      "id                  0\n",
      "age                 0\n",
      "workclass         380\n",
      "fnlwgt              0\n",
      "education           0\n",
      "education.num       0\n",
      "marital.status      0\n",
      "occupation        380\n",
      "relationship        0\n",
      "race                0\n",
      "sex                 0\n",
      "capital.gain        0\n",
      "capital.loss        0\n",
      "hours.per.week      0\n",
      "native.country    122\n",
      "dtype: int64\n"
     ]
    }
   ],
   "source": [
    "# EDA\n",
    "\n",
    "print(X_train)\n",
    "print('----------------------------------------------------------')\n",
    "# print(X_test)\n",
    "# print('----------------------------------------------------------')\n",
    "print(y_train)\n",
    "\n",
    "print('----------------------------------------------------------')\n",
    "print(X_train.isna().sum())\n",
    "print('----------------------------------------------------------')\n",
    "print(X_test.isna().sum())"
   ],
   "metadata": {
    "collapsed": false,
    "pycharm": {
     "name": "#%%\n"
    }
   }
  },
  {
   "cell_type": "code",
   "execution_count": 434,
   "outputs": [],
   "source": [
    "# feature 구분\n",
    "numeric_features = ['age', 'fnlwgt', 'education.num', 'capital.gain','capital.loss', 'hours.per.week']\n",
    "cat_features = ['workclass', 'education', 'marital.status', 'occupation', 'relationship', 'race', 'sex', 'native.country']"
   ],
   "metadata": {
    "collapsed": false,
    "pycharm": {
     "name": "#%%\n"
    }
   }
  },
  {
   "cell_type": "code",
   "execution_count": 435,
   "outputs": [
    {
     "name": "stdout",
     "output_type": "stream",
     "text": [
      "id                0\n",
      "age               0\n",
      "workclass         0\n",
      "fnlwgt            0\n",
      "education         0\n",
      "education.num     0\n",
      "marital.status    0\n",
      "occupation        0\n",
      "relationship      0\n",
      "race              0\n",
      "sex               0\n",
      "capital.gain      0\n",
      "capital.loss      0\n",
      "hours.per.week    0\n",
      "native.country    0\n",
      "dtype: int64\n",
      "----------------------------------------------------------\n",
      "id                0\n",
      "age               0\n",
      "workclass         0\n",
      "fnlwgt            0\n",
      "education         0\n",
      "education.num     0\n",
      "marital.status    0\n",
      "occupation        0\n",
      "relationship      0\n",
      "race              0\n",
      "sex               0\n",
      "capital.gain      0\n",
      "capital.loss      0\n",
      "hours.per.week    0\n",
      "native.country    0\n",
      "dtype: int64\n"
     ]
    }
   ],
   "source": [
    "# 결측치는 최빈값과 차이가 크면 최빈값으로, 값이 비슷하면 별도의 값으로 대체\n",
    "\n",
    "X_train['workclass'] = X_train['workclass'].fillna(X_train['workclass'].mode()[0])\n",
    "X_train['occupation'] = X_train['occupation'].fillna('null')\n",
    "X_train['native.country'] = X_train['native.country'].fillna(X_train['native.country'].mode()[0])\n",
    "\n",
    "X_test['workclass'] = X_test['workclass'].fillna(X_test['workclass'].mode()[0])\n",
    "X_test['occupation'] = X_test['occupation'].fillna('null')\n",
    "X_test['native.country'] = X_test['native.country'].fillna(X_test['native.country'].mode()[0])\n",
    "\n",
    "print(X_train.isnull().sum())\n",
    "print('----------------------------------------------------------')\n",
    "print(X_test.isnull().sum())"
   ],
   "metadata": {
    "collapsed": false,
    "pycharm": {
     "name": "#%%\n"
    }
   }
  },
  {
   "cell_type": "code",
   "execution_count": 436,
   "outputs": [
    {
     "name": "stdout",
     "output_type": "stream",
     "text": [
      "          id  age  workclass  fnlwgt  education  education.num  \\\n",
      "21851  21851   36          3  241998          9             13   \n",
      "7632    7632   53          3  103950         12             14   \n",
      "27878  27878   19          3  203061         15             10   \n",
      "14121  14121   20          3  102607         11              9   \n",
      "32345  32345   54          6  138852         11              9   \n",
      "...      ...  ...        ...     ...        ...            ...   \n",
      "2669    2669   45          3  187370         12             14   \n",
      "17536  17536   36          3  174308          1              7   \n",
      "6201    6201   47          3  275361          7             12   \n",
      "27989  27989   50          5  196504         10             16   \n",
      "25716  25716   19          3  410543         11              9   \n",
      "\n",
      "       marital.status  occupation  relationship  race  sex  capital.gain  \\\n",
      "21851               2           2             0     4    1             0   \n",
      "7632                0           9             1     4    0             0   \n",
      "27878               4          12             1     4    0             0   \n",
      "14121               4           5             3     4    1             0   \n",
      "32345               2           9             0     4    1             0   \n",
      "...               ...         ...           ...   ...  ...           ...   \n",
      "2669                0           3             4     4    1          7430   \n",
      "17536               0          13             1     4    1             0   \n",
      "6201                6           7             3     4    0             0   \n",
      "27989               2           9             0     4    1             0   \n",
      "25716               4           0             1     4    0             0   \n",
      "\n",
      "       capital.loss  hours.per.week  native.country  \n",
      "21851             0              50              38  \n",
      "7632              0              40              38  \n",
      "27878             0              25              38  \n",
      "14121             0              30              38  \n",
      "32345             0              40              38  \n",
      "...             ...             ...             ...  \n",
      "2669              0              70              38  \n",
      "17536             0              40              38  \n",
      "6201              0              35              38  \n",
      "27989             0              23              38  \n",
      "25716             0              40              38  \n",
      "\n",
      "[26048 rows x 15 columns]\n"
     ]
    }
   ],
   "source": [
    "# 라벨인코딩\n",
    "from sklearn.preprocessing import LabelEncoder\n",
    "\n",
    "all_df = pd.concat([X_train.assign(ind='train'), X_test.assign(ind='test')])\n",
    "le = LabelEncoder()\n",
    "all_df[cat_features] = all_df[cat_features].apply(le.fit_transform)\n",
    "\n",
    "X_train = all_df[all_df['ind'] == 'train']\n",
    "X_train = X_train.drop('ind', axis=1)\n",
    "\n",
    "X_test = all_df[all_df['ind'] == 'test']\n",
    "X_test = X_test.drop('ind', axis=1)\n",
    "\n",
    "print(X_train)"
   ],
   "metadata": {
    "collapsed": false,
    "pycharm": {
     "name": "#%%\n"
    }
   }
  },
  {
   "cell_type": "code",
   "execution_count": 437,
   "outputs": [
    {
     "name": "stdout",
     "output_type": "stream",
     "text": [
      "          id       age  workclass    fnlwgt  education  education.num  \\\n",
      "21851  21851  0.260274          3  0.156011          9       0.800000   \n",
      "7632    7632  0.493151          3  0.062255         12       0.866667   \n",
      "27878  27878  0.027397          3  0.129566         15       0.600000   \n",
      "14121  14121  0.041096          3  0.061343         11       0.533333   \n",
      "32345  32345  0.506849          6  0.085958         11       0.533333   \n",
      "...      ...       ...        ...       ...        ...            ...   \n",
      "2669    2669  0.383562          3  0.118910         12       0.866667   \n",
      "17536  17536  0.260274          3  0.110039          1       0.400000   \n",
      "6201    6201  0.410959          3  0.178669          7       0.733333   \n",
      "27989  27989  0.452055          5  0.125113         10       1.000000   \n",
      "25716  25716  0.027397          3  0.270479         11       0.533333   \n",
      "\n",
      "       marital.status  occupation  relationship  race  sex  capital.gain  \\\n",
      "21851               2           2             0     4    1      0.000000   \n",
      "7632                0           9             1     4    0      0.000000   \n",
      "27878               4          12             1     4    0      0.000000   \n",
      "14121               4           5             3     4    1      0.000000   \n",
      "32345               2           9             0     4    1      0.000000   \n",
      "...               ...         ...           ...   ...  ...           ...   \n",
      "2669                0           3             4     4    1      0.074301   \n",
      "17536               0          13             1     4    1      0.000000   \n",
      "6201                6           7             3     4    0      0.000000   \n",
      "27989               2           9             0     4    1      0.000000   \n",
      "25716               4           0             1     4    0      0.000000   \n",
      "\n",
      "       capital.loss  hours.per.week  native.country  \n",
      "21851           0.0        0.500000              38  \n",
      "7632            0.0        0.397959              38  \n",
      "27878           0.0        0.244898              38  \n",
      "14121           0.0        0.295918              38  \n",
      "32345           0.0        0.397959              38  \n",
      "...             ...             ...             ...  \n",
      "2669            0.0        0.704082              38  \n",
      "17536           0.0        0.397959              38  \n",
      "6201            0.0        0.346939              38  \n",
      "27989           0.0        0.224490              38  \n",
      "25716           0.0        0.397959              38  \n",
      "\n",
      "[26048 rows x 15 columns]\n"
     ]
    }
   ],
   "source": [
    "# 스케일링\n",
    "from sklearn.preprocessing import MinMaxScaler\n",
    "\n",
    "scaler = MinMaxScaler()\n",
    "X_train[numeric_features] = scaler.fit_transform(X_train[numeric_features])\n",
    "X_test[numeric_features] = scaler.fit_transform(X_test[numeric_features])\n",
    "\n",
    "print(X_train)"
   ],
   "metadata": {
    "collapsed": false,
    "pycharm": {
     "name": "#%%\n"
    }
   }
  },
  {
   "cell_type": "code",
   "execution_count": 438,
   "outputs": [
    {
     "name": "stdout",
     "output_type": "stream",
     "text": [
      "21851    1\n",
      "7632     0\n",
      "27878    0\n",
      "14121    0\n",
      "32345    0\n",
      "Name: income, dtype: int32\n"
     ]
    }
   ],
   "source": [
    "# target 값 변경\n",
    "y = (y_train['income'] != '<=50K').astype(int)\n",
    "print(y.head())"
   ],
   "metadata": {
    "collapsed": false,
    "pycharm": {
     "name": "#%%\n"
    }
   }
  },
  {
   "cell_type": "code",
   "execution_count": 439,
   "outputs": [
    {
     "name": "stdout",
     "output_type": "stream",
     "text": [
      "(22140, 15) (3908, 15) (22140,) (3908,)\n"
     ]
    }
   ],
   "source": [
    "# 검증용 데이터 분리\n",
    "from sklearn.model_selection import train_test_split\n",
    "\n",
    "X_tr, X_val, y_tr, y_val = train_test_split(X_train, y, test_size=0.15, random_state=2021)\n",
    "print(X_tr.shape, X_val.shape, y_tr.shape, y_val.shape)"
   ],
   "metadata": {
    "collapsed": false,
    "pycharm": {
     "name": "#%%\n"
    }
   }
  },
  {
   "cell_type": "code",
   "execution_count": 440,
   "outputs": [
    {
     "name": "stdout",
     "output_type": "stream",
     "text": [
      "            age  workclass    fnlwgt  education  education.num  \\\n",
      "1437   0.191781          3  0.216501          9       0.800000   \n",
      "7151   0.287671          5  0.127591         11       0.533333   \n",
      "30296  0.424658          3  0.217452          9       0.800000   \n",
      "15372  0.452055          3  0.142442         11       0.533333   \n",
      "13800  0.178082          3  0.187243         15       0.600000   \n",
      "\n",
      "       marital.status  occupation  relationship  race  sex  capital.gain  \\\n",
      "1437                4           3             1     4    0           0.0   \n",
      "7151                2           2             0     4    1           0.0   \n",
      "30296               2           9             0     4    1           0.0   \n",
      "15372               2           2             0     4    1           0.0   \n",
      "13800               4           5             1     4    1           0.0   \n",
      "\n",
      "       capital.loss  hours.per.week  native.country  \n",
      "1437       0.323232        0.397959              38  \n",
      "7151       0.000000        0.602041              38  \n",
      "30296      0.000000        0.346939              38  \n",
      "15372      0.000000        0.397959              38  \n",
      "13800      0.000000        0.397959              38  \n"
     ]
    }
   ],
   "source": [
    "# id 삭제\n",
    "X_tr = X_tr.drop('id', axis=1)\n",
    "X_val = X_val.drop('id', axis=1)\n",
    "print(X_tr.head())"
   ],
   "metadata": {
    "collapsed": false,
    "pycharm": {
     "name": "#%%\n"
    }
   }
  },
  {
   "cell_type": "code",
   "execution_count": 441,
   "outputs": [
    {
     "name": "stdout",
     "output_type": "stream",
     "text": [
      "0.851842374616172\n"
     ]
    }
   ],
   "source": [
    "# 랜덤포레스트\n",
    "from sklearn.ensemble import RandomForestClassifier\n",
    "from sklearn.metrics import accuracy_score\n",
    "\n",
    "model = RandomForestClassifier(random_state=10)\n",
    "model.fit(X_tr, y_tr)\n",
    "pred = model.predict(X_val)\n",
    "print(accuracy_score(y_val, pred))"
   ],
   "metadata": {
    "collapsed": false,
    "pycharm": {
     "name": "#%%\n"
    }
   }
  },
  {
   "cell_type": "code",
   "execution_count": 442,
   "outputs": [],
   "source": [
    "# test 데이터 예측\n",
    "X_test_id = X_test.pop('id')\n",
    "pred = model.predict(X_test)"
   ],
   "metadata": {
    "collapsed": false,
    "pycharm": {
     "name": "#%%\n"
    }
   }
  },
  {
   "cell_type": "code",
   "execution_count": 443,
   "outputs": [
    {
     "name": "stdout",
     "output_type": "stream",
     "text": [
      "          id  income\n",
      "20901  20901       1\n",
      "14170  14170       0\n",
      "1776    1776       1\n",
      "30428  30428       0\n",
      "8602    8602       0\n"
     ]
    }
   ],
   "source": [
    "# csv 생성\n",
    "output = pd.DataFrame({'id' : X_test_id, 'income' : pred})\n",
    "output.to_csv('csv/T2-3.csv', index=False)\n",
    "print(output.head())"
   ],
   "metadata": {
    "collapsed": false,
    "pycharm": {
     "name": "#%%\n"
    }
   }
  },
  {
   "cell_type": "markdown",
   "source": [
    "## **T2-5 Insurance_Starter (Tutorial)**\n",
    "\n",
    "보험료(charges) 예측"
   ],
   "metadata": {
    "collapsed": false
   }
  },
  {
   "cell_type": "code",
   "execution_count": 444,
   "outputs": [
    {
     "data": {
      "text/plain": "((1070, 7), (268, 7), (1070, 2), (268, 2))"
     },
     "execution_count": 444,
     "metadata": {},
     "output_type": "execute_result"
    }
   ],
   "source": [
    "# 시험환경 세팅 (코드 변경 X)\n",
    "import pandas as pd\n",
    "import numpy as np\n",
    "from sklearn.model_selection import train_test_split\n",
    "\n",
    "def exam_data_load(df, target, id_name=\"\", null_name=\"\"):\n",
    "    if id_name == \"\":\n",
    "        df = df.reset_index().rename(columns={\"index\": \"id\"})\n",
    "        id_name = 'id'\n",
    "    else:\n",
    "        id_name = id_name\n",
    "\n",
    "    if null_name != \"\":\n",
    "        df[df == null_name] = np.nan\n",
    "\n",
    "    X_train, X_test = train_test_split(df, test_size=0.2, random_state=2021)\n",
    "\n",
    "    y_train = X_train[[id_name, target]]\n",
    "    X_train = X_train.drop(columns=[target])\n",
    "\n",
    "\n",
    "    y_test = X_test[[id_name, target]]\n",
    "    X_test = X_test.drop(columns=[target])\n",
    "    return X_train, X_test, y_train, y_test\n",
    "\n",
    "df = pd.read_csv(\"data/insurance.csv\")\n",
    "X_train, X_test, y_train, y_test = exam_data_load(df, target='charges', null_name='NA')\n",
    "\n",
    "X_train.shape, X_test.shape, y_train.shape, y_test.shape"
   ],
   "metadata": {
    "collapsed": false,
    "pycharm": {
     "name": "#%%\n"
    }
   }
  },
  {
   "cell_type": "code",
   "execution_count": 454,
   "outputs": [
    {
     "name": "stdout",
     "output_type": "stream",
     "text": [
      "           age  sex       bmi  children  smoker  region\n",
      "209   0.478261    1  0.679849         1       0       0\n",
      "540   0.347826    0  0.592951         3       0       3\n",
      "747   0.021739    1  0.155905         0       0       1\n",
      "39    0.913043    1  0.644068         0       1       3\n",
      "640   0.326087    1  0.711326         5       0       3\n",
      "...        ...  ...       ...       ...     ...     ...\n",
      "44    0.434783    1  0.567393         1       0       0\n",
      "621   0.413043    1  0.488028         4       1       3\n",
      "1152  0.543478    0  0.446597         3       1       2\n",
      "57    0.000000    1  0.422922         2       1       2\n",
      "1140  0.695652    1  0.567931         1       0       2\n",
      "\n",
      "[1070 rows x 6 columns]\n",
      "--------------------------------------------\n",
      "        id      charges\n",
      "209    209   6610.10970\n",
      "540    540   6196.44800\n",
      "747    747   1627.28245\n",
      "39      39  48173.36100\n",
      "640    640   6666.24300\n",
      "...    ...          ...\n",
      "44      44   6079.67150\n",
      "621    621  40182.24600\n",
      "1152  1152  40941.28540\n",
      "57      57  34303.16720\n",
      "1140  1140   9048.02730\n",
      "\n",
      "[1070 rows x 2 columns]\n",
      "--------------------------------------------\n",
      "age         0\n",
      "sex         0\n",
      "bmi         0\n",
      "children    0\n",
      "smoker      0\n",
      "region      0\n",
      "dtype: int64\n",
      "--------------------------------------------\n",
      "           age  sex       bmi  children  smoker  region\n",
      "1088  0.739130    1  0.958451         1       0       2\n",
      "1157  0.108696    0  0.185395         2       0       1\n",
      "1267  0.130435    1  0.433585         0       1       0\n",
      "506   0.086957    1  0.442556         1       0       1\n",
      "659   0.847826    0  0.361819         4       0       0\n",
      "...        ...  ...       ...       ...     ...     ...\n",
      "1275  0.847826    1  0.201763         0       0       3\n",
      "88    0.608696    0  0.328927         0       0       1\n",
      "646   0.456522    1  0.281083         1       0       1\n",
      "654   0.891304    0  0.563739         0       0       2\n",
      "116   0.869565    1  1.000000         0       0       2\n",
      "\n",
      "[268 rows x 6 columns]\n",
      "--------------------------------------------\n",
      "1088     9748\n",
      "1157    14426\n",
      "1267    34254\n",
      "506      2643\n",
      "659     14394\n",
      "        ...  \n",
      "1275    10959\n",
      "88       8026\n",
      "646      6123\n",
      "654     12244\n",
      "116     11381\n",
      "Name: charges, Length: 268, dtype: int32\n"
     ]
    }
   ],
   "source": [
    "# EDA\n",
    "\n",
    "print(X_train)\n",
    "print('--------------------------------------------')\n",
    "print(y_train)\n",
    "print('--------------------------------------------')\n",
    "print(X_train.isna().sum())\n",
    "print('--------------------------------------------')\n",
    "print(X_test)\n",
    "print('--------------------------------------------')\n",
    "print(y_test)"
   ],
   "metadata": {
    "collapsed": false,
    "pycharm": {
     "name": "#%%\n"
    }
   }
  },
  {
   "cell_type": "code",
   "execution_count": 446,
   "outputs": [
    {
     "name": "stdout",
     "output_type": "stream",
     "text": [
      "     age     sex     bmi  children smoker     region\n",
      "209   40    male  41.230         1     no  northeast\n",
      "540   34  female  38.000         3     no  southwest\n",
      "747   19    male  21.755         0     no  northwest\n",
      "39    60    male  39.900         0    yes  southwest\n",
      "640   33    male  42.400         5     no  southwest\n",
      "      age     sex     bmi  children smoker     region\n",
      "1088   52    male  47.740         1     no  southeast\n",
      "1157   23  female  23.180         2     no  northwest\n",
      "1267   24    male  31.065         0    yes  northeast\n",
      "506    22    male  31.350         1     no  northwest\n",
      "659    57  female  28.785         4     no  northeast\n"
     ]
    }
   ],
   "source": [
    "# 필요없는 칼럼 drop\n",
    "X_train = X_train.drop(columns=['id'])\n",
    "X_test_id = X_test.pop('id')\n",
    "\n",
    "print(X_train.head())\n",
    "print(X_test.head())"
   ],
   "metadata": {
    "collapsed": false,
    "pycharm": {
     "name": "#%%\n"
    }
   }
  },
  {
   "cell_type": "code",
   "execution_count": 447,
   "outputs": [
    {
     "name": "stdout",
     "output_type": "stream",
     "text": [
      "     age  sex     bmi  children  smoker  region\n",
      "209   40    1  41.230         1       0       0\n",
      "540   34    0  38.000         3       0       3\n",
      "747   19    1  21.755         0       0       1\n",
      "39    60    1  39.900         0       1       3\n",
      "640   33    1  42.400         5       0       3\n",
      "      age  sex     bmi  children  smoker  region\n",
      "1088   52    1  47.740         1       0       2\n",
      "1157   23    0  23.180         2       0       1\n",
      "1267   24    1  31.065         0       1       0\n",
      "506    22    1  31.350         1       0       1\n",
      "659    57    0  28.785         4       0       0\n"
     ]
    }
   ],
   "source": [
    "# 라벨인코딩\n",
    "from sklearn.preprocessing import LabelEncoder\n",
    "\n",
    "le = LabelEncoder()\n",
    "cols = ['sex', 'smoker', 'region']\n",
    "\n",
    "for col in cols :\n",
    "    X_train[col] = le.fit_transform(X_train[col])\n",
    "    X_test[col] = le.fit_transform(X_test[col])\n",
    "\n",
    "print(X_train.head())\n",
    "print(X_test.head())"
   ],
   "metadata": {
    "collapsed": false,
    "pycharm": {
     "name": "#%%\n"
    }
   }
  },
  {
   "cell_type": "code",
   "execution_count": 448,
   "outputs": [
    {
     "name": "stdout",
     "output_type": "stream",
     "text": [
      "          age  sex       bmi  children  smoker  region\n",
      "209  0.478261    1  0.679849         1       0       0\n",
      "540  0.347826    0  0.592951         3       0       3\n",
      "747  0.021739    1  0.155905         0       0       1\n",
      "39   0.913043    1  0.644068         0       1       3\n",
      "640  0.326087    1  0.711326         5       0       3\n",
      "           age  sex       bmi  children  smoker  region\n",
      "1088  0.739130    1  0.958451         1       0       2\n",
      "1157  0.108696    0  0.185395         2       0       1\n",
      "1267  0.130435    1  0.433585         0       1       0\n",
      "506   0.086957    1  0.442556         1       0       1\n",
      "659   0.847826    0  0.361819         4       0       0\n"
     ]
    }
   ],
   "source": [
    "# 정규화\n",
    "from sklearn.preprocessing import MinMaxScaler\n",
    "\n",
    "scaler = MinMaxScaler()\n",
    "cols = ['age', 'bmi']\n",
    "X_train[cols] = scaler.fit_transform(X_train[cols])\n",
    "X_test[cols] = scaler.fit_transform(X_test[cols])\n",
    "\n",
    "print(X_train.head())\n",
    "print(X_test.head())"
   ],
   "metadata": {
    "collapsed": false,
    "pycharm": {
     "name": "#%%\n"
    }
   }
  },
  {
   "cell_type": "code",
   "execution_count": 449,
   "outputs": [
    {
     "name": "stdout",
     "output_type": "stream",
     "text": [
      "0.8941691957828958\n"
     ]
    }
   ],
   "source": [
    "# 랜덤포레스트\n",
    "from sklearn.ensemble import RandomForestRegressor\n",
    "\n",
    "model = RandomForestRegressor(random_state=10, max_depth=5)\n",
    "model.fit(X_train, y_train['charges'])\n",
    "print(model.score(X_train, y_train['charges']))"
   ],
   "metadata": {
    "collapsed": false,
    "pycharm": {
     "name": "#%%\n"
    }
   }
  },
  {
   "cell_type": "code",
   "execution_count": 450,
   "outputs": [
    {
     "name": "stdout",
     "output_type": "stream",
     "text": [
      "[13843.56840978  6870.93384094 34986.21630906  4934.30538283\n",
      " 16397.52238137  5492.04157459  9393.11057678 13603.16589729\n",
      "  3166.87859002 15243.52883884 14465.49265812 12809.23165146\n",
      " 12821.66508087 10740.12896235  3374.58398734 16597.26271447\n",
      " 14161.08387802  3839.72621266  3027.43385238 11608.47613296\n",
      " 10695.35510046  5113.5548287   4387.01782675 16164.4740623\n",
      " 10450.26527831 12217.81711158  5119.10559729  7211.99092214\n",
      " 16148.39345504  5595.87621047  3046.16264009  6285.50033991\n",
      " 13494.53994148 17901.18488966  6649.53475485  3352.46296398\n",
      "  2903.47530028 42100.12491526  8886.10050061  9041.54761697\n",
      " 12761.59912379  2991.84379054  3795.50698603 12794.77950596\n",
      " 11202.38396336  3036.61139624 13888.49017483 15223.32154069\n",
      " 43754.99248219  3472.74314923  7180.2194738   5389.86859901\n",
      "  8293.26842359 42652.03205012  2549.81269173 14015.1107972\n",
      "  5541.96575652  7545.478069   24367.66278357  6514.13210039\n",
      "  4502.88908379  7027.30158179 11590.50013538 12794.81758646\n",
      "  4439.35756481 11078.47583417  2700.93665999  2757.79835726\n",
      " 43626.07615336  5831.2759417  10158.0251804   7016.80179444\n",
      " 12660.92042606  7231.03209682  7200.52695082 23743.28549793\n",
      "  6289.99783347  5111.87164688 19386.35090365 12882.83436491\n",
      "  3855.1760608   5505.78425059  3689.41258102 21575.92869833\n",
      "  8180.17620846  6889.2466898   7023.92775497 49669.65783511\n",
      "  3472.74314923  6352.64380919  5597.10356532  7832.63648933\n",
      "  9875.17659907  8041.99855183  6837.37168578 39664.49668556\n",
      "  6845.37201943  6747.11377428  5006.38917517  2798.13585599\n",
      " 47877.35221868  6318.26864061  3046.16264009 11200.1076493\n",
      " 13058.37916791 13023.29991276  7510.20253793  4679.57640616\n",
      " 45996.96028794  7475.45920842 12794.77950596  7144.75395302\n",
      " 15544.40561856 16004.45396253 11101.18646557  7738.86406098\n",
      "  3059.27221209 47324.97037819 11797.9290267  12775.75442241\n",
      " 10576.02215087 12547.65893403 12831.39766836 43981.23657409\n",
      " 19826.9618695   3616.67804776  3637.23994891 44120.52044194\n",
      " 24076.73623894  7568.34226745 46019.52784411  6222.74797261\n",
      "  2801.85190555  7307.21213591 12938.80936427  8886.10050061\n",
      " 14122.24022619 10802.3588254  41970.50048794  5426.83024172\n",
      " 11215.52957049  7993.01011395 17481.44241463 13030.14876391\n",
      "  6373.78272527 17138.78048031  3720.01109728  8672.25220181\n",
      "  7142.78792047 12888.19957567 12726.49566447  2665.58078599\n",
      "  3046.16264009  5808.51151789  7873.18931231 16490.60230599\n",
      " 14047.25385901  5431.77942444 10604.22869768  8990.89884585\n",
      "  7204.55514935 47333.88861404 23326.79104987 14111.38825977\n",
      " 14702.3790979  37668.28897063 23164.59415992  4726.73462966\n",
      "  7614.66968896  3920.96038569  3529.01312775 10048.58499557\n",
      " 11642.42658629 18242.54113543  4582.72750294 12764.83888626\n",
      "  7844.54371418 14018.2089501   7055.35807998  7324.62818787\n",
      " 14099.6712832   2803.66394441  3115.93537409  4619.93501299\n",
      "  6583.23309324  9133.4768731  14093.59711899  9333.73165944\n",
      "  7184.23251788 16504.26870104  5984.59160707 14007.07829638\n",
      " 17709.26371408  6137.34885289  5087.60625093 34996.0804167\n",
      "  5445.44465938 14850.50958369  3416.93224075 18791.92037163\n",
      " 10642.00056537 35883.97361846  6613.92134145  2803.66394441\n",
      " 12788.61219214  8623.61197689  4490.86056419  3516.81044925\n",
      " 27572.84027739  9376.92629269  2966.75871593 46801.97300185\n",
      "  3985.71243822  2549.81269173 14834.12113747 48069.98283358\n",
      "  6800.26469459 14142.6356044  19331.63474943 10465.62252335\n",
      "  6267.42273914 11191.87160449 11466.39688495  4415.35826634\n",
      " 10276.84269214  3701.96224832 10012.76019965  3063.72030028\n",
      " 10351.61523782  2739.30592106  4410.88361491 46366.71962515\n",
      "  7167.49590064 46612.32847931  5595.15662005 42123.58521386\n",
      " 23439.51558416  4086.14205847 13674.19342747 46825.91768889\n",
      " 14196.20769391  2803.66394441 14066.56221181 12803.6810248\n",
      "  5988.28109582 11072.52532574 42847.51347672 12581.78763701\n",
      " 12957.7522401  12933.13304946 14172.21453174  3977.03560613\n",
      " 45461.43215405 15732.97526941  8563.2820911  34909.28386713\n",
      "  3531.51949366  2876.07569628 17749.40685473  6564.9840919\n",
      "  6918.08615912  7512.07552965  9269.89025739 12210.31334215\n",
      "  9981.06303201  6988.22346371 14230.66795614 12749.2469381 ]\n"
     ]
    }
   ],
   "source": [
    "# test 데이터 예측\n",
    "pred = model.predict(X_test)\n",
    "print(pred)"
   ],
   "metadata": {
    "collapsed": false,
    "pycharm": {
     "name": "#%%\n"
    }
   }
  },
  {
   "cell_type": "code",
   "execution_count": 451,
   "outputs": [
    {
     "name": "stdout",
     "output_type": "stream",
     "text": [
      "        id       charges\n",
      "1088  1088  13843.568410\n",
      "1157  1157   6870.933841\n",
      "1267  1267  34986.216309\n",
      "506    506   4934.305383\n",
      "659    659  16397.522381\n"
     ]
    }
   ],
   "source": [
    "# csv 출력\n",
    "output = pd.DataFrame({'id' : X_test_id, 'charges' : pred})\n",
    "output.to_csv('csv/T2-5.csv', index=False)\n",
    "print(output.head())"
   ],
   "metadata": {
    "collapsed": false,
    "pycharm": {
     "name": "#%%\n"
    }
   }
  },
  {
   "cell_type": "markdown",
   "source": [
    "## **T2-6. Bike-sharing-demand**"
   ],
   "metadata": {
    "collapsed": false,
    "pycharm": {
     "name": "#%% md\n"
    }
   }
  },
  {
   "cell_type": "code",
   "execution_count": null,
   "outputs": [],
   "source": [],
   "metadata": {
    "collapsed": false,
    "pycharm": {
     "name": "#%%\n"
    }
   }
  },
  {
   "cell_type": "code",
   "execution_count": null,
   "outputs": [],
   "source": [],
   "metadata": {
    "collapsed": false,
    "pycharm": {
     "name": "#%%\n"
    }
   }
  },
  {
   "cell_type": "code",
   "execution_count": null,
   "outputs": [],
   "source": [],
   "metadata": {
    "collapsed": false,
    "pycharm": {
     "name": "#%%\n"
    }
   }
  },
  {
   "cell_type": "code",
   "execution_count": null,
   "outputs": [],
   "source": [],
   "metadata": {
    "collapsed": false,
    "pycharm": {
     "name": "#%%\n"
    }
   }
  },
  {
   "cell_type": "code",
   "execution_count": null,
   "outputs": [],
   "source": [],
   "metadata": {
    "collapsed": false,
    "pycharm": {
     "name": "#%%\n"
    }
   }
  },
  {
   "cell_type": "code",
   "execution_count": null,
   "outputs": [],
   "source": [],
   "metadata": {
    "collapsed": false,
    "pycharm": {
     "name": "#%%\n"
    }
   }
  },
  {
   "cell_type": "code",
   "execution_count": null,
   "outputs": [],
   "source": [],
   "metadata": {
    "collapsed": false,
    "pycharm": {
     "name": "#%%\n"
    }
   }
  },
  {
   "cell_type": "code",
   "execution_count": null,
   "outputs": [],
   "source": [],
   "metadata": {
    "collapsed": false,
    "pycharm": {
     "name": "#%%\n"
    }
   }
  },
  {
   "cell_type": "code",
   "execution_count": null,
   "outputs": [],
   "source": [],
   "metadata": {
    "collapsed": false,
    "pycharm": {
     "name": "#%%\n"
    }
   }
  },
  {
   "cell_type": "code",
   "execution_count": null,
   "outputs": [],
   "source": [],
   "metadata": {
    "collapsed": false,
    "pycharm": {
     "name": "#%%\n"
    }
   }
  },
  {
   "cell_type": "code",
   "execution_count": null,
   "outputs": [],
   "source": [],
   "metadata": {
    "collapsed": false,
    "pycharm": {
     "name": "#%%\n"
    }
   }
  }
 ],
 "metadata": {
  "kernelspec": {
   "display_name": "Python 3",
   "language": "python",
   "name": "python3"
  },
  "language_info": {
   "codemirror_mode": {
    "name": "ipython",
    "version": 2
   },
   "file_extension": ".py",
   "mimetype": "text/x-python",
   "name": "python",
   "nbconvert_exporter": "python",
   "pygments_lexer": "ipython2",
   "version": "2.7.6"
  }
 },
 "nbformat": 4,
 "nbformat_minor": 0
}